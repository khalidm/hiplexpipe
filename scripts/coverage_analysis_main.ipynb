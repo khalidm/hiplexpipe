{
 "cells": [
  {
   "cell_type": "code",
   "execution_count": 13,
   "metadata": {
    "scrolled": true
   },
   "outputs": [
    {
     "data": {
      "text/html": [
       "<script>\n",
       "code_show=true; \n",
       "function code_toggle() {\n",
       " if (code_show){\n",
       " $('div.input').hide();\n",
       " } else {\n",
       " $('div.input').show();\n",
       " }\n",
       " code_show = !code_show\n",
       "} \n",
       "$( document ).ready(code_toggle);\n",
       "</script>\n",
       "<form action=\"javascript:code_toggle()\"><input type=\"submit\" value=\"show/hide\"></form>"
      ],
      "text/plain": [
       "<IPython.core.display.HTML object>"
      ]
     },
     "execution_count": 13,
     "metadata": {},
     "output_type": "execute_result"
    }
   ],
   "source": [
    "from IPython.display import HTML\n",
    "\n",
    "HTML('''<script>\n",
    "code_show=true; \n",
    "function code_toggle() {\n",
    " if (code_show){\n",
    " $('div.input').hide();\n",
    " } else {\n",
    " $('div.input').show();\n",
    " }\n",
    " code_show = !code_show\n",
    "} \n",
    "$( document ).ready(code_toggle);\n",
    "</script>\n",
    "<form action=\"javascript:code_toggle()\"><input type=\"submit\" value=\"show/hide\"></form>''')"
   ]
  },
  {
   "cell_type": "code",
   "execution_count": 1,
   "metadata": {},
   "outputs": [
    {
     "data": {
      "text/html": [
       "<script>requirejs.config({paths: { 'plotly': ['https://cdn.plot.ly/plotly-latest.min']},});if(!window.Plotly) {{require(['plotly'],function(plotly) {window.Plotly=plotly;});}}</script>"
      ],
      "text/vnd.plotly.v1+html": [
       "<script>requirejs.config({paths: { 'plotly': ['https://cdn.plot.ly/plotly-latest.min']},});if(!window.Plotly) {{require(['plotly'],function(plotly) {window.Plotly=plotly;});}}</script>"
      ]
     },
     "metadata": {},
     "output_type": "display_data"
    }
   ],
   "source": [
    "import pandas as pd\n",
    "import numpy as np\n",
    "\n",
    "import plotly.plotly as py\n",
    "import plotly.graph_objs as go\n",
    "from plotly.offline import download_plotlyjs, init_notebook_mode, plot, iplot\n",
    "from plotly.graph_objs import Bar, Scatter, Figure, Layout, Histogram\n",
    "\n",
    "import os, glob\n",
    "from os import listdir\n",
    "from os.path import isfile, join\n",
    "\n",
    "import yaml\n",
    "\n",
    "init_notebook_mode(connected=True)"
   ]
  },
  {
   "cell_type": "code",
   "execution_count": 2,
   "metadata": {
    "collapsed": true
   },
   "outputs": [],
   "source": [
    "def prepend_file(filename, line):\n",
    "    with open(filename, 'r+') as f:\n",
    "        content = f.read()\n",
    "        f.seek(0, 0)\n",
    "        f.write(line.rstrip('\\r\\n') + '\\n' + content)"
   ]
  },
  {
   "cell_type": "code",
   "execution_count": 3,
   "metadata": {
    "collapsed": true
   },
   "outputs": [],
   "source": [
    "config_file = \"pipeline.config\"\n",
    "target_bed = \"\"\n",
    "with open(config_file, 'r') as stream:\n",
    "    try:\n",
    "        target_bed = yaml.load(stream)['target_bed']\n",
    "    except yaml.YAMLError as exc:\n",
    "        print(\"Error with config file: \" + exc)"
   ]
  },
  {
   "cell_type": "code",
   "execution_count": 4,
   "metadata": {
    "collapsed": true
   },
   "outputs": [],
   "source": [
    "bam_files = []\n",
    "sample_names = []\n",
    "\n",
    "current_dir = os.getcwd()\n",
    "mypath = current_dir + \"/\" + \"alignments/\"\n",
    "\n",
    "# for filename in glob.glob(\"bams/*.primary.primerclipped.bam\"):\n",
    "#     files.append(filename)    \n",
    "#     names.append(os.path.basename(filename))\n",
    "\n",
    "for root, dirs, files in os.walk(mypath):\n",
    "    for cfile in files:\n",
    "        if cfile.endswith(\".primary.primerclipped.bam\"):\n",
    "            current_file = mypath + str(cfile)\n",
    "            bam_files.append(os.path.join(root, cfile))\n",
    "            temp_bam_file = os.path.basename(os.path.join(root, cfile))\n",
    "            sample_names.append(os.path.basename(cfile))\n",
    "# file = None            \n",
    "\n",
    "output = \"coverage/multicov.txt\"\n",
    "# # command = \"bedtools multicov -bams \" + ' '.join(files) + \" \" + \"-bed CRC_10g_23May16.final.rover.bed > \" + output\n",
    "command = \"bedtools multicov -bams \" + ' '.join(bam_files) + \" \" + \"-bed \" + target_bed + \" > \" + output\n",
    "# print command\n",
    "!$command\n",
    "sample_names.insert(0, \"chr\")\n",
    "sample_names.insert(1, \"start\")\n",
    "sample_names.insert(2, \"end\")\n",
    "sample_names.insert(3, \"block\")\n",
    "sample_names.insert(4, \"name2\")\n",
    "# with file(output, 'r') as original: data = original.read()\n",
    "new_header = str('\\t'.join(sample_names)) + \"\\n\"\n",
    "# with file(output, 'w') as modified: modified.write(new_header + data)\n",
    "prepend_file(output, new_header)"
   ]
  },
  {
   "cell_type": "code",
   "execution_count": 5,
   "metadata": {
    "collapsed": true
   },
   "outputs": [],
   "source": [
    "# GET GENE LIST\n",
    "gene_list = sorted(set([x.split('\\t')[3].split('_')[0] for x in open(target_bed).readlines()]))"
   ]
  },
  {
   "cell_type": "code",
   "execution_count": 6,
   "metadata": {
    "collapsed": true
   },
   "outputs": [],
   "source": [
    "coverage_file = output\n",
    "# gene_list = ['POLD1', 'POLE', 'RNF43', 'FAN1', 'FAT1' ]\n",
    "# gene_list = [ 'FAN1', 'FAT1', 'GMPS', 'NTHL1', 'OGG1', 'POLD1', 'POLE', 'POLQ', 'RNF43', 'TRIP4' ]\n",
    "# gene_list = [ 'APC', 'APCProm1a', 'APCProm1b;APC', 'AXIN2', 'BMPR1A', 'BRCA1', 'BRCA2', 'GREM1', 'HOXB13G84E', 'MLH1', 'MSH2', 'MSH3', 'MSH6', 'MUTYH', 'NTHL1', 'PMS2', 'POLD1', 'POLE', 'POLE2', 'PTEN', 'RNF43', 'RNF43WRE1', 'RNF43WRE2', 'RPS20', 'SMAD4', 'STK11', 'TP53' ]\n",
    "df_cov = pd.read_csv(coverage_file, sep='\\t', header=0, index_col=\"block\")\n",
    "df_cov = df_cov.drop('chr', 1)\n",
    "df_cov = df_cov.drop('start', 1)\n",
    "df_cov = df_cov.drop('end', 1)\n",
    "df_cov = df_cov.drop('name2', 1)\n",
    "df_cov = df_cov.fillna(-1)\n",
    "#samples = names[5:]\n",
    "samples = list(df_cov)"
   ]
  },
  {
   "cell_type": "code",
   "execution_count": 7,
   "metadata": {
    "scrolled": true
   },
   "outputs": [
    {
     "data": {
      "application/vnd.plotly.v1+json": {
       "data": [
        {
         "colorscale": [
          [
           0,
           "rgb(77,0,75)"
          ],
          [
           0.1,
           "rgb(77,0,75)"
          ],
          [
           0.1,
           "rgb(129,15,124)"
          ],
          [
           0.2,
           "rgb(129,15,124)"
          ],
          [
           0.2,
           "rgb(136,65,157)"
          ],
          [
           0.3,
           "rgb(136,65,157)"
          ],
          [
           0.3,
           "rgb(140,107,177)"
          ],
          [
           0.4,
           "rgb(140,107,177)"
          ],
          [
           0.4,
           "rgb(140,150,198)"
          ],
          [
           0.5,
           "rgb(140,150,198)"
          ],
          [
           0.5,
           "rgb(158,188,218)"
          ],
          [
           0.6,
           "rgb(158,188,218)"
          ],
          [
           0.6,
           "rgb(191,211,230)"
          ],
          [
           0.7,
           "rgb(191,211,230)"
          ],
          [
           0.7,
           "rgb(224,236,244)"
          ],
          [
           0.8,
           "rgb(224,236,244)"
          ],
          [
           0.8,
           "rgb(247,252,253)"
          ],
          [
           1,
           "rgb(247,252,253)"
          ]
         ],
         "opacity": 0.7,
         "showscale": false,
         "type": "heatmap",
         "x": [
          "Sample13_GSN-S301.primary.primerclipped.bam",
          "Sample36_GSN-S324.primary.primerclipped.bam",
          "Sample91_GSN-S379.primary.primerclipped.bam"
         ],
         "y": [
          "FAN1_1_F1",
          "FAN1_1_F2",
          "FAN1_2_F1",
          "FAN1_2_F2",
          "FAN1_2_F3",
          "FAN1_2_F4",
          "FAN1_2_F5",
          "FAN1_2_F6",
          "FAN1_2_F7",
          "FAN1_2_F8",
          "FAN1_2_F9",
          "FAN1_2_F10",
          "FAN1_2_F11",
          "FAN1_2_F12",
          "FAN1_2_F13",
          "FAN1_2_F14",
          "FAN1_2_F15",
          "FAN1_3_F1",
          "FAN1_3_F2",
          "FAN1_4_F1",
          "FAN1_4_F2",
          "FAN1_4_F3",
          "FAN1_5_F1",
          "FAN1_5_F2",
          "FAN1_5_F3",
          "FAN1_6_F1",
          "FAN1_6_F2",
          "FAN1_7_F1",
          "FAN1_7_F2",
          "FAN1_8_F1",
          "FAN1_8_F2",
          "FAN1_9_F1",
          "FAN1_9_F2",
          "FAN1_9_F3",
          "FAN1_10_F1",
          "FAN1_10_F2",
          "FAN1_11_F1",
          "FAN1_11_F2",
          "FAN1_12_F1",
          "FAN1_12_F2",
          "FAN1_12_F3",
          "FAN1_13_F1",
          "FAN1_13_F2",
          "FAN1_14_F1",
          "FAN1_14_F2",
          "FAN1_15_F1",
          "FAN1_15_F2",
          "FAN1_15_F3",
          "FAN1_15_F4",
          "FAN1_15_F5",
          "FAN1_15_F6",
          "FAN1_15_F7",
          "FAN1_15_F8",
          "FAN1_15_F9",
          "FAN1_15_F10",
          "FAN1_15_F11",
          "FAN1_15_F12",
          "FAN1_15_F13",
          "FAN1_15_F14",
          "FAN1_15_F15",
          "FAN1_15_F16"
         ],
         "z": [
          [
           100,
           100,
           100
          ],
          [
           100,
           100,
           100
          ],
          [
           100,
           100,
           100
          ],
          [
           100,
           100,
           100
          ],
          [
           100,
           100,
           100
          ],
          [
           100,
           100,
           100
          ],
          [
           100,
           100,
           100
          ],
          [
           100,
           100,
           100
          ],
          [
           100,
           100,
           100
          ],
          [
           100,
           100,
           100
          ],
          [
           100,
           100,
           100
          ],
          [
           100,
           100,
           100
          ],
          [
           100,
           100,
           100
          ],
          [
           100,
           100,
           100
          ],
          [
           100,
           100,
           100
          ],
          [
           100,
           100,
           100
          ],
          [
           100,
           100,
           100
          ],
          [
           100,
           100,
           100
          ],
          [
           100,
           100,
           100
          ],
          [
           100,
           100,
           100
          ],
          [
           100,
           100,
           100
          ],
          [
           100,
           100,
           100
          ],
          [
           100,
           100,
           100
          ],
          [
           100,
           100,
           100
          ],
          [
           100,
           100,
           100
          ],
          [
           100,
           100,
           100
          ],
          [
           100,
           100,
           100
          ],
          [
           100,
           100,
           100
          ],
          [
           100,
           100,
           100
          ],
          [
           100,
           100,
           100
          ],
          [
           100,
           100,
           100
          ],
          [
           100,
           100,
           100
          ],
          [
           100,
           100,
           100
          ],
          [
           100,
           100,
           100
          ],
          [
           100,
           100,
           100
          ],
          [
           100,
           100,
           100
          ],
          [
           100,
           100,
           100
          ],
          [
           100,
           100,
           100
          ],
          [
           100,
           100,
           100
          ],
          [
           100,
           100,
           100
          ],
          [
           100,
           100,
           100
          ],
          [
           100,
           100,
           100
          ],
          [
           100,
           100,
           100
          ],
          [
           100,
           100,
           100
          ],
          [
           100,
           100,
           100
          ],
          [
           100,
           100,
           100
          ],
          [
           100,
           100,
           100
          ],
          [
           100,
           100,
           100
          ],
          [
           100,
           100,
           100
          ],
          [
           100,
           100,
           100
          ],
          [
           100,
           100,
           100
          ],
          [
           100,
           100,
           100
          ],
          [
           100,
           100,
           100
          ],
          [
           100,
           100,
           100
          ],
          [
           100,
           100,
           100
          ],
          [
           100,
           100,
           100
          ],
          [
           100,
           100,
           100
          ],
          [
           100,
           100,
           100
          ],
          [
           100,
           100,
           100
          ],
          [
           100,
           100,
           100
          ],
          [
           100,
           100,
           100
          ]
         ]
        }
       ],
       "layout": {
        "height": 600,
        "title": "FAN1 - Per Block Coverage (source: BAM file)",
        "width": 800,
        "xaxis": {
         "autorange": true,
         "title": "Samples",
         "titlefont": {
          "color": "#7f7f7f",
          "family": "Courier New, monospace",
          "size": 12
         }
        },
        "yaxis": {
         "title": "Coverage",
         "titlefont": {
          "color": "#7f7f7f",
          "family": "Courier New, monospace",
          "size": 12
         }
        }
       }
      },
      "text/html": [
       "<div id=\"a5cd7d40-ccbe-4776-8a7b-ab82404e039b\" style=\"height: 600px; width: 800px;\" class=\"plotly-graph-div\"></div><script type=\"text/javascript\">require([\"plotly\"], function(Plotly) { window.PLOTLYENV=window.PLOTLYENV || {};window.PLOTLYENV.BASE_URL=\"https://plot.ly\";Plotly.newPlot(\"a5cd7d40-ccbe-4776-8a7b-ab82404e039b\", [{\"opacity\": 0.7, \"colorscale\": [[0.0, \"rgb(77,0,75)\"], [0.1, \"rgb(77,0,75)\"], [0.1, \"rgb(129,15,124)\"], [0.2, \"rgb(129,15,124)\"], [0.2, \"rgb(136,65,157)\"], [0.3, \"rgb(136,65,157)\"], [0.3, \"rgb(140,107,177)\"], [0.4, \"rgb(140,107,177)\"], [0.4, \"rgb(140,150,198)\"], [0.5, \"rgb(140,150,198)\"], [0.5, \"rgb(158,188,218)\"], [0.6, \"rgb(158,188,218)\"], [0.6, \"rgb(191,211,230)\"], [0.7, \"rgb(191,211,230)\"], [0.7, \"rgb(224,236,244)\"], [0.8, \"rgb(224,236,244)\"], [0.8, \"rgb(247,252,253)\"], [1.0, \"rgb(247,252,253)\"]], \"showscale\": false, \"y\": [\"FAN1_1_F1\", \"FAN1_1_F2\", \"FAN1_2_F1\", \"FAN1_2_F2\", \"FAN1_2_F3\", \"FAN1_2_F4\", \"FAN1_2_F5\", \"FAN1_2_F6\", \"FAN1_2_F7\", \"FAN1_2_F8\", \"FAN1_2_F9\", \"FAN1_2_F10\", \"FAN1_2_F11\", \"FAN1_2_F12\", \"FAN1_2_F13\", \"FAN1_2_F14\", \"FAN1_2_F15\", \"FAN1_3_F1\", \"FAN1_3_F2\", \"FAN1_4_F1\", \"FAN1_4_F2\", \"FAN1_4_F3\", \"FAN1_5_F1\", \"FAN1_5_F2\", \"FAN1_5_F3\", \"FAN1_6_F1\", \"FAN1_6_F2\", \"FAN1_7_F1\", \"FAN1_7_F2\", \"FAN1_8_F1\", \"FAN1_8_F2\", \"FAN1_9_F1\", \"FAN1_9_F2\", \"FAN1_9_F3\", \"FAN1_10_F1\", \"FAN1_10_F2\", \"FAN1_11_F1\", \"FAN1_11_F2\", \"FAN1_12_F1\", \"FAN1_12_F2\", \"FAN1_12_F3\", \"FAN1_13_F1\", \"FAN1_13_F2\", \"FAN1_14_F1\", \"FAN1_14_F2\", \"FAN1_15_F1\", \"FAN1_15_F2\", \"FAN1_15_F3\", \"FAN1_15_F4\", \"FAN1_15_F5\", \"FAN1_15_F6\", \"FAN1_15_F7\", \"FAN1_15_F8\", \"FAN1_15_F9\", \"FAN1_15_F10\", \"FAN1_15_F11\", \"FAN1_15_F12\", \"FAN1_15_F13\", \"FAN1_15_F14\", \"FAN1_15_F15\", \"FAN1_15_F16\"], \"x\": [\"Sample13_GSN-S301.primary.primerclipped.bam\", \"Sample36_GSN-S324.primary.primerclipped.bam\", \"Sample91_GSN-S379.primary.primerclipped.bam\"], \"z\": [[100, 100, 100], [100, 100, 100], [100, 100, 100], [100, 100, 100], [100, 100, 100], [100, 100, 100], [100, 100, 100], [100, 100, 100], [100, 100, 100], [100, 100, 100], [100, 100, 100], [100, 100, 100], [100, 100, 100], [100, 100, 100], [100, 100, 100], [100, 100, 100], [100, 100, 100], [100, 100, 100], [100, 100, 100], [100, 100, 100], [100, 100, 100], [100, 100, 100], [100, 100, 100], [100, 100, 100], [100, 100, 100], [100, 100, 100], [100, 100, 100], [100, 100, 100], [100, 100, 100], [100, 100, 100], [100, 100, 100], [100, 100, 100], [100, 100, 100], [100, 100, 100], [100, 100, 100], [100, 100, 100], [100, 100, 100], [100, 100, 100], [100, 100, 100], [100, 100, 100], [100, 100, 100], [100, 100, 100], [100, 100, 100], [100, 100, 100], [100, 100, 100], [100, 100, 100], [100, 100, 100], [100, 100, 100], [100, 100, 100], [100, 100, 100], [100, 100, 100], [100, 100, 100], [100, 100, 100], [100, 100, 100], [100, 100, 100], [100, 100, 100], [100, 100, 100], [100, 100, 100], [100, 100, 100], [100, 100, 100], [100, 100, 100]], \"type\": \"heatmap\"}], {\"width\": 800, \"title\": \"FAN1 - Per Block Coverage (source: BAM file)\", \"yaxis\": {\"titlefont\": {\"color\": \"#7f7f7f\", \"family\": \"Courier New, monospace\", \"size\": 12}, \"title\": \"Coverage\"}, \"xaxis\": {\"titlefont\": {\"color\": \"#7f7f7f\", \"family\": \"Courier New, monospace\", \"size\": 12}, \"autorange\": true, \"title\": \"Samples\"}, \"height\": 600}, {\"linkText\": \"Export to plot.ly\", \"showLink\": true})});</script>"
      ],
      "text/vnd.plotly.v1+html": [
       "<div id=\"a5cd7d40-ccbe-4776-8a7b-ab82404e039b\" style=\"height: 600px; width: 800px;\" class=\"plotly-graph-div\"></div><script type=\"text/javascript\">require([\"plotly\"], function(Plotly) { window.PLOTLYENV=window.PLOTLYENV || {};window.PLOTLYENV.BASE_URL=\"https://plot.ly\";Plotly.newPlot(\"a5cd7d40-ccbe-4776-8a7b-ab82404e039b\", [{\"opacity\": 0.7, \"colorscale\": [[0.0, \"rgb(77,0,75)\"], [0.1, \"rgb(77,0,75)\"], [0.1, \"rgb(129,15,124)\"], [0.2, \"rgb(129,15,124)\"], [0.2, \"rgb(136,65,157)\"], [0.3, \"rgb(136,65,157)\"], [0.3, \"rgb(140,107,177)\"], [0.4, \"rgb(140,107,177)\"], [0.4, \"rgb(140,150,198)\"], [0.5, \"rgb(140,150,198)\"], [0.5, \"rgb(158,188,218)\"], [0.6, \"rgb(158,188,218)\"], [0.6, \"rgb(191,211,230)\"], [0.7, \"rgb(191,211,230)\"], [0.7, \"rgb(224,236,244)\"], [0.8, \"rgb(224,236,244)\"], [0.8, \"rgb(247,252,253)\"], [1.0, \"rgb(247,252,253)\"]], \"showscale\": false, \"y\": [\"FAN1_1_F1\", \"FAN1_1_F2\", \"FAN1_2_F1\", \"FAN1_2_F2\", \"FAN1_2_F3\", \"FAN1_2_F4\", \"FAN1_2_F5\", \"FAN1_2_F6\", \"FAN1_2_F7\", \"FAN1_2_F8\", \"FAN1_2_F9\", \"FAN1_2_F10\", \"FAN1_2_F11\", \"FAN1_2_F12\", \"FAN1_2_F13\", \"FAN1_2_F14\", \"FAN1_2_F15\", \"FAN1_3_F1\", \"FAN1_3_F2\", \"FAN1_4_F1\", \"FAN1_4_F2\", \"FAN1_4_F3\", \"FAN1_5_F1\", \"FAN1_5_F2\", \"FAN1_5_F3\", \"FAN1_6_F1\", \"FAN1_6_F2\", \"FAN1_7_F1\", \"FAN1_7_F2\", \"FAN1_8_F1\", \"FAN1_8_F2\", \"FAN1_9_F1\", \"FAN1_9_F2\", \"FAN1_9_F3\", \"FAN1_10_F1\", \"FAN1_10_F2\", \"FAN1_11_F1\", \"FAN1_11_F2\", \"FAN1_12_F1\", \"FAN1_12_F2\", \"FAN1_12_F3\", \"FAN1_13_F1\", \"FAN1_13_F2\", \"FAN1_14_F1\", \"FAN1_14_F2\", \"FAN1_15_F1\", \"FAN1_15_F2\", \"FAN1_15_F3\", \"FAN1_15_F4\", \"FAN1_15_F5\", \"FAN1_15_F6\", \"FAN1_15_F7\", \"FAN1_15_F8\", \"FAN1_15_F9\", \"FAN1_15_F10\", \"FAN1_15_F11\", \"FAN1_15_F12\", \"FAN1_15_F13\", \"FAN1_15_F14\", \"FAN1_15_F15\", \"FAN1_15_F16\"], \"x\": [\"Sample13_GSN-S301.primary.primerclipped.bam\", \"Sample36_GSN-S324.primary.primerclipped.bam\", \"Sample91_GSN-S379.primary.primerclipped.bam\"], \"z\": [[100, 100, 100], [100, 100, 100], [100, 100, 100], [100, 100, 100], [100, 100, 100], [100, 100, 100], [100, 100, 100], [100, 100, 100], [100, 100, 100], [100, 100, 100], [100, 100, 100], [100, 100, 100], [100, 100, 100], [100, 100, 100], [100, 100, 100], [100, 100, 100], [100, 100, 100], [100, 100, 100], [100, 100, 100], [100, 100, 100], [100, 100, 100], [100, 100, 100], [100, 100, 100], [100, 100, 100], [100, 100, 100], [100, 100, 100], [100, 100, 100], [100, 100, 100], [100, 100, 100], [100, 100, 100], [100, 100, 100], [100, 100, 100], [100, 100, 100], [100, 100, 100], [100, 100, 100], [100, 100, 100], [100, 100, 100], [100, 100, 100], [100, 100, 100], [100, 100, 100], [100, 100, 100], [100, 100, 100], [100, 100, 100], [100, 100, 100], [100, 100, 100], [100, 100, 100], [100, 100, 100], [100, 100, 100], [100, 100, 100], [100, 100, 100], [100, 100, 100], [100, 100, 100], [100, 100, 100], [100, 100, 100], [100, 100, 100], [100, 100, 100], [100, 100, 100], [100, 100, 100], [100, 100, 100], [100, 100, 100], [100, 100, 100]], \"type\": \"heatmap\"}], {\"width\": 800, \"title\": \"FAN1 - Per Block Coverage (source: BAM file)\", \"yaxis\": {\"titlefont\": {\"color\": \"#7f7f7f\", \"family\": \"Courier New, monospace\", \"size\": 12}, \"title\": \"Coverage\"}, \"xaxis\": {\"titlefont\": {\"color\": \"#7f7f7f\", \"family\": \"Courier New, monospace\", \"size\": 12}, \"autorange\": true, \"title\": \"Samples\"}, \"height\": 600}, {\"linkText\": \"Export to plot.ly\", \"showLink\": true})});</script>"
      ]
     },
     "metadata": {},
     "output_type": "display_data"
    },
    {
     "data": {
      "application/vnd.plotly.v1+json": {
       "data": [
        {
         "colorscale": [
          [
           0,
           "rgb(77,0,75)"
          ],
          [
           0.1,
           "rgb(77,0,75)"
          ],
          [
           0.1,
           "rgb(129,15,124)"
          ],
          [
           0.2,
           "rgb(129,15,124)"
          ],
          [
           0.2,
           "rgb(136,65,157)"
          ],
          [
           0.3,
           "rgb(136,65,157)"
          ],
          [
           0.3,
           "rgb(140,107,177)"
          ],
          [
           0.4,
           "rgb(140,107,177)"
          ],
          [
           0.4,
           "rgb(140,150,198)"
          ],
          [
           0.5,
           "rgb(140,150,198)"
          ],
          [
           0.5,
           "rgb(158,188,218)"
          ],
          [
           0.6,
           "rgb(158,188,218)"
          ],
          [
           0.6,
           "rgb(191,211,230)"
          ],
          [
           0.7,
           "rgb(191,211,230)"
          ],
          [
           0.7,
           "rgb(224,236,244)"
          ],
          [
           0.8,
           "rgb(224,236,244)"
          ],
          [
           0.8,
           "rgb(247,252,253)"
          ],
          [
           1,
           "rgb(247,252,253)"
          ]
         ],
         "opacity": 0.7,
         "showscale": false,
         "type": "heatmap",
         "x": [
          "Sample13_GSN-S301.primary.primerclipped.bam",
          "Sample36_GSN-S324.primary.primerclipped.bam",
          "Sample91_GSN-S379.primary.primerclipped.bam"
         ],
         "y": [
          "FAT1_1_F1",
          "FAT1_1_F2",
          "FAT1_1_F3",
          "FAT1_1_F4",
          "FAT1_1_F5",
          "FAT1_1_F6",
          "FAT1_1_F7",
          "FAT1_1_F8",
          "FAT1_1_F9",
          "FAT1_1_F10",
          "FAT1_1_F11",
          "FAT1_1_F12",
          "FAT1_1_F13",
          "FAT1_1_F14",
          "FAT1_1_F15",
          "FAT1_2_F1",
          "FAT1_2_F2",
          "FAT1_3_F1",
          "FAT1_3_F2",
          "FAT1_3_F3",
          "FAT1_3_F4",
          "FAT1_3_F5",
          "FAT1_3_F6",
          "FAT1_3_F7",
          "FAT1_4_F1",
          "FAT1_4_F2",
          "FAT1_4_F3",
          "FAT1_4_F4",
          "FAT1_4_F5",
          "FAT1_5_F1",
          "FAT1_5_F2",
          "FAT1_5_F3",
          "FAT1_5_F4",
          "FAT1_5_F5",
          "FAT1_5_F6",
          "FAT1_6_F1",
          "FAT1_6_F2",
          "FAT1_7_F1",
          "FAT1_7_F2",
          "FAT1_7_F3",
          "FAT1_7_F4",
          "FAT1_7_F5",
          "FAT1_7_F6",
          "FAT1_7_F7",
          "FAT1_7_F8",
          "FAT1_7_F9",
          "FAT1_7_F10",
          "FAT1_7_F11",
          "FAT1_7_F12",
          "FAT1_8_F1",
          "FAT1_8_F2",
          "FAT1_8_F3",
          "FAT1_9_F1",
          "FAT1_9_F2",
          "FAT1_10_F1",
          "FAT1_10_F2",
          "FAT1_11_F1",
          "FAT1_11_F2",
          "FAT1_11_F3",
          "FAT1_12_F1",
          "FAT1_12_F2",
          "FAT1_12_F3",
          "FAT1_12_F4",
          "FAT1_12_F5",
          "FAT1_13_F1",
          "FAT1_13_F2",
          "FAT1_13_F3",
          "FAT1_14_F1",
          "FAT1_14_F2",
          "FAT1_15_F1",
          "FAT1_15_F2",
          "FAT1_15_F3",
          "FAT1_16_F1",
          "FAT1_16_F2",
          "FAT1_16_F3",
          "FAT1_16_F4",
          "FAT1_16_F5",
          "FAT1_16_F6",
          "FAT1_16_F7",
          "FAT1_16_F8",
          "FAT1_16_F9",
          "FAT1_16_F10",
          "FAT1_16_F11",
          "FAT1_16_F12",
          "FAT1_16_F13",
          "FAT1_16_F14",
          "FAT1_16_F15",
          "FAT1_16_F16",
          "FAT1_16_F17",
          "FAT1_16_F18",
          "FAT1_16_F19",
          "FAT1_16_F20",
          "FAT1_16_F21",
          "FAT1_16_F22",
          "FAT1_16_F23",
          "FAT1_16_F24",
          "FAT1_16_F25",
          "FAT1_16_F26",
          "FAT1_16_F27",
          "FAT1_16_F28",
          "FAT1_16_F29",
          "FAT1_16_F30",
          "FAT1_16_F31",
          "FAT1_16_F32",
          "FAT1_16_F33",
          "FAT1_16_F34",
          "FAT1_16_F35",
          "FAT1_16_F36",
          "FAT1_16_F37",
          "FAT1_16_F38",
          "FAT1_16_F39",
          "FAT1_16_F40",
          "FAT1_16_F41",
          "FAT1_16_F42",
          "FAT1_17_F1",
          "FAT1_17_F2",
          "FAT1_17_F3",
          "FAT1_17_F4",
          "FAT1_17_F5",
          "FAT1_17_F6",
          "FAT1_17_F7",
          "FAT1_18_F1",
          "FAT1_18_F2",
          "FAT1_19_F1",
          "FAT1_19_F2",
          "FAT1_19_F3",
          "FAT1_20_F1",
          "FAT1_20_F2",
          "FAT1_20_F3",
          "FAT1_20_F4",
          "FAT1_21_F1",
          "FAT1_21_F2",
          "FAT1_22_F1",
          "FAT1_22_F2",
          "FAT1_22_F3",
          "FAT1_22_F4",
          "FAT1_23_F1",
          "FAT1_23_F2",
          "FAT1_23_F3",
          "FAT1_23_F4",
          "FAT1_23_F5",
          "FAT1_23_F6",
          "FAT1_23_F7",
          "FAT1_23_F8",
          "FAT1_23_F9",
          "FAT1_23_F10",
          "FAT1_23_F11",
          "FAT1_23_F12",
          "FAT1_23_F13",
          "FAT1_23_F14",
          "FAT1_23_F15",
          "FAT1_23_F16",
          "FAT1_23_F17",
          "FAT1_23_F18",
          "FAT1_23_F19",
          "FAT1_23_F20",
          "FAT1_23_F21",
          "FAT1_23_F22",
          "FAT1_23_F23",
          "FAT1_23_F24",
          "FAT1_23_F25",
          "FAT1_23_F26",
          "FAT1_23_F27",
          "FAT1_23_F28",
          "FAT1_23_F29",
          "FAT1_23_F30",
          "FAT1_23_F31",
          "FAT1_23_F32",
          "FAT1_23_F33",
          "FAT1_23_F34",
          "FAT1_24_F1",
          "FAT1_24_F2",
          "FAT1_24_F3"
         ],
         "z": [
          [
           100,
           100,
           100
          ],
          [
           100,
           100,
           100
          ],
          [
           100,
           100,
           100
          ],
          [
           0,
           0,
           0
          ],
          [
           100,
           100,
           100
          ],
          [
           100,
           100,
           100
          ],
          [
           100,
           100,
           100
          ],
          [
           100,
           100,
           100
          ],
          [
           100,
           100,
           100
          ],
          [
           100,
           100,
           100
          ],
          [
           100,
           100,
           100
          ],
          [
           100,
           100,
           100
          ],
          [
           100,
           100,
           100
          ],
          [
           100,
           100,
           100
          ],
          [
           100,
           100,
           100
          ],
          [
           100,
           100,
           100
          ],
          [
           100,
           100,
           100
          ],
          [
           100,
           100,
           100
          ],
          [
           100,
           100,
           100
          ],
          [
           100,
           100,
           100
          ],
          [
           100,
           100,
           100
          ],
          [
           100,
           100,
           100
          ],
          [
           100,
           100,
           100
          ],
          [
           100,
           100,
           100
          ],
          [
           100,
           100,
           100
          ],
          [
           100,
           100,
           100
          ],
          [
           100,
           100,
           100
          ],
          [
           100,
           100,
           100
          ],
          [
           100,
           100,
           100
          ],
          [
           100,
           100,
           100
          ],
          [
           100,
           100,
           100
          ],
          [
           100,
           100,
           100
          ],
          [
           100,
           100,
           100
          ],
          [
           100,
           100,
           100
          ],
          [
           100,
           100,
           100
          ],
          [
           100,
           100,
           100
          ],
          [
           100,
           100,
           100
          ],
          [
           100,
           100,
           100
          ],
          [
           100,
           100,
           100
          ],
          [
           100,
           100,
           100
          ],
          [
           100,
           100,
           100
          ],
          [
           100,
           100,
           100
          ],
          [
           100,
           100,
           100
          ],
          [
           100,
           100,
           100
          ],
          [
           100,
           100,
           100
          ],
          [
           100,
           100,
           100
          ],
          [
           100,
           100,
           100
          ],
          [
           100,
           100,
           100
          ],
          [
           100,
           100,
           100
          ],
          [
           100,
           100,
           100
          ],
          [
           100,
           100,
           100
          ],
          [
           100,
           100,
           100
          ],
          [
           100,
           100,
           100
          ],
          [
           100,
           100,
           100
          ],
          [
           100,
           100,
           100
          ],
          [
           100,
           100,
           100
          ],
          [
           100,
           100,
           100
          ],
          [
           100,
           100,
           100
          ],
          [
           100,
           100,
           100
          ],
          [
           100,
           100,
           100
          ],
          [
           100,
           100,
           100
          ],
          [
           100,
           100,
           100
          ],
          [
           100,
           100,
           100
          ],
          [
           100,
           100,
           100
          ],
          [
           100,
           100,
           100
          ],
          [
           100,
           100,
           100
          ],
          [
           100,
           100,
           100
          ],
          [
           100,
           100,
           100
          ],
          [
           100,
           100,
           100
          ],
          [
           100,
           100,
           100
          ],
          [
           100,
           100,
           100
          ],
          [
           100,
           100,
           100
          ],
          [
           100,
           100,
           100
          ],
          [
           100,
           100,
           100
          ],
          [
           100,
           100,
           100
          ],
          [
           100,
           100,
           100
          ],
          [
           100,
           100,
           100
          ],
          [
           100,
           100,
           100
          ],
          [
           100,
           100,
           100
          ],
          [
           100,
           100,
           100
          ],
          [
           100,
           100,
           100
          ],
          [
           100,
           100,
           100
          ],
          [
           100,
           100,
           100
          ],
          [
           100,
           100,
           100
          ],
          [
           100,
           100,
           100
          ],
          [
           100,
           100,
           100
          ],
          [
           100,
           100,
           100
          ],
          [
           100,
           100,
           100
          ],
          [
           100,
           100,
           100
          ],
          [
           100,
           100,
           100
          ],
          [
           100,
           100,
           100
          ],
          [
           100,
           100,
           100
          ],
          [
           100,
           100,
           100
          ],
          [
           100,
           100,
           100
          ],
          [
           100,
           100,
           100
          ],
          [
           100,
           100,
           100
          ],
          [
           100,
           100,
           100
          ],
          [
           100,
           100,
           100
          ],
          [
           100,
           100,
           100
          ],
          [
           100,
           100,
           100
          ],
          [
           100,
           100,
           100
          ],
          [
           100,
           100,
           100
          ],
          [
           100,
           100,
           100
          ],
          [
           100,
           100,
           100
          ],
          [
           100,
           100,
           100
          ],
          [
           100,
           100,
           100
          ],
          [
           100,
           100,
           100
          ],
          [
           100,
           100,
           100
          ],
          [
           100,
           100,
           100
          ],
          [
           100,
           100,
           100
          ],
          [
           100,
           100,
           100
          ],
          [
           100,
           100,
           100
          ],
          [
           100,
           100,
           100
          ],
          [
           100,
           100,
           100
          ],
          [
           100,
           100,
           100
          ],
          [
           100,
           100,
           100
          ],
          [
           100,
           100,
           100
          ],
          [
           100,
           100,
           100
          ],
          [
           100,
           100,
           100
          ],
          [
           100,
           100,
           100
          ],
          [
           100,
           100,
           100
          ],
          [
           100,
           100,
           100
          ],
          [
           100,
           100,
           100
          ],
          [
           100,
           100,
           100
          ],
          [
           100,
           100,
           100
          ],
          [
           100,
           100,
           100
          ],
          [
           100,
           100,
           100
          ],
          [
           100,
           100,
           100
          ],
          [
           100,
           100,
           100
          ],
          [
           100,
           100,
           100
          ],
          [
           100,
           100,
           100
          ],
          [
           100,
           100,
           100
          ],
          [
           100,
           100,
           100
          ],
          [
           100,
           100,
           100
          ],
          [
           100,
           100,
           100
          ],
          [
           100,
           100,
           100
          ],
          [
           100,
           100,
           100
          ],
          [
           100,
           100,
           100
          ],
          [
           100,
           100,
           100
          ],
          [
           100,
           100,
           100
          ],
          [
           100,
           100,
           100
          ],
          [
           100,
           100,
           100
          ],
          [
           100,
           100,
           100
          ],
          [
           100,
           100,
           100
          ],
          [
           100,
           100,
           100
          ],
          [
           100,
           100,
           100
          ],
          [
           100,
           100,
           100
          ],
          [
           100,
           100,
           100
          ],
          [
           100,
           100,
           100
          ],
          [
           100,
           100,
           100
          ],
          [
           0,
           0,
           0
          ],
          [
           100,
           100,
           100
          ],
          [
           100,
           100,
           100
          ],
          [
           100,
           100,
           100
          ],
          [
           100,
           100,
           100
          ],
          [
           100,
           100,
           100
          ],
          [
           100,
           100,
           100
          ],
          [
           100,
           100,
           100
          ],
          [
           100,
           100,
           100
          ],
          [
           100,
           100,
           100
          ],
          [
           100,
           100,
           100
          ],
          [
           100,
           100,
           100
          ],
          [
           100,
           100,
           100
          ],
          [
           100,
           100,
           100
          ],
          [
           100,
           100,
           100
          ],
          [
           100,
           100,
           100
          ],
          [
           100,
           100,
           100
          ],
          [
           100,
           100,
           100
          ],
          [
           100,
           100,
           100
          ],
          [
           100,
           100,
           100
          ],
          [
           0,
           50,
           0
          ],
          [
           0,
           0,
           0
          ],
          [
           0,
           0,
           0
          ]
         ]
        }
       ],
       "layout": {
        "height": 600,
        "title": "FAT1 - Per Block Coverage (source: BAM file)",
        "width": 800,
        "xaxis": {
         "autorange": true,
         "title": "Samples",
         "titlefont": {
          "color": "#7f7f7f",
          "family": "Courier New, monospace",
          "size": 12
         }
        },
        "yaxis": {
         "title": "Coverage",
         "titlefont": {
          "color": "#7f7f7f",
          "family": "Courier New, monospace",
          "size": 12
         }
        }
       }
      },
      "text/html": [
       "<div id=\"fe0b9273-9538-4a8d-8778-f803848dbeda\" style=\"height: 600px; width: 800px;\" class=\"plotly-graph-div\"></div><script type=\"text/javascript\">require([\"plotly\"], function(Plotly) { window.PLOTLYENV=window.PLOTLYENV || {};window.PLOTLYENV.BASE_URL=\"https://plot.ly\";Plotly.newPlot(\"fe0b9273-9538-4a8d-8778-f803848dbeda\", [{\"opacity\": 0.7, \"colorscale\": [[0.0, \"rgb(77,0,75)\"], [0.1, \"rgb(77,0,75)\"], [0.1, \"rgb(129,15,124)\"], [0.2, \"rgb(129,15,124)\"], [0.2, \"rgb(136,65,157)\"], [0.3, \"rgb(136,65,157)\"], [0.3, \"rgb(140,107,177)\"], [0.4, \"rgb(140,107,177)\"], [0.4, \"rgb(140,150,198)\"], [0.5, \"rgb(140,150,198)\"], [0.5, \"rgb(158,188,218)\"], [0.6, \"rgb(158,188,218)\"], [0.6, \"rgb(191,211,230)\"], [0.7, \"rgb(191,211,230)\"], [0.7, \"rgb(224,236,244)\"], [0.8, \"rgb(224,236,244)\"], [0.8, \"rgb(247,252,253)\"], [1.0, \"rgb(247,252,253)\"]], \"showscale\": false, \"y\": [\"FAT1_1_F1\", \"FAT1_1_F2\", \"FAT1_1_F3\", \"FAT1_1_F4\", \"FAT1_1_F5\", \"FAT1_1_F6\", \"FAT1_1_F7\", \"FAT1_1_F8\", \"FAT1_1_F9\", \"FAT1_1_F10\", \"FAT1_1_F11\", \"FAT1_1_F12\", \"FAT1_1_F13\", \"FAT1_1_F14\", \"FAT1_1_F15\", \"FAT1_2_F1\", \"FAT1_2_F2\", \"FAT1_3_F1\", \"FAT1_3_F2\", \"FAT1_3_F3\", \"FAT1_3_F4\", \"FAT1_3_F5\", \"FAT1_3_F6\", \"FAT1_3_F7\", \"FAT1_4_F1\", \"FAT1_4_F2\", \"FAT1_4_F3\", \"FAT1_4_F4\", \"FAT1_4_F5\", \"FAT1_5_F1\", \"FAT1_5_F2\", \"FAT1_5_F3\", \"FAT1_5_F4\", \"FAT1_5_F5\", \"FAT1_5_F6\", \"FAT1_6_F1\", \"FAT1_6_F2\", \"FAT1_7_F1\", \"FAT1_7_F2\", \"FAT1_7_F3\", \"FAT1_7_F4\", \"FAT1_7_F5\", \"FAT1_7_F6\", \"FAT1_7_F7\", \"FAT1_7_F8\", \"FAT1_7_F9\", \"FAT1_7_F10\", \"FAT1_7_F11\", \"FAT1_7_F12\", \"FAT1_8_F1\", \"FAT1_8_F2\", \"FAT1_8_F3\", \"FAT1_9_F1\", \"FAT1_9_F2\", \"FAT1_10_F1\", \"FAT1_10_F2\", \"FAT1_11_F1\", \"FAT1_11_F2\", \"FAT1_11_F3\", \"FAT1_12_F1\", \"FAT1_12_F2\", \"FAT1_12_F3\", \"FAT1_12_F4\", \"FAT1_12_F5\", \"FAT1_13_F1\", \"FAT1_13_F2\", \"FAT1_13_F3\", \"FAT1_14_F1\", \"FAT1_14_F2\", \"FAT1_15_F1\", \"FAT1_15_F2\", \"FAT1_15_F3\", \"FAT1_16_F1\", \"FAT1_16_F2\", \"FAT1_16_F3\", \"FAT1_16_F4\", \"FAT1_16_F5\", \"FAT1_16_F6\", \"FAT1_16_F7\", \"FAT1_16_F8\", \"FAT1_16_F9\", \"FAT1_16_F10\", \"FAT1_16_F11\", \"FAT1_16_F12\", \"FAT1_16_F13\", \"FAT1_16_F14\", \"FAT1_16_F15\", \"FAT1_16_F16\", \"FAT1_16_F17\", \"FAT1_16_F18\", \"FAT1_16_F19\", \"FAT1_16_F20\", \"FAT1_16_F21\", \"FAT1_16_F22\", \"FAT1_16_F23\", \"FAT1_16_F24\", \"FAT1_16_F25\", \"FAT1_16_F26\", \"FAT1_16_F27\", \"FAT1_16_F28\", \"FAT1_16_F29\", \"FAT1_16_F30\", \"FAT1_16_F31\", \"FAT1_16_F32\", \"FAT1_16_F33\", \"FAT1_16_F34\", \"FAT1_16_F35\", \"FAT1_16_F36\", \"FAT1_16_F37\", \"FAT1_16_F38\", \"FAT1_16_F39\", \"FAT1_16_F40\", \"FAT1_16_F41\", \"FAT1_16_F42\", \"FAT1_17_F1\", \"FAT1_17_F2\", \"FAT1_17_F3\", \"FAT1_17_F4\", \"FAT1_17_F5\", \"FAT1_17_F6\", \"FAT1_17_F7\", \"FAT1_18_F1\", \"FAT1_18_F2\", \"FAT1_19_F1\", \"FAT1_19_F2\", \"FAT1_19_F3\", \"FAT1_20_F1\", \"FAT1_20_F2\", \"FAT1_20_F3\", \"FAT1_20_F4\", \"FAT1_21_F1\", \"FAT1_21_F2\", \"FAT1_22_F1\", \"FAT1_22_F2\", \"FAT1_22_F3\", \"FAT1_22_F4\", \"FAT1_23_F1\", \"FAT1_23_F2\", \"FAT1_23_F3\", \"FAT1_23_F4\", \"FAT1_23_F5\", \"FAT1_23_F6\", \"FAT1_23_F7\", \"FAT1_23_F8\", \"FAT1_23_F9\", \"FAT1_23_F10\", \"FAT1_23_F11\", \"FAT1_23_F12\", \"FAT1_23_F13\", \"FAT1_23_F14\", \"FAT1_23_F15\", \"FAT1_23_F16\", \"FAT1_23_F17\", \"FAT1_23_F18\", \"FAT1_23_F19\", \"FAT1_23_F20\", \"FAT1_23_F21\", \"FAT1_23_F22\", \"FAT1_23_F23\", \"FAT1_23_F24\", \"FAT1_23_F25\", \"FAT1_23_F26\", \"FAT1_23_F27\", \"FAT1_23_F28\", \"FAT1_23_F29\", \"FAT1_23_F30\", \"FAT1_23_F31\", \"FAT1_23_F32\", \"FAT1_23_F33\", \"FAT1_23_F34\", \"FAT1_24_F1\", \"FAT1_24_F2\", \"FAT1_24_F3\"], \"x\": [\"Sample13_GSN-S301.primary.primerclipped.bam\", \"Sample36_GSN-S324.primary.primerclipped.bam\", \"Sample91_GSN-S379.primary.primerclipped.bam\"], \"z\": [[100, 100, 100], [100, 100, 100], [100, 100, 100], [0, 0, 0], [100, 100, 100], [100, 100, 100], [100, 100, 100], [100, 100, 100], [100, 100, 100], [100, 100, 100], [100, 100, 100], [100, 100, 100], [100, 100, 100], [100, 100, 100], [100, 100, 100], [100, 100, 100], [100, 100, 100], [100, 100, 100], [100, 100, 100], [100, 100, 100], [100, 100, 100], [100, 100, 100], [100, 100, 100], [100, 100, 100], [100, 100, 100], [100, 100, 100], [100, 100, 100], [100, 100, 100], [100, 100, 100], [100, 100, 100], [100, 100, 100], [100, 100, 100], [100, 100, 100], [100, 100, 100], [100, 100, 100], [100, 100, 100], [100, 100, 100], [100, 100, 100], [100, 100, 100], [100, 100, 100], [100, 100, 100], [100, 100, 100], [100, 100, 100], [100, 100, 100], [100, 100, 100], [100, 100, 100], [100, 100, 100], [100, 100, 100], [100, 100, 100], [100, 100, 100], [100, 100, 100], [100, 100, 100], [100, 100, 100], [100, 100, 100], [100, 100, 100], [100, 100, 100], [100, 100, 100], [100, 100, 100], [100, 100, 100], [100, 100, 100], [100, 100, 100], [100, 100, 100], [100, 100, 100], [100, 100, 100], [100, 100, 100], [100, 100, 100], [100, 100, 100], [100, 100, 100], [100, 100, 100], [100, 100, 100], [100, 100, 100], [100, 100, 100], [100, 100, 100], [100, 100, 100], [100, 100, 100], [100, 100, 100], [100, 100, 100], [100, 100, 100], [100, 100, 100], [100, 100, 100], [100, 100, 100], [100, 100, 100], [100, 100, 100], [100, 100, 100], [100, 100, 100], [100, 100, 100], [100, 100, 100], [100, 100, 100], [100, 100, 100], [100, 100, 100], [100, 100, 100], [100, 100, 100], [100, 100, 100], [100, 100, 100], [100, 100, 100], [100, 100, 100], [100, 100, 100], [100, 100, 100], [100, 100, 100], [100, 100, 100], [100, 100, 100], [100, 100, 100], [100, 100, 100], [100, 100, 100], [100, 100, 100], [100, 100, 100], [100, 100, 100], [100, 100, 100], [100, 100, 100], [100, 100, 100], [100, 100, 100], [100, 100, 100], [100, 100, 100], [100, 100, 100], [100, 100, 100], [100, 100, 100], [100, 100, 100], [100, 100, 100], [100, 100, 100], [100, 100, 100], [100, 100, 100], [100, 100, 100], [100, 100, 100], [100, 100, 100], [100, 100, 100], [100, 100, 100], [100, 100, 100], [100, 100, 100], [100, 100, 100], [100, 100, 100], [100, 100, 100], [100, 100, 100], [100, 100, 100], [100, 100, 100], [100, 100, 100], [100, 100, 100], [100, 100, 100], [100, 100, 100], [100, 100, 100], [100, 100, 100], [100, 100, 100], [100, 100, 100], [100, 100, 100], [100, 100, 100], [100, 100, 100], [100, 100, 100], [100, 100, 100], [100, 100, 100], [100, 100, 100], [100, 100, 100], [0, 0, 0], [100, 100, 100], [100, 100, 100], [100, 100, 100], [100, 100, 100], [100, 100, 100], [100, 100, 100], [100, 100, 100], [100, 100, 100], [100, 100, 100], [100, 100, 100], [100, 100, 100], [100, 100, 100], [100, 100, 100], [100, 100, 100], [100, 100, 100], [100, 100, 100], [100, 100, 100], [100, 100, 100], [100, 100, 100], [0, 50, 0], [0, 0, 0], [0, 0, 0]], \"type\": \"heatmap\"}], {\"width\": 800, \"title\": \"FAT1 - Per Block Coverage (source: BAM file)\", \"yaxis\": {\"titlefont\": {\"color\": \"#7f7f7f\", \"family\": \"Courier New, monospace\", \"size\": 12}, \"title\": \"Coverage\"}, \"xaxis\": {\"titlefont\": {\"color\": \"#7f7f7f\", \"family\": \"Courier New, monospace\", \"size\": 12}, \"autorange\": true, \"title\": \"Samples\"}, \"height\": 600}, {\"linkText\": \"Export to plot.ly\", \"showLink\": true})});</script>"
      ],
      "text/vnd.plotly.v1+html": [
       "<div id=\"fe0b9273-9538-4a8d-8778-f803848dbeda\" style=\"height: 600px; width: 800px;\" class=\"plotly-graph-div\"></div><script type=\"text/javascript\">require([\"plotly\"], function(Plotly) { window.PLOTLYENV=window.PLOTLYENV || {};window.PLOTLYENV.BASE_URL=\"https://plot.ly\";Plotly.newPlot(\"fe0b9273-9538-4a8d-8778-f803848dbeda\", [{\"opacity\": 0.7, \"colorscale\": [[0.0, \"rgb(77,0,75)\"], [0.1, \"rgb(77,0,75)\"], [0.1, \"rgb(129,15,124)\"], [0.2, \"rgb(129,15,124)\"], [0.2, \"rgb(136,65,157)\"], [0.3, \"rgb(136,65,157)\"], [0.3, \"rgb(140,107,177)\"], [0.4, \"rgb(140,107,177)\"], [0.4, \"rgb(140,150,198)\"], [0.5, \"rgb(140,150,198)\"], [0.5, \"rgb(158,188,218)\"], [0.6, \"rgb(158,188,218)\"], [0.6, \"rgb(191,211,230)\"], [0.7, \"rgb(191,211,230)\"], [0.7, \"rgb(224,236,244)\"], [0.8, \"rgb(224,236,244)\"], [0.8, \"rgb(247,252,253)\"], [1.0, \"rgb(247,252,253)\"]], \"showscale\": false, \"y\": [\"FAT1_1_F1\", \"FAT1_1_F2\", \"FAT1_1_F3\", \"FAT1_1_F4\", \"FAT1_1_F5\", \"FAT1_1_F6\", \"FAT1_1_F7\", \"FAT1_1_F8\", \"FAT1_1_F9\", \"FAT1_1_F10\", \"FAT1_1_F11\", \"FAT1_1_F12\", \"FAT1_1_F13\", \"FAT1_1_F14\", \"FAT1_1_F15\", \"FAT1_2_F1\", \"FAT1_2_F2\", \"FAT1_3_F1\", \"FAT1_3_F2\", \"FAT1_3_F3\", \"FAT1_3_F4\", \"FAT1_3_F5\", \"FAT1_3_F6\", \"FAT1_3_F7\", \"FAT1_4_F1\", \"FAT1_4_F2\", \"FAT1_4_F3\", \"FAT1_4_F4\", \"FAT1_4_F5\", \"FAT1_5_F1\", \"FAT1_5_F2\", \"FAT1_5_F3\", \"FAT1_5_F4\", \"FAT1_5_F5\", \"FAT1_5_F6\", \"FAT1_6_F1\", \"FAT1_6_F2\", \"FAT1_7_F1\", \"FAT1_7_F2\", \"FAT1_7_F3\", \"FAT1_7_F4\", \"FAT1_7_F5\", \"FAT1_7_F6\", \"FAT1_7_F7\", \"FAT1_7_F8\", \"FAT1_7_F9\", \"FAT1_7_F10\", \"FAT1_7_F11\", \"FAT1_7_F12\", \"FAT1_8_F1\", \"FAT1_8_F2\", \"FAT1_8_F3\", \"FAT1_9_F1\", \"FAT1_9_F2\", \"FAT1_10_F1\", \"FAT1_10_F2\", \"FAT1_11_F1\", \"FAT1_11_F2\", \"FAT1_11_F3\", \"FAT1_12_F1\", \"FAT1_12_F2\", \"FAT1_12_F3\", \"FAT1_12_F4\", \"FAT1_12_F5\", \"FAT1_13_F1\", \"FAT1_13_F2\", \"FAT1_13_F3\", \"FAT1_14_F1\", \"FAT1_14_F2\", \"FAT1_15_F1\", \"FAT1_15_F2\", \"FAT1_15_F3\", \"FAT1_16_F1\", \"FAT1_16_F2\", \"FAT1_16_F3\", \"FAT1_16_F4\", \"FAT1_16_F5\", \"FAT1_16_F6\", \"FAT1_16_F7\", \"FAT1_16_F8\", \"FAT1_16_F9\", \"FAT1_16_F10\", \"FAT1_16_F11\", \"FAT1_16_F12\", \"FAT1_16_F13\", \"FAT1_16_F14\", \"FAT1_16_F15\", \"FAT1_16_F16\", \"FAT1_16_F17\", \"FAT1_16_F18\", \"FAT1_16_F19\", \"FAT1_16_F20\", \"FAT1_16_F21\", \"FAT1_16_F22\", \"FAT1_16_F23\", \"FAT1_16_F24\", \"FAT1_16_F25\", \"FAT1_16_F26\", \"FAT1_16_F27\", \"FAT1_16_F28\", \"FAT1_16_F29\", \"FAT1_16_F30\", \"FAT1_16_F31\", \"FAT1_16_F32\", \"FAT1_16_F33\", \"FAT1_16_F34\", \"FAT1_16_F35\", \"FAT1_16_F36\", \"FAT1_16_F37\", \"FAT1_16_F38\", \"FAT1_16_F39\", \"FAT1_16_F40\", \"FAT1_16_F41\", \"FAT1_16_F42\", \"FAT1_17_F1\", \"FAT1_17_F2\", \"FAT1_17_F3\", \"FAT1_17_F4\", \"FAT1_17_F5\", \"FAT1_17_F6\", \"FAT1_17_F7\", \"FAT1_18_F1\", \"FAT1_18_F2\", \"FAT1_19_F1\", \"FAT1_19_F2\", \"FAT1_19_F3\", \"FAT1_20_F1\", \"FAT1_20_F2\", \"FAT1_20_F3\", \"FAT1_20_F4\", \"FAT1_21_F1\", \"FAT1_21_F2\", \"FAT1_22_F1\", \"FAT1_22_F2\", \"FAT1_22_F3\", \"FAT1_22_F4\", \"FAT1_23_F1\", \"FAT1_23_F2\", \"FAT1_23_F3\", \"FAT1_23_F4\", \"FAT1_23_F5\", \"FAT1_23_F6\", \"FAT1_23_F7\", \"FAT1_23_F8\", \"FAT1_23_F9\", \"FAT1_23_F10\", \"FAT1_23_F11\", \"FAT1_23_F12\", \"FAT1_23_F13\", \"FAT1_23_F14\", \"FAT1_23_F15\", \"FAT1_23_F16\", \"FAT1_23_F17\", \"FAT1_23_F18\", \"FAT1_23_F19\", \"FAT1_23_F20\", \"FAT1_23_F21\", \"FAT1_23_F22\", \"FAT1_23_F23\", \"FAT1_23_F24\", \"FAT1_23_F25\", \"FAT1_23_F26\", \"FAT1_23_F27\", \"FAT1_23_F28\", \"FAT1_23_F29\", \"FAT1_23_F30\", \"FAT1_23_F31\", \"FAT1_23_F32\", \"FAT1_23_F33\", \"FAT1_23_F34\", \"FAT1_24_F1\", \"FAT1_24_F2\", \"FAT1_24_F3\"], \"x\": [\"Sample13_GSN-S301.primary.primerclipped.bam\", \"Sample36_GSN-S324.primary.primerclipped.bam\", \"Sample91_GSN-S379.primary.primerclipped.bam\"], \"z\": [[100, 100, 100], [100, 100, 100], [100, 100, 100], [0, 0, 0], [100, 100, 100], [100, 100, 100], [100, 100, 100], [100, 100, 100], [100, 100, 100], [100, 100, 100], [100, 100, 100], [100, 100, 100], [100, 100, 100], [100, 100, 100], [100, 100, 100], [100, 100, 100], [100, 100, 100], [100, 100, 100], [100, 100, 100], [100, 100, 100], [100, 100, 100], [100, 100, 100], [100, 100, 100], [100, 100, 100], [100, 100, 100], [100, 100, 100], [100, 100, 100], [100, 100, 100], [100, 100, 100], [100, 100, 100], [100, 100, 100], [100, 100, 100], [100, 100, 100], [100, 100, 100], [100, 100, 100], [100, 100, 100], [100, 100, 100], [100, 100, 100], [100, 100, 100], [100, 100, 100], [100, 100, 100], [100, 100, 100], [100, 100, 100], [100, 100, 100], [100, 100, 100], [100, 100, 100], [100, 100, 100], [100, 100, 100], [100, 100, 100], [100, 100, 100], [100, 100, 100], [100, 100, 100], [100, 100, 100], [100, 100, 100], [100, 100, 100], [100, 100, 100], [100, 100, 100], [100, 100, 100], [100, 100, 100], [100, 100, 100], [100, 100, 100], [100, 100, 100], [100, 100, 100], [100, 100, 100], [100, 100, 100], [100, 100, 100], [100, 100, 100], [100, 100, 100], [100, 100, 100], [100, 100, 100], [100, 100, 100], [100, 100, 100], [100, 100, 100], [100, 100, 100], [100, 100, 100], [100, 100, 100], [100, 100, 100], [100, 100, 100], [100, 100, 100], [100, 100, 100], [100, 100, 100], [100, 100, 100], [100, 100, 100], [100, 100, 100], [100, 100, 100], [100, 100, 100], [100, 100, 100], [100, 100, 100], [100, 100, 100], [100, 100, 100], [100, 100, 100], [100, 100, 100], [100, 100, 100], [100, 100, 100], [100, 100, 100], [100, 100, 100], [100, 100, 100], [100, 100, 100], [100, 100, 100], [100, 100, 100], [100, 100, 100], [100, 100, 100], [100, 100, 100], [100, 100, 100], [100, 100, 100], [100, 100, 100], [100, 100, 100], [100, 100, 100], [100, 100, 100], [100, 100, 100], [100, 100, 100], [100, 100, 100], [100, 100, 100], [100, 100, 100], [100, 100, 100], [100, 100, 100], [100, 100, 100], [100, 100, 100], [100, 100, 100], [100, 100, 100], [100, 100, 100], [100, 100, 100], [100, 100, 100], [100, 100, 100], [100, 100, 100], [100, 100, 100], [100, 100, 100], [100, 100, 100], [100, 100, 100], [100, 100, 100], [100, 100, 100], [100, 100, 100], [100, 100, 100], [100, 100, 100], [100, 100, 100], [100, 100, 100], [100, 100, 100], [100, 100, 100], [100, 100, 100], [100, 100, 100], [100, 100, 100], [100, 100, 100], [100, 100, 100], [100, 100, 100], [100, 100, 100], [100, 100, 100], [100, 100, 100], [100, 100, 100], [100, 100, 100], [100, 100, 100], [0, 0, 0], [100, 100, 100], [100, 100, 100], [100, 100, 100], [100, 100, 100], [100, 100, 100], [100, 100, 100], [100, 100, 100], [100, 100, 100], [100, 100, 100], [100, 100, 100], [100, 100, 100], [100, 100, 100], [100, 100, 100], [100, 100, 100], [100, 100, 100], [100, 100, 100], [100, 100, 100], [100, 100, 100], [100, 100, 100], [0, 50, 0], [0, 0, 0], [0, 0, 0]], \"type\": \"heatmap\"}], {\"width\": 800, \"title\": \"FAT1 - Per Block Coverage (source: BAM file)\", \"yaxis\": {\"titlefont\": {\"color\": \"#7f7f7f\", \"family\": \"Courier New, monospace\", \"size\": 12}, \"title\": \"Coverage\"}, \"xaxis\": {\"titlefont\": {\"color\": \"#7f7f7f\", \"family\": \"Courier New, monospace\", \"size\": 12}, \"autorange\": true, \"title\": \"Samples\"}, \"height\": 600}, {\"linkText\": \"Export to plot.ly\", \"showLink\": true})});</script>"
      ]
     },
     "metadata": {},
     "output_type": "display_data"
    },
    {
     "data": {
      "application/vnd.plotly.v1+json": {
       "data": [
        {
         "colorscale": [
          [
           0,
           "rgb(77,0,75)"
          ],
          [
           0.1,
           "rgb(77,0,75)"
          ],
          [
           0.1,
           "rgb(129,15,124)"
          ],
          [
           0.2,
           "rgb(129,15,124)"
          ],
          [
           0.2,
           "rgb(136,65,157)"
          ],
          [
           0.3,
           "rgb(136,65,157)"
          ],
          [
           0.3,
           "rgb(140,107,177)"
          ],
          [
           0.4,
           "rgb(140,107,177)"
          ],
          [
           0.4,
           "rgb(140,150,198)"
          ],
          [
           0.5,
           "rgb(140,150,198)"
          ],
          [
           0.5,
           "rgb(158,188,218)"
          ],
          [
           0.6,
           "rgb(158,188,218)"
          ],
          [
           0.6,
           "rgb(191,211,230)"
          ],
          [
           0.7,
           "rgb(191,211,230)"
          ],
          [
           0.7,
           "rgb(224,236,244)"
          ],
          [
           0.8,
           "rgb(224,236,244)"
          ],
          [
           0.8,
           "rgb(247,252,253)"
          ],
          [
           1,
           "rgb(247,252,253)"
          ]
         ],
         "opacity": 0.7,
         "showscale": false,
         "type": "heatmap",
         "x": [
          "Sample13_GSN-S301.primary.primerclipped.bam",
          "Sample36_GSN-S324.primary.primerclipped.bam",
          "Sample91_GSN-S379.primary.primerclipped.bam"
         ],
         "y": [
          "GMPS_1_F1",
          "GMPS_1_F2",
          "GMPS_1_F3",
          "GMPS_1_F4",
          "GMPS_1_F5",
          "GMPS_2_F1",
          "GMPS_2_F2",
          "GMPS_2_F3",
          "GMPS_3_F1",
          "GMPS_3_F2",
          "GMPS_4_F1",
          "GMPS_4_F2",
          "GMPS_5_F1",
          "GMPS_5_F2",
          "GMPS_6_F1",
          "GMPS_6_F2",
          "GMPS_6_F3",
          "GMPS_6_F4",
          "GMPS_6_F5",
          "GMPS_6_F6",
          "GMPS_6_F7",
          "GMPS_7_F1",
          "GMPS_7_F2",
          "GMPS_8_F1",
          "GMPS_8_F2",
          "GMPS_8_F3",
          "GMPS_9_F1",
          "GMPS_9_F2",
          "GMPS_10_F1",
          "GMPS_10_F2",
          "GMPS_11_F1",
          "GMPS_11_F2",
          "GMPS_12_F1",
          "GMPS_12_F2",
          "GMPS_13_F1",
          "GMPS_13_F2",
          "GMPS_14_F1",
          "GMPS_14_F2",
          "GMPS_14_F3",
          "GMPS_15_F1",
          "GMPS_15_F2"
         ],
         "z": [
          [
           0,
           0,
           0
          ],
          [
           50,
           50,
           50
          ],
          [
           100,
           100,
           100
          ],
          [
           100,
           100,
           100
          ],
          [
           100,
           100,
           100
          ],
          [
           100,
           100,
           100
          ],
          [
           100,
           100,
           100
          ],
          [
           100,
           100,
           100
          ],
          [
           100,
           100,
           100
          ],
          [
           100,
           100,
           100
          ],
          [
           100,
           100,
           100
          ],
          [
           100,
           100,
           100
          ],
          [
           100,
           100,
           100
          ],
          [
           100,
           100,
           100
          ],
          [
           100,
           100,
           100
          ],
          [
           100,
           100,
           100
          ],
          [
           100,
           100,
           100
          ],
          [
           100,
           100,
           100
          ],
          [
           100,
           100,
           100
          ],
          [
           100,
           100,
           100
          ],
          [
           100,
           100,
           100
          ],
          [
           100,
           100,
           100
          ],
          [
           100,
           100,
           100
          ],
          [
           100,
           100,
           100
          ],
          [
           100,
           100,
           100
          ],
          [
           100,
           100,
           100
          ],
          [
           100,
           100,
           100
          ],
          [
           100,
           100,
           100
          ],
          [
           100,
           100,
           100
          ],
          [
           100,
           100,
           100
          ],
          [
           100,
           100,
           100
          ],
          [
           100,
           100,
           100
          ],
          [
           100,
           100,
           100
          ],
          [
           100,
           100,
           100
          ],
          [
           100,
           100,
           100
          ],
          [
           100,
           100,
           100
          ],
          [
           100,
           100,
           100
          ],
          [
           100,
           100,
           100
          ],
          [
           100,
           100,
           100
          ],
          [
           100,
           100,
           100
          ],
          [
           100,
           100,
           100
          ]
         ]
        }
       ],
       "layout": {
        "height": 600,
        "title": "GMPS - Per Block Coverage (source: BAM file)",
        "width": 800,
        "xaxis": {
         "autorange": true,
         "title": "Samples",
         "titlefont": {
          "color": "#7f7f7f",
          "family": "Courier New, monospace",
          "size": 12
         }
        },
        "yaxis": {
         "title": "Coverage",
         "titlefont": {
          "color": "#7f7f7f",
          "family": "Courier New, monospace",
          "size": 12
         }
        }
       }
      },
      "text/html": [
       "<div id=\"7ccbfe9a-67bc-47f5-b1f0-f33c4b60adcb\" style=\"height: 600px; width: 800px;\" class=\"plotly-graph-div\"></div><script type=\"text/javascript\">require([\"plotly\"], function(Plotly) { window.PLOTLYENV=window.PLOTLYENV || {};window.PLOTLYENV.BASE_URL=\"https://plot.ly\";Plotly.newPlot(\"7ccbfe9a-67bc-47f5-b1f0-f33c4b60adcb\", [{\"opacity\": 0.7, \"colorscale\": [[0.0, \"rgb(77,0,75)\"], [0.1, \"rgb(77,0,75)\"], [0.1, \"rgb(129,15,124)\"], [0.2, \"rgb(129,15,124)\"], [0.2, \"rgb(136,65,157)\"], [0.3, \"rgb(136,65,157)\"], [0.3, \"rgb(140,107,177)\"], [0.4, \"rgb(140,107,177)\"], [0.4, \"rgb(140,150,198)\"], [0.5, \"rgb(140,150,198)\"], [0.5, \"rgb(158,188,218)\"], [0.6, \"rgb(158,188,218)\"], [0.6, \"rgb(191,211,230)\"], [0.7, \"rgb(191,211,230)\"], [0.7, \"rgb(224,236,244)\"], [0.8, \"rgb(224,236,244)\"], [0.8, \"rgb(247,252,253)\"], [1.0, \"rgb(247,252,253)\"]], \"showscale\": false, \"y\": [\"GMPS_1_F1\", \"GMPS_1_F2\", \"GMPS_1_F3\", \"GMPS_1_F4\", \"GMPS_1_F5\", \"GMPS_2_F1\", \"GMPS_2_F2\", \"GMPS_2_F3\", \"GMPS_3_F1\", \"GMPS_3_F2\", \"GMPS_4_F1\", \"GMPS_4_F2\", \"GMPS_5_F1\", \"GMPS_5_F2\", \"GMPS_6_F1\", \"GMPS_6_F2\", \"GMPS_6_F3\", \"GMPS_6_F4\", \"GMPS_6_F5\", \"GMPS_6_F6\", \"GMPS_6_F7\", \"GMPS_7_F1\", \"GMPS_7_F2\", \"GMPS_8_F1\", \"GMPS_8_F2\", \"GMPS_8_F3\", \"GMPS_9_F1\", \"GMPS_9_F2\", \"GMPS_10_F1\", \"GMPS_10_F2\", \"GMPS_11_F1\", \"GMPS_11_F2\", \"GMPS_12_F1\", \"GMPS_12_F2\", \"GMPS_13_F1\", \"GMPS_13_F2\", \"GMPS_14_F1\", \"GMPS_14_F2\", \"GMPS_14_F3\", \"GMPS_15_F1\", \"GMPS_15_F2\"], \"x\": [\"Sample13_GSN-S301.primary.primerclipped.bam\", \"Sample36_GSN-S324.primary.primerclipped.bam\", \"Sample91_GSN-S379.primary.primerclipped.bam\"], \"z\": [[0, 0, 0], [50, 50, 50], [100, 100, 100], [100, 100, 100], [100, 100, 100], [100, 100, 100], [100, 100, 100], [100, 100, 100], [100, 100, 100], [100, 100, 100], [100, 100, 100], [100, 100, 100], [100, 100, 100], [100, 100, 100], [100, 100, 100], [100, 100, 100], [100, 100, 100], [100, 100, 100], [100, 100, 100], [100, 100, 100], [100, 100, 100], [100, 100, 100], [100, 100, 100], [100, 100, 100], [100, 100, 100], [100, 100, 100], [100, 100, 100], [100, 100, 100], [100, 100, 100], [100, 100, 100], [100, 100, 100], [100, 100, 100], [100, 100, 100], [100, 100, 100], [100, 100, 100], [100, 100, 100], [100, 100, 100], [100, 100, 100], [100, 100, 100], [100, 100, 100], [100, 100, 100]], \"type\": \"heatmap\"}], {\"width\": 800, \"title\": \"GMPS - Per Block Coverage (source: BAM file)\", \"yaxis\": {\"titlefont\": {\"color\": \"#7f7f7f\", \"family\": \"Courier New, monospace\", \"size\": 12}, \"title\": \"Coverage\"}, \"xaxis\": {\"titlefont\": {\"color\": \"#7f7f7f\", \"family\": \"Courier New, monospace\", \"size\": 12}, \"autorange\": true, \"title\": \"Samples\"}, \"height\": 600}, {\"linkText\": \"Export to plot.ly\", \"showLink\": true})});</script>"
      ],
      "text/vnd.plotly.v1+html": [
       "<div id=\"7ccbfe9a-67bc-47f5-b1f0-f33c4b60adcb\" style=\"height: 600px; width: 800px;\" class=\"plotly-graph-div\"></div><script type=\"text/javascript\">require([\"plotly\"], function(Plotly) { window.PLOTLYENV=window.PLOTLYENV || {};window.PLOTLYENV.BASE_URL=\"https://plot.ly\";Plotly.newPlot(\"7ccbfe9a-67bc-47f5-b1f0-f33c4b60adcb\", [{\"opacity\": 0.7, \"colorscale\": [[0.0, \"rgb(77,0,75)\"], [0.1, \"rgb(77,0,75)\"], [0.1, \"rgb(129,15,124)\"], [0.2, \"rgb(129,15,124)\"], [0.2, \"rgb(136,65,157)\"], [0.3, \"rgb(136,65,157)\"], [0.3, \"rgb(140,107,177)\"], [0.4, \"rgb(140,107,177)\"], [0.4, \"rgb(140,150,198)\"], [0.5, \"rgb(140,150,198)\"], [0.5, \"rgb(158,188,218)\"], [0.6, \"rgb(158,188,218)\"], [0.6, \"rgb(191,211,230)\"], [0.7, \"rgb(191,211,230)\"], [0.7, \"rgb(224,236,244)\"], [0.8, \"rgb(224,236,244)\"], [0.8, \"rgb(247,252,253)\"], [1.0, \"rgb(247,252,253)\"]], \"showscale\": false, \"y\": [\"GMPS_1_F1\", \"GMPS_1_F2\", \"GMPS_1_F3\", \"GMPS_1_F4\", \"GMPS_1_F5\", \"GMPS_2_F1\", \"GMPS_2_F2\", \"GMPS_2_F3\", \"GMPS_3_F1\", \"GMPS_3_F2\", \"GMPS_4_F1\", \"GMPS_4_F2\", \"GMPS_5_F1\", \"GMPS_5_F2\", \"GMPS_6_F1\", \"GMPS_6_F2\", \"GMPS_6_F3\", \"GMPS_6_F4\", \"GMPS_6_F5\", \"GMPS_6_F6\", \"GMPS_6_F7\", \"GMPS_7_F1\", \"GMPS_7_F2\", \"GMPS_8_F1\", \"GMPS_8_F2\", \"GMPS_8_F3\", \"GMPS_9_F1\", \"GMPS_9_F2\", \"GMPS_10_F1\", \"GMPS_10_F2\", \"GMPS_11_F1\", \"GMPS_11_F2\", \"GMPS_12_F1\", \"GMPS_12_F2\", \"GMPS_13_F1\", \"GMPS_13_F2\", \"GMPS_14_F1\", \"GMPS_14_F2\", \"GMPS_14_F3\", \"GMPS_15_F1\", \"GMPS_15_F2\"], \"x\": [\"Sample13_GSN-S301.primary.primerclipped.bam\", \"Sample36_GSN-S324.primary.primerclipped.bam\", \"Sample91_GSN-S379.primary.primerclipped.bam\"], \"z\": [[0, 0, 0], [50, 50, 50], [100, 100, 100], [100, 100, 100], [100, 100, 100], [100, 100, 100], [100, 100, 100], [100, 100, 100], [100, 100, 100], [100, 100, 100], [100, 100, 100], [100, 100, 100], [100, 100, 100], [100, 100, 100], [100, 100, 100], [100, 100, 100], [100, 100, 100], [100, 100, 100], [100, 100, 100], [100, 100, 100], [100, 100, 100], [100, 100, 100], [100, 100, 100], [100, 100, 100], [100, 100, 100], [100, 100, 100], [100, 100, 100], [100, 100, 100], [100, 100, 100], [100, 100, 100], [100, 100, 100], [100, 100, 100], [100, 100, 100], [100, 100, 100], [100, 100, 100], [100, 100, 100], [100, 100, 100], [100, 100, 100], [100, 100, 100], [100, 100, 100], [100, 100, 100]], \"type\": \"heatmap\"}], {\"width\": 800, \"title\": \"GMPS - Per Block Coverage (source: BAM file)\", \"yaxis\": {\"titlefont\": {\"color\": \"#7f7f7f\", \"family\": \"Courier New, monospace\", \"size\": 12}, \"title\": \"Coverage\"}, \"xaxis\": {\"titlefont\": {\"color\": \"#7f7f7f\", \"family\": \"Courier New, monospace\", \"size\": 12}, \"autorange\": true, \"title\": \"Samples\"}, \"height\": 600}, {\"linkText\": \"Export to plot.ly\", \"showLink\": true})});</script>"
      ]
     },
     "metadata": {},
     "output_type": "display_data"
    },
    {
     "data": {
      "application/vnd.plotly.v1+json": {
       "data": [
        {
         "colorscale": [
          [
           0,
           "rgb(77,0,75)"
          ],
          [
           0.1,
           "rgb(77,0,75)"
          ],
          [
           0.1,
           "rgb(129,15,124)"
          ],
          [
           0.2,
           "rgb(129,15,124)"
          ],
          [
           0.2,
           "rgb(136,65,157)"
          ],
          [
           0.3,
           "rgb(136,65,157)"
          ],
          [
           0.3,
           "rgb(140,107,177)"
          ],
          [
           0.4,
           "rgb(140,107,177)"
          ],
          [
           0.4,
           "rgb(140,150,198)"
          ],
          [
           0.5,
           "rgb(140,150,198)"
          ],
          [
           0.5,
           "rgb(158,188,218)"
          ],
          [
           0.6,
           "rgb(158,188,218)"
          ],
          [
           0.6,
           "rgb(191,211,230)"
          ],
          [
           0.7,
           "rgb(191,211,230)"
          ],
          [
           0.7,
           "rgb(224,236,244)"
          ],
          [
           0.8,
           "rgb(224,236,244)"
          ],
          [
           0.8,
           "rgb(247,252,253)"
          ],
          [
           1,
           "rgb(247,252,253)"
          ]
         ],
         "opacity": 0.7,
         "showscale": false,
         "type": "heatmap",
         "x": [
          "Sample13_GSN-S301.primary.primerclipped.bam",
          "Sample36_GSN-S324.primary.primerclipped.bam",
          "Sample91_GSN-S379.primary.primerclipped.bam"
         ],
         "y": [
          "NTHL1_1_F1",
          "NTHL1_1_F2",
          "NTHL1_1_F3",
          "NTHL1_1_F4",
          "NTHL1_1_F5",
          "NTHL1_2_F1",
          "NTHL1_2_F2",
          "NTHL1_2_F3",
          "NTHL1_3_F1",
          "NTHL1_3_F2",
          "NTHL1_3_F3",
          "NTHL1_4_F1",
          "NTHL1_4_F2",
          "NTHL1_4_F3",
          "NTHL1_5_F1",
          "NTHL1_5_F2"
         ],
         "z": [
          [
           100,
           100,
           100
          ],
          [
           100,
           100,
           50
          ],
          [
           100,
           100,
           100
          ],
          [
           100,
           100,
           100
          ],
          [
           100,
           100,
           100
          ],
          [
           100,
           100,
           100
          ],
          [
           100,
           100,
           100
          ],
          [
           100,
           100,
           100
          ],
          [
           100,
           100,
           100
          ],
          [
           100,
           100,
           100
          ],
          [
           100,
           100,
           100
          ],
          [
           100,
           100,
           100
          ],
          [
           100,
           100,
           100
          ],
          [
           100,
           100,
           100
          ],
          [
           100,
           100,
           100
          ],
          [
           0,
           0,
           0
          ]
         ]
        }
       ],
       "layout": {
        "height": 600,
        "title": "NTHL1 - Per Block Coverage (source: BAM file)",
        "width": 800,
        "xaxis": {
         "autorange": true,
         "title": "Samples",
         "titlefont": {
          "color": "#7f7f7f",
          "family": "Courier New, monospace",
          "size": 12
         }
        },
        "yaxis": {
         "title": "Coverage",
         "titlefont": {
          "color": "#7f7f7f",
          "family": "Courier New, monospace",
          "size": 12
         }
        }
       }
      },
      "text/html": [
       "<div id=\"48134f80-d5f1-411e-8628-b34ca6493004\" style=\"height: 600px; width: 800px;\" class=\"plotly-graph-div\"></div><script type=\"text/javascript\">require([\"plotly\"], function(Plotly) { window.PLOTLYENV=window.PLOTLYENV || {};window.PLOTLYENV.BASE_URL=\"https://plot.ly\";Plotly.newPlot(\"48134f80-d5f1-411e-8628-b34ca6493004\", [{\"opacity\": 0.7, \"colorscale\": [[0.0, \"rgb(77,0,75)\"], [0.1, \"rgb(77,0,75)\"], [0.1, \"rgb(129,15,124)\"], [0.2, \"rgb(129,15,124)\"], [0.2, \"rgb(136,65,157)\"], [0.3, \"rgb(136,65,157)\"], [0.3, \"rgb(140,107,177)\"], [0.4, \"rgb(140,107,177)\"], [0.4, \"rgb(140,150,198)\"], [0.5, \"rgb(140,150,198)\"], [0.5, \"rgb(158,188,218)\"], [0.6, \"rgb(158,188,218)\"], [0.6, \"rgb(191,211,230)\"], [0.7, \"rgb(191,211,230)\"], [0.7, \"rgb(224,236,244)\"], [0.8, \"rgb(224,236,244)\"], [0.8, \"rgb(247,252,253)\"], [1.0, \"rgb(247,252,253)\"]], \"showscale\": false, \"y\": [\"NTHL1_1_F1\", \"NTHL1_1_F2\", \"NTHL1_1_F3\", \"NTHL1_1_F4\", \"NTHL1_1_F5\", \"NTHL1_2_F1\", \"NTHL1_2_F2\", \"NTHL1_2_F3\", \"NTHL1_3_F1\", \"NTHL1_3_F2\", \"NTHL1_3_F3\", \"NTHL1_4_F1\", \"NTHL1_4_F2\", \"NTHL1_4_F3\", \"NTHL1_5_F1\", \"NTHL1_5_F2\"], \"x\": [\"Sample13_GSN-S301.primary.primerclipped.bam\", \"Sample36_GSN-S324.primary.primerclipped.bam\", \"Sample91_GSN-S379.primary.primerclipped.bam\"], \"z\": [[100, 100, 100], [100, 100, 50], [100, 100, 100], [100, 100, 100], [100, 100, 100], [100, 100, 100], [100, 100, 100], [100, 100, 100], [100, 100, 100], [100, 100, 100], [100, 100, 100], [100, 100, 100], [100, 100, 100], [100, 100, 100], [100, 100, 100], [0, 0, 0]], \"type\": \"heatmap\"}], {\"width\": 800, \"title\": \"NTHL1 - Per Block Coverage (source: BAM file)\", \"yaxis\": {\"titlefont\": {\"color\": \"#7f7f7f\", \"family\": \"Courier New, monospace\", \"size\": 12}, \"title\": \"Coverage\"}, \"xaxis\": {\"titlefont\": {\"color\": \"#7f7f7f\", \"family\": \"Courier New, monospace\", \"size\": 12}, \"autorange\": true, \"title\": \"Samples\"}, \"height\": 600}, {\"linkText\": \"Export to plot.ly\", \"showLink\": true})});</script>"
      ],
      "text/vnd.plotly.v1+html": [
       "<div id=\"48134f80-d5f1-411e-8628-b34ca6493004\" style=\"height: 600px; width: 800px;\" class=\"plotly-graph-div\"></div><script type=\"text/javascript\">require([\"plotly\"], function(Plotly) { window.PLOTLYENV=window.PLOTLYENV || {};window.PLOTLYENV.BASE_URL=\"https://plot.ly\";Plotly.newPlot(\"48134f80-d5f1-411e-8628-b34ca6493004\", [{\"opacity\": 0.7, \"colorscale\": [[0.0, \"rgb(77,0,75)\"], [0.1, \"rgb(77,0,75)\"], [0.1, \"rgb(129,15,124)\"], [0.2, \"rgb(129,15,124)\"], [0.2, \"rgb(136,65,157)\"], [0.3, \"rgb(136,65,157)\"], [0.3, \"rgb(140,107,177)\"], [0.4, \"rgb(140,107,177)\"], [0.4, \"rgb(140,150,198)\"], [0.5, \"rgb(140,150,198)\"], [0.5, \"rgb(158,188,218)\"], [0.6, \"rgb(158,188,218)\"], [0.6, \"rgb(191,211,230)\"], [0.7, \"rgb(191,211,230)\"], [0.7, \"rgb(224,236,244)\"], [0.8, \"rgb(224,236,244)\"], [0.8, \"rgb(247,252,253)\"], [1.0, \"rgb(247,252,253)\"]], \"showscale\": false, \"y\": [\"NTHL1_1_F1\", \"NTHL1_1_F2\", \"NTHL1_1_F3\", \"NTHL1_1_F4\", \"NTHL1_1_F5\", \"NTHL1_2_F1\", \"NTHL1_2_F2\", \"NTHL1_2_F3\", \"NTHL1_3_F1\", \"NTHL1_3_F2\", \"NTHL1_3_F3\", \"NTHL1_4_F1\", \"NTHL1_4_F2\", \"NTHL1_4_F3\", \"NTHL1_5_F1\", \"NTHL1_5_F2\"], \"x\": [\"Sample13_GSN-S301.primary.primerclipped.bam\", \"Sample36_GSN-S324.primary.primerclipped.bam\", \"Sample91_GSN-S379.primary.primerclipped.bam\"], \"z\": [[100, 100, 100], [100, 100, 50], [100, 100, 100], [100, 100, 100], [100, 100, 100], [100, 100, 100], [100, 100, 100], [100, 100, 100], [100, 100, 100], [100, 100, 100], [100, 100, 100], [100, 100, 100], [100, 100, 100], [100, 100, 100], [100, 100, 100], [0, 0, 0]], \"type\": \"heatmap\"}], {\"width\": 800, \"title\": \"NTHL1 - Per Block Coverage (source: BAM file)\", \"yaxis\": {\"titlefont\": {\"color\": \"#7f7f7f\", \"family\": \"Courier New, monospace\", \"size\": 12}, \"title\": \"Coverage\"}, \"xaxis\": {\"titlefont\": {\"color\": \"#7f7f7f\", \"family\": \"Courier New, monospace\", \"size\": 12}, \"autorange\": true, \"title\": \"Samples\"}, \"height\": 600}, {\"linkText\": \"Export to plot.ly\", \"showLink\": true})});</script>"
      ]
     },
     "metadata": {},
     "output_type": "display_data"
    },
    {
     "data": {
      "application/vnd.plotly.v1+json": {
       "data": [
        {
         "colorscale": [
          [
           0,
           "rgb(77,0,75)"
          ],
          [
           0.1,
           "rgb(77,0,75)"
          ],
          [
           0.1,
           "rgb(129,15,124)"
          ],
          [
           0.2,
           "rgb(129,15,124)"
          ],
          [
           0.2,
           "rgb(136,65,157)"
          ],
          [
           0.3,
           "rgb(136,65,157)"
          ],
          [
           0.3,
           "rgb(140,107,177)"
          ],
          [
           0.4,
           "rgb(140,107,177)"
          ],
          [
           0.4,
           "rgb(140,150,198)"
          ],
          [
           0.5,
           "rgb(140,150,198)"
          ],
          [
           0.5,
           "rgb(158,188,218)"
          ],
          [
           0.6,
           "rgb(158,188,218)"
          ],
          [
           0.6,
           "rgb(191,211,230)"
          ],
          [
           0.7,
           "rgb(191,211,230)"
          ],
          [
           0.7,
           "rgb(224,236,244)"
          ],
          [
           0.8,
           "rgb(224,236,244)"
          ],
          [
           0.8,
           "rgb(247,252,253)"
          ],
          [
           1,
           "rgb(247,252,253)"
          ]
         ],
         "opacity": 0.7,
         "showscale": false,
         "type": "heatmap",
         "x": [
          "Sample13_GSN-S301.primary.primerclipped.bam",
          "Sample36_GSN-S324.primary.primerclipped.bam",
          "Sample91_GSN-S379.primary.primerclipped.bam"
         ],
         "y": [
          "OGG1_1_F1",
          "OGG1_1_F2",
          "OGG1_1_F3",
          "OGG1_1_F4",
          "OGG1_1_F5",
          "OGG1_1_F6",
          "OGG1_2_F1",
          "OGG1_2_F2",
          "OGG1_2_F3",
          "OGG1_3_F1",
          "OGG1_3_F2",
          "OGG1_3_F3",
          "OGG1_4_F1",
          "OGG1_4_F2",
          "OGG1_4_F3",
          "OGG1_5_F1",
          "OGG1_5_F2",
          "OGG1_5_F3",
          "OGG1_5_F4",
          "OGG1_5_F5",
          "OGG1_5_F6",
          "OGG1_5_F7",
          "OGG1_5_F8",
          "OGG1_5_F9",
          "OGG1_5_F10",
          "OGG1_6_F1",
          "OGG1_6_F2",
          "OGG1_7_F1",
          "OGG1_7_F2",
          "OGG1_7_F3",
          "OGG1_7_F4",
          "OGG1_7_F5",
          "OGG1_7_F6",
          "OGG1_7_F7",
          "OGG1_7_F8",
          "OGG1_7_F9",
          "OGG1_7_F10"
         ],
         "z": [
          [
           100,
           100,
           100
          ],
          [
           100,
           100,
           100
          ],
          [
           100,
           100,
           100
          ],
          [
           100,
           100,
           100
          ],
          [
           100,
           100,
           100
          ],
          [
           100,
           100,
           100
          ],
          [
           100,
           100,
           100
          ],
          [
           100,
           100,
           100
          ],
          [
           100,
           100,
           100
          ],
          [
           100,
           100,
           100
          ],
          [
           100,
           100,
           100
          ],
          [
           100,
           100,
           100
          ],
          [
           100,
           100,
           100
          ],
          [
           100,
           100,
           100
          ],
          [
           100,
           100,
           100
          ],
          [
           100,
           100,
           100
          ],
          [
           100,
           100,
           100
          ],
          [
           100,
           100,
           100
          ],
          [
           100,
           100,
           100
          ],
          [
           100,
           100,
           100
          ],
          [
           100,
           100,
           100
          ],
          [
           100,
           100,
           100
          ],
          [
           100,
           100,
           100
          ],
          [
           100,
           100,
           100
          ],
          [
           100,
           100,
           100
          ],
          [
           100,
           100,
           100
          ],
          [
           100,
           100,
           100
          ],
          [
           100,
           100,
           100
          ],
          [
           100,
           100,
           100
          ],
          [
           100,
           100,
           100
          ],
          [
           100,
           100,
           100
          ],
          [
           100,
           100,
           100
          ],
          [
           100,
           100,
           100
          ],
          [
           100,
           100,
           100
          ],
          [
           100,
           100,
           100
          ],
          [
           100,
           100,
           100
          ],
          [
           100,
           100,
           100
          ]
         ]
        }
       ],
       "layout": {
        "height": 600,
        "title": "OGG1 - Per Block Coverage (source: BAM file)",
        "width": 800,
        "xaxis": {
         "autorange": true,
         "title": "Samples",
         "titlefont": {
          "color": "#7f7f7f",
          "family": "Courier New, monospace",
          "size": 12
         }
        },
        "yaxis": {
         "title": "Coverage",
         "titlefont": {
          "color": "#7f7f7f",
          "family": "Courier New, monospace",
          "size": 12
         }
        }
       }
      },
      "text/html": [
       "<div id=\"cf3d671d-c32e-463c-a391-e495afbe7b09\" style=\"height: 600px; width: 800px;\" class=\"plotly-graph-div\"></div><script type=\"text/javascript\">require([\"plotly\"], function(Plotly) { window.PLOTLYENV=window.PLOTLYENV || {};window.PLOTLYENV.BASE_URL=\"https://plot.ly\";Plotly.newPlot(\"cf3d671d-c32e-463c-a391-e495afbe7b09\", [{\"opacity\": 0.7, \"colorscale\": [[0.0, \"rgb(77,0,75)\"], [0.1, \"rgb(77,0,75)\"], [0.1, \"rgb(129,15,124)\"], [0.2, \"rgb(129,15,124)\"], [0.2, \"rgb(136,65,157)\"], [0.3, \"rgb(136,65,157)\"], [0.3, \"rgb(140,107,177)\"], [0.4, \"rgb(140,107,177)\"], [0.4, \"rgb(140,150,198)\"], [0.5, \"rgb(140,150,198)\"], [0.5, \"rgb(158,188,218)\"], [0.6, \"rgb(158,188,218)\"], [0.6, \"rgb(191,211,230)\"], [0.7, \"rgb(191,211,230)\"], [0.7, \"rgb(224,236,244)\"], [0.8, \"rgb(224,236,244)\"], [0.8, \"rgb(247,252,253)\"], [1.0, \"rgb(247,252,253)\"]], \"showscale\": false, \"y\": [\"OGG1_1_F1\", \"OGG1_1_F2\", \"OGG1_1_F3\", \"OGG1_1_F4\", \"OGG1_1_F5\", \"OGG1_1_F6\", \"OGG1_2_F1\", \"OGG1_2_F2\", \"OGG1_2_F3\", \"OGG1_3_F1\", \"OGG1_3_F2\", \"OGG1_3_F3\", \"OGG1_4_F1\", \"OGG1_4_F2\", \"OGG1_4_F3\", \"OGG1_5_F1\", \"OGG1_5_F2\", \"OGG1_5_F3\", \"OGG1_5_F4\", \"OGG1_5_F5\", \"OGG1_5_F6\", \"OGG1_5_F7\", \"OGG1_5_F8\", \"OGG1_5_F9\", \"OGG1_5_F10\", \"OGG1_6_F1\", \"OGG1_6_F2\", \"OGG1_7_F1\", \"OGG1_7_F2\", \"OGG1_7_F3\", \"OGG1_7_F4\", \"OGG1_7_F5\", \"OGG1_7_F6\", \"OGG1_7_F7\", \"OGG1_7_F8\", \"OGG1_7_F9\", \"OGG1_7_F10\"], \"x\": [\"Sample13_GSN-S301.primary.primerclipped.bam\", \"Sample36_GSN-S324.primary.primerclipped.bam\", \"Sample91_GSN-S379.primary.primerclipped.bam\"], \"z\": [[100, 100, 100], [100, 100, 100], [100, 100, 100], [100, 100, 100], [100, 100, 100], [100, 100, 100], [100, 100, 100], [100, 100, 100], [100, 100, 100], [100, 100, 100], [100, 100, 100], [100, 100, 100], [100, 100, 100], [100, 100, 100], [100, 100, 100], [100, 100, 100], [100, 100, 100], [100, 100, 100], [100, 100, 100], [100, 100, 100], [100, 100, 100], [100, 100, 100], [100, 100, 100], [100, 100, 100], [100, 100, 100], [100, 100, 100], [100, 100, 100], [100, 100, 100], [100, 100, 100], [100, 100, 100], [100, 100, 100], [100, 100, 100], [100, 100, 100], [100, 100, 100], [100, 100, 100], [100, 100, 100], [100, 100, 100]], \"type\": \"heatmap\"}], {\"width\": 800, \"title\": \"OGG1 - Per Block Coverage (source: BAM file)\", \"yaxis\": {\"titlefont\": {\"color\": \"#7f7f7f\", \"family\": \"Courier New, monospace\", \"size\": 12}, \"title\": \"Coverage\"}, \"xaxis\": {\"titlefont\": {\"color\": \"#7f7f7f\", \"family\": \"Courier New, monospace\", \"size\": 12}, \"autorange\": true, \"title\": \"Samples\"}, \"height\": 600}, {\"linkText\": \"Export to plot.ly\", \"showLink\": true})});</script>"
      ],
      "text/vnd.plotly.v1+html": [
       "<div id=\"cf3d671d-c32e-463c-a391-e495afbe7b09\" style=\"height: 600px; width: 800px;\" class=\"plotly-graph-div\"></div><script type=\"text/javascript\">require([\"plotly\"], function(Plotly) { window.PLOTLYENV=window.PLOTLYENV || {};window.PLOTLYENV.BASE_URL=\"https://plot.ly\";Plotly.newPlot(\"cf3d671d-c32e-463c-a391-e495afbe7b09\", [{\"opacity\": 0.7, \"colorscale\": [[0.0, \"rgb(77,0,75)\"], [0.1, \"rgb(77,0,75)\"], [0.1, \"rgb(129,15,124)\"], [0.2, \"rgb(129,15,124)\"], [0.2, \"rgb(136,65,157)\"], [0.3, \"rgb(136,65,157)\"], [0.3, \"rgb(140,107,177)\"], [0.4, \"rgb(140,107,177)\"], [0.4, \"rgb(140,150,198)\"], [0.5, \"rgb(140,150,198)\"], [0.5, \"rgb(158,188,218)\"], [0.6, \"rgb(158,188,218)\"], [0.6, \"rgb(191,211,230)\"], [0.7, \"rgb(191,211,230)\"], [0.7, \"rgb(224,236,244)\"], [0.8, \"rgb(224,236,244)\"], [0.8, \"rgb(247,252,253)\"], [1.0, \"rgb(247,252,253)\"]], \"showscale\": false, \"y\": [\"OGG1_1_F1\", \"OGG1_1_F2\", \"OGG1_1_F3\", \"OGG1_1_F4\", \"OGG1_1_F5\", \"OGG1_1_F6\", \"OGG1_2_F1\", \"OGG1_2_F2\", \"OGG1_2_F3\", \"OGG1_3_F1\", \"OGG1_3_F2\", \"OGG1_3_F3\", \"OGG1_4_F1\", \"OGG1_4_F2\", \"OGG1_4_F3\", \"OGG1_5_F1\", \"OGG1_5_F2\", \"OGG1_5_F3\", \"OGG1_5_F4\", \"OGG1_5_F5\", \"OGG1_5_F6\", \"OGG1_5_F7\", \"OGG1_5_F8\", \"OGG1_5_F9\", \"OGG1_5_F10\", \"OGG1_6_F1\", \"OGG1_6_F2\", \"OGG1_7_F1\", \"OGG1_7_F2\", \"OGG1_7_F3\", \"OGG1_7_F4\", \"OGG1_7_F5\", \"OGG1_7_F6\", \"OGG1_7_F7\", \"OGG1_7_F8\", \"OGG1_7_F9\", \"OGG1_7_F10\"], \"x\": [\"Sample13_GSN-S301.primary.primerclipped.bam\", \"Sample36_GSN-S324.primary.primerclipped.bam\", \"Sample91_GSN-S379.primary.primerclipped.bam\"], \"z\": [[100, 100, 100], [100, 100, 100], [100, 100, 100], [100, 100, 100], [100, 100, 100], [100, 100, 100], [100, 100, 100], [100, 100, 100], [100, 100, 100], [100, 100, 100], [100, 100, 100], [100, 100, 100], [100, 100, 100], [100, 100, 100], [100, 100, 100], [100, 100, 100], [100, 100, 100], [100, 100, 100], [100, 100, 100], [100, 100, 100], [100, 100, 100], [100, 100, 100], [100, 100, 100], [100, 100, 100], [100, 100, 100], [100, 100, 100], [100, 100, 100], [100, 100, 100], [100, 100, 100], [100, 100, 100], [100, 100, 100], [100, 100, 100], [100, 100, 100], [100, 100, 100], [100, 100, 100], [100, 100, 100], [100, 100, 100]], \"type\": \"heatmap\"}], {\"width\": 800, \"title\": \"OGG1 - Per Block Coverage (source: BAM file)\", \"yaxis\": {\"titlefont\": {\"color\": \"#7f7f7f\", \"family\": \"Courier New, monospace\", \"size\": 12}, \"title\": \"Coverage\"}, \"xaxis\": {\"titlefont\": {\"color\": \"#7f7f7f\", \"family\": \"Courier New, monospace\", \"size\": 12}, \"autorange\": true, \"title\": \"Samples\"}, \"height\": 600}, {\"linkText\": \"Export to plot.ly\", \"showLink\": true})});</script>"
      ]
     },
     "metadata": {},
     "output_type": "display_data"
    },
    {
     "data": {
      "application/vnd.plotly.v1+json": {
       "data": [
        {
         "colorscale": [
          [
           0,
           "rgb(77,0,75)"
          ],
          [
           0.1,
           "rgb(77,0,75)"
          ],
          [
           0.1,
           "rgb(129,15,124)"
          ],
          [
           0.2,
           "rgb(129,15,124)"
          ],
          [
           0.2,
           "rgb(136,65,157)"
          ],
          [
           0.3,
           "rgb(136,65,157)"
          ],
          [
           0.3,
           "rgb(140,107,177)"
          ],
          [
           0.4,
           "rgb(140,107,177)"
          ],
          [
           0.4,
           "rgb(140,150,198)"
          ],
          [
           0.5,
           "rgb(140,150,198)"
          ],
          [
           0.5,
           "rgb(158,188,218)"
          ],
          [
           0.6,
           "rgb(158,188,218)"
          ],
          [
           0.6,
           "rgb(191,211,230)"
          ],
          [
           0.7,
           "rgb(191,211,230)"
          ],
          [
           0.7,
           "rgb(224,236,244)"
          ],
          [
           0.8,
           "rgb(224,236,244)"
          ],
          [
           0.8,
           "rgb(247,252,253)"
          ],
          [
           1,
           "rgb(247,252,253)"
          ]
         ],
         "opacity": 0.7,
         "showscale": false,
         "type": "heatmap",
         "x": [
          "Sample13_GSN-S301.primary.primerclipped.bam",
          "Sample36_GSN-S324.primary.primerclipped.bam",
          "Sample91_GSN-S379.primary.primerclipped.bam"
         ],
         "y": [
          "POLD1_1_F1",
          "POLD1_1_F2",
          "POLD1_2_F1",
          "POLD1_2_F2",
          "POLD1_2_F3",
          "POLD1_3_F1",
          "POLD1_3_F2",
          "POLD1_4_F1",
          "POLD1_4_F2",
          "POLD1_4_F3",
          "POLD1_4_F4",
          "POLD1_4_F5",
          "POLD1_4_F6",
          "POLD1_4_F7",
          "POLD1_4_F8",
          "POLD1_4_F9",
          "POLD1_4_F10",
          "POLD1_4_F11",
          "POLD1_5_F1",
          "POLD1_5_F2",
          "POLD1_5_F3",
          "POLD1_5_F4",
          "POLD1_5_F5",
          "POLD1_5_F6",
          "POLD1_6_F1",
          "POLD1_6_F2",
          "POLD1_6_F3",
          "POLD1_6_F4",
          "POLD1_7_F1",
          "POLD1_7_F2",
          "POLD1_7_F3",
          "POLD1_7_F4",
          "POLD1_7_F5",
          "POLD1_8_F1",
          "POLD1_8_F2",
          "POLD1_8_F3",
          "POLD1_8_F4",
          "POLD1_8_F5",
          "POLD1_8_F6",
          "POLD1_8_F7",
          "POLD1_8_F8",
          "POLD1_8_F9",
          "POLD1_8_F10",
          "POLD1_9_F1",
          "POLD1_9_F2",
          "POLD1_9_F3",
          "POLD1_9_F4",
          "POLD1_9_F5",
          "POLD1_10_F1",
          "POLD1_10_F2",
          "POLD1_10_F3",
          "POLD1_11_F1",
          "POLD1_11_F2",
          "POLD1_11_F3",
          "POLD1_11_F4",
          "POLD1_11_F5",
          "POLD1_12_F1",
          "POLD1_12_F2",
          "POLD1_12_F3",
          "POLD1_12_F4",
          "POLD1_13_F1",
          "POLD1_13_F2",
          "POLD1_13_F3",
          "POLD1_14_F1",
          "POLD1_14_F2",
          "POLD1_14_F3"
         ],
         "z": [
          [
           100,
           100,
           100
          ],
          [
           100,
           100,
           100
          ],
          [
           100,
           100,
           100
          ],
          [
           100,
           100,
           100
          ],
          [
           100,
           100,
           100
          ],
          [
           100,
           100,
           100
          ],
          [
           100,
           100,
           100
          ],
          [
           100,
           100,
           100
          ],
          [
           0,
           0,
           0
          ],
          [
           100,
           100,
           100
          ],
          [
           100,
           100,
           100
          ],
          [
           100,
           100,
           100
          ],
          [
           100,
           100,
           100
          ],
          [
           100,
           100,
           100
          ],
          [
           100,
           100,
           100
          ],
          [
           100,
           100,
           100
          ],
          [
           100,
           100,
           100
          ],
          [
           100,
           100,
           50
          ],
          [
           100,
           100,
           100
          ],
          [
           100,
           100,
           100
          ],
          [
           100,
           100,
           100
          ],
          [
           100,
           100,
           100
          ],
          [
           100,
           100,
           100
          ],
          [
           100,
           100,
           100
          ],
          [
           100,
           100,
           100
          ],
          [
           100,
           100,
           100
          ],
          [
           100,
           100,
           100
          ],
          [
           100,
           100,
           100
          ],
          [
           100,
           100,
           100
          ],
          [
           100,
           100,
           100
          ],
          [
           100,
           100,
           100
          ],
          [
           100,
           100,
           100
          ],
          [
           100,
           100,
           100
          ],
          [
           100,
           100,
           100
          ],
          [
           100,
           50,
           50
          ],
          [
           100,
           100,
           100
          ],
          [
           100,
           100,
           100
          ],
          [
           100,
           100,
           100
          ],
          [
           100,
           100,
           100
          ],
          [
           100,
           100,
           100
          ],
          [
           100,
           100,
           100
          ],
          [
           100,
           100,
           100
          ],
          [
           100,
           100,
           100
          ],
          [
           100,
           100,
           100
          ],
          [
           100,
           100,
           100
          ],
          [
           100,
           100,
           100
          ],
          [
           100,
           100,
           100
          ],
          [
           100,
           100,
           100
          ],
          [
           100,
           100,
           100
          ],
          [
           100,
           100,
           100
          ],
          [
           100,
           100,
           100
          ],
          [
           100,
           100,
           100
          ],
          [
           100,
           100,
           100
          ],
          [
           0,
           0,
           0
          ],
          [
           0,
           0,
           0
          ],
          [
           100,
           100,
           100
          ],
          [
           100,
           100,
           100
          ],
          [
           100,
           100,
           100
          ],
          [
           100,
           100,
           100
          ],
          [
           100,
           100,
           100
          ],
          [
           100,
           100,
           100
          ],
          [
           100,
           100,
           100
          ],
          [
           100,
           100,
           100
          ],
          [
           100,
           100,
           100
          ],
          [
           100,
           100,
           100
          ],
          [
           0,
           0,
           0
          ]
         ]
        }
       ],
       "layout": {
        "height": 600,
        "title": "POLD1 - Per Block Coverage (source: BAM file)",
        "width": 800,
        "xaxis": {
         "autorange": true,
         "title": "Samples",
         "titlefont": {
          "color": "#7f7f7f",
          "family": "Courier New, monospace",
          "size": 12
         }
        },
        "yaxis": {
         "title": "Coverage",
         "titlefont": {
          "color": "#7f7f7f",
          "family": "Courier New, monospace",
          "size": 12
         }
        }
       }
      },
      "text/html": [
       "<div id=\"f653d1be-0bb4-4684-898a-8847accaa620\" style=\"height: 600px; width: 800px;\" class=\"plotly-graph-div\"></div><script type=\"text/javascript\">require([\"plotly\"], function(Plotly) { window.PLOTLYENV=window.PLOTLYENV || {};window.PLOTLYENV.BASE_URL=\"https://plot.ly\";Plotly.newPlot(\"f653d1be-0bb4-4684-898a-8847accaa620\", [{\"opacity\": 0.7, \"colorscale\": [[0.0, \"rgb(77,0,75)\"], [0.1, \"rgb(77,0,75)\"], [0.1, \"rgb(129,15,124)\"], [0.2, \"rgb(129,15,124)\"], [0.2, \"rgb(136,65,157)\"], [0.3, \"rgb(136,65,157)\"], [0.3, \"rgb(140,107,177)\"], [0.4, \"rgb(140,107,177)\"], [0.4, \"rgb(140,150,198)\"], [0.5, \"rgb(140,150,198)\"], [0.5, \"rgb(158,188,218)\"], [0.6, \"rgb(158,188,218)\"], [0.6, \"rgb(191,211,230)\"], [0.7, \"rgb(191,211,230)\"], [0.7, \"rgb(224,236,244)\"], [0.8, \"rgb(224,236,244)\"], [0.8, \"rgb(247,252,253)\"], [1.0, \"rgb(247,252,253)\"]], \"showscale\": false, \"y\": [\"POLD1_1_F1\", \"POLD1_1_F2\", \"POLD1_2_F1\", \"POLD1_2_F2\", \"POLD1_2_F3\", \"POLD1_3_F1\", \"POLD1_3_F2\", \"POLD1_4_F1\", \"POLD1_4_F2\", \"POLD1_4_F3\", \"POLD1_4_F4\", \"POLD1_4_F5\", \"POLD1_4_F6\", \"POLD1_4_F7\", \"POLD1_4_F8\", \"POLD1_4_F9\", \"POLD1_4_F10\", \"POLD1_4_F11\", \"POLD1_5_F1\", \"POLD1_5_F2\", \"POLD1_5_F3\", \"POLD1_5_F4\", \"POLD1_5_F5\", \"POLD1_5_F6\", \"POLD1_6_F1\", \"POLD1_6_F2\", \"POLD1_6_F3\", \"POLD1_6_F4\", \"POLD1_7_F1\", \"POLD1_7_F2\", \"POLD1_7_F3\", \"POLD1_7_F4\", \"POLD1_7_F5\", \"POLD1_8_F1\", \"POLD1_8_F2\", \"POLD1_8_F3\", \"POLD1_8_F4\", \"POLD1_8_F5\", \"POLD1_8_F6\", \"POLD1_8_F7\", \"POLD1_8_F8\", \"POLD1_8_F9\", \"POLD1_8_F10\", \"POLD1_9_F1\", \"POLD1_9_F2\", \"POLD1_9_F3\", \"POLD1_9_F4\", \"POLD1_9_F5\", \"POLD1_10_F1\", \"POLD1_10_F2\", \"POLD1_10_F3\", \"POLD1_11_F1\", \"POLD1_11_F2\", \"POLD1_11_F3\", \"POLD1_11_F4\", \"POLD1_11_F5\", \"POLD1_12_F1\", \"POLD1_12_F2\", \"POLD1_12_F3\", \"POLD1_12_F4\", \"POLD1_13_F1\", \"POLD1_13_F2\", \"POLD1_13_F3\", \"POLD1_14_F1\", \"POLD1_14_F2\", \"POLD1_14_F3\"], \"x\": [\"Sample13_GSN-S301.primary.primerclipped.bam\", \"Sample36_GSN-S324.primary.primerclipped.bam\", \"Sample91_GSN-S379.primary.primerclipped.bam\"], \"z\": [[100, 100, 100], [100, 100, 100], [100, 100, 100], [100, 100, 100], [100, 100, 100], [100, 100, 100], [100, 100, 100], [100, 100, 100], [0, 0, 0], [100, 100, 100], [100, 100, 100], [100, 100, 100], [100, 100, 100], [100, 100, 100], [100, 100, 100], [100, 100, 100], [100, 100, 100], [100, 100, 50], [100, 100, 100], [100, 100, 100], [100, 100, 100], [100, 100, 100], [100, 100, 100], [100, 100, 100], [100, 100, 100], [100, 100, 100], [100, 100, 100], [100, 100, 100], [100, 100, 100], [100, 100, 100], [100, 100, 100], [100, 100, 100], [100, 100, 100], [100, 100, 100], [100, 50, 50], [100, 100, 100], [100, 100, 100], [100, 100, 100], [100, 100, 100], [100, 100, 100], [100, 100, 100], [100, 100, 100], [100, 100, 100], [100, 100, 100], [100, 100, 100], [100, 100, 100], [100, 100, 100], [100, 100, 100], [100, 100, 100], [100, 100, 100], [100, 100, 100], [100, 100, 100], [100, 100, 100], [0, 0, 0], [0, 0, 0], [100, 100, 100], [100, 100, 100], [100, 100, 100], [100, 100, 100], [100, 100, 100], [100, 100, 100], [100, 100, 100], [100, 100, 100], [100, 100, 100], [100, 100, 100], [0, 0, 0]], \"type\": \"heatmap\"}], {\"width\": 800, \"title\": \"POLD1 - Per Block Coverage (source: BAM file)\", \"yaxis\": {\"titlefont\": {\"color\": \"#7f7f7f\", \"family\": \"Courier New, monospace\", \"size\": 12}, \"title\": \"Coverage\"}, \"xaxis\": {\"titlefont\": {\"color\": \"#7f7f7f\", \"family\": \"Courier New, monospace\", \"size\": 12}, \"autorange\": true, \"title\": \"Samples\"}, \"height\": 600}, {\"linkText\": \"Export to plot.ly\", \"showLink\": true})});</script>"
      ],
      "text/vnd.plotly.v1+html": [
       "<div id=\"f653d1be-0bb4-4684-898a-8847accaa620\" style=\"height: 600px; width: 800px;\" class=\"plotly-graph-div\"></div><script type=\"text/javascript\">require([\"plotly\"], function(Plotly) { window.PLOTLYENV=window.PLOTLYENV || {};window.PLOTLYENV.BASE_URL=\"https://plot.ly\";Plotly.newPlot(\"f653d1be-0bb4-4684-898a-8847accaa620\", [{\"opacity\": 0.7, \"colorscale\": [[0.0, \"rgb(77,0,75)\"], [0.1, \"rgb(77,0,75)\"], [0.1, \"rgb(129,15,124)\"], [0.2, \"rgb(129,15,124)\"], [0.2, \"rgb(136,65,157)\"], [0.3, \"rgb(136,65,157)\"], [0.3, \"rgb(140,107,177)\"], [0.4, \"rgb(140,107,177)\"], [0.4, \"rgb(140,150,198)\"], [0.5, \"rgb(140,150,198)\"], [0.5, \"rgb(158,188,218)\"], [0.6, \"rgb(158,188,218)\"], [0.6, \"rgb(191,211,230)\"], [0.7, \"rgb(191,211,230)\"], [0.7, \"rgb(224,236,244)\"], [0.8, \"rgb(224,236,244)\"], [0.8, \"rgb(247,252,253)\"], [1.0, \"rgb(247,252,253)\"]], \"showscale\": false, \"y\": [\"POLD1_1_F1\", \"POLD1_1_F2\", \"POLD1_2_F1\", \"POLD1_2_F2\", \"POLD1_2_F3\", \"POLD1_3_F1\", \"POLD1_3_F2\", \"POLD1_4_F1\", \"POLD1_4_F2\", \"POLD1_4_F3\", \"POLD1_4_F4\", \"POLD1_4_F5\", \"POLD1_4_F6\", \"POLD1_4_F7\", \"POLD1_4_F8\", \"POLD1_4_F9\", \"POLD1_4_F10\", \"POLD1_4_F11\", \"POLD1_5_F1\", \"POLD1_5_F2\", \"POLD1_5_F3\", \"POLD1_5_F4\", \"POLD1_5_F5\", \"POLD1_5_F6\", \"POLD1_6_F1\", \"POLD1_6_F2\", \"POLD1_6_F3\", \"POLD1_6_F4\", \"POLD1_7_F1\", \"POLD1_7_F2\", \"POLD1_7_F3\", \"POLD1_7_F4\", \"POLD1_7_F5\", \"POLD1_8_F1\", \"POLD1_8_F2\", \"POLD1_8_F3\", \"POLD1_8_F4\", \"POLD1_8_F5\", \"POLD1_8_F6\", \"POLD1_8_F7\", \"POLD1_8_F8\", \"POLD1_8_F9\", \"POLD1_8_F10\", \"POLD1_9_F1\", \"POLD1_9_F2\", \"POLD1_9_F3\", \"POLD1_9_F4\", \"POLD1_9_F5\", \"POLD1_10_F1\", \"POLD1_10_F2\", \"POLD1_10_F3\", \"POLD1_11_F1\", \"POLD1_11_F2\", \"POLD1_11_F3\", \"POLD1_11_F4\", \"POLD1_11_F5\", \"POLD1_12_F1\", \"POLD1_12_F2\", \"POLD1_12_F3\", \"POLD1_12_F4\", \"POLD1_13_F1\", \"POLD1_13_F2\", \"POLD1_13_F3\", \"POLD1_14_F1\", \"POLD1_14_F2\", \"POLD1_14_F3\"], \"x\": [\"Sample13_GSN-S301.primary.primerclipped.bam\", \"Sample36_GSN-S324.primary.primerclipped.bam\", \"Sample91_GSN-S379.primary.primerclipped.bam\"], \"z\": [[100, 100, 100], [100, 100, 100], [100, 100, 100], [100, 100, 100], [100, 100, 100], [100, 100, 100], [100, 100, 100], [100, 100, 100], [0, 0, 0], [100, 100, 100], [100, 100, 100], [100, 100, 100], [100, 100, 100], [100, 100, 100], [100, 100, 100], [100, 100, 100], [100, 100, 100], [100, 100, 50], [100, 100, 100], [100, 100, 100], [100, 100, 100], [100, 100, 100], [100, 100, 100], [100, 100, 100], [100, 100, 100], [100, 100, 100], [100, 100, 100], [100, 100, 100], [100, 100, 100], [100, 100, 100], [100, 100, 100], [100, 100, 100], [100, 100, 100], [100, 100, 100], [100, 50, 50], [100, 100, 100], [100, 100, 100], [100, 100, 100], [100, 100, 100], [100, 100, 100], [100, 100, 100], [100, 100, 100], [100, 100, 100], [100, 100, 100], [100, 100, 100], [100, 100, 100], [100, 100, 100], [100, 100, 100], [100, 100, 100], [100, 100, 100], [100, 100, 100], [100, 100, 100], [100, 100, 100], [0, 0, 0], [0, 0, 0], [100, 100, 100], [100, 100, 100], [100, 100, 100], [100, 100, 100], [100, 100, 100], [100, 100, 100], [100, 100, 100], [100, 100, 100], [100, 100, 100], [100, 100, 100], [0, 0, 0]], \"type\": \"heatmap\"}], {\"width\": 800, \"title\": \"POLD1 - Per Block Coverage (source: BAM file)\", \"yaxis\": {\"titlefont\": {\"color\": \"#7f7f7f\", \"family\": \"Courier New, monospace\", \"size\": 12}, \"title\": \"Coverage\"}, \"xaxis\": {\"titlefont\": {\"color\": \"#7f7f7f\", \"family\": \"Courier New, monospace\", \"size\": 12}, \"autorange\": true, \"title\": \"Samples\"}, \"height\": 600}, {\"linkText\": \"Export to plot.ly\", \"showLink\": true})});</script>"
      ]
     },
     "metadata": {},
     "output_type": "display_data"
    },
    {
     "data": {
      "application/vnd.plotly.v1+json": {
       "data": [
        {
         "colorscale": [
          [
           0,
           "rgb(77,0,75)"
          ],
          [
           0.1,
           "rgb(77,0,75)"
          ],
          [
           0.1,
           "rgb(129,15,124)"
          ],
          [
           0.2,
           "rgb(129,15,124)"
          ],
          [
           0.2,
           "rgb(136,65,157)"
          ],
          [
           0.3,
           "rgb(136,65,157)"
          ],
          [
           0.3,
           "rgb(140,107,177)"
          ],
          [
           0.4,
           "rgb(140,107,177)"
          ],
          [
           0.4,
           "rgb(140,150,198)"
          ],
          [
           0.5,
           "rgb(140,150,198)"
          ],
          [
           0.5,
           "rgb(158,188,218)"
          ],
          [
           0.6,
           "rgb(158,188,218)"
          ],
          [
           0.6,
           "rgb(191,211,230)"
          ],
          [
           0.7,
           "rgb(191,211,230)"
          ],
          [
           0.7,
           "rgb(224,236,244)"
          ],
          [
           0.8,
           "rgb(224,236,244)"
          ],
          [
           0.8,
           "rgb(247,252,253)"
          ],
          [
           1,
           "rgb(247,252,253)"
          ]
         ],
         "opacity": 0.7,
         "showscale": false,
         "type": "heatmap",
         "x": [
          "Sample13_GSN-S301.primary.primerclipped.bam",
          "Sample36_GSN-S324.primary.primerclipped.bam",
          "Sample91_GSN-S379.primary.primerclipped.bam"
         ],
         "y": [
          "POLE_1_F1",
          "POLE_1_F2",
          "POLE_1_F3",
          "POLE_1_F4",
          "POLE_1_F5",
          "POLE_1_F6",
          "POLE_1_F7",
          "POLE_1_F8",
          "POLE_1_F9",
          "POLE_1_F10",
          "POLE_1_F11",
          "POLE_1_F12",
          "POLE_1_F13",
          "POLE_2_F1",
          "POLE_2_F2",
          "POLE_3_F1",
          "POLE_3_F2",
          "POLE_3_F3",
          "POLE_4_F1",
          "POLE_4_F2",
          "POLE_4_F3",
          "POLE_4_F4",
          "POLE_4_F5",
          "POLE_4_F6",
          "POLE_5_F1",
          "POLE_5_F2",
          "POLE_5_F3",
          "POLE_6_F1",
          "POLE_6_F2",
          "POLE_7_F1",
          "POLE_7_F2",
          "POLE_8_F1",
          "POLE_8_F2",
          "POLE_8_F3",
          "POLE_9_F1",
          "POLE_9_F2",
          "POLE_9_F3",
          "POLE_10_F1",
          "POLE_10_F2",
          "POLE_10_F3",
          "POLE_10_F4",
          "POLE_10_F5",
          "POLE_10_F6",
          "POLE_10_F7",
          "POLE_10_F8",
          "POLE_10_F9",
          "POLE_10_F10",
          "POLE_10_F11",
          "POLE_10_F12",
          "POLE_10_F13",
          "POLE_10_F14",
          "POLE_10_F15",
          "POLE_10_F16",
          "POLE_10_F17",
          "POLE_10_F18",
          "POLE_10_F19",
          "POLE_11_F1",
          "POLE_11_F2",
          "POLE_11_F3",
          "POLE_11_F4",
          "POLE_11_F5",
          "POLE_11_F6",
          "POLE_11_F7",
          "POLE_11_F8",
          "POLE_11_F9",
          "POLE_11_F10",
          "POLE_11_F11",
          "POLE_12_F1",
          "POLE_12_F2",
          "POLE_12_F3",
          "POLE_12_F4",
          "POLE_13_F1",
          "POLE_13_F2",
          "POLE_14_F1",
          "POLE_14_F2",
          "POLE_14_F3",
          "POLE_15_F1",
          "POLE_15_F2",
          "POLE_15_F3",
          "POLE_16_F1",
          "POLE_16_F2",
          "POLE_17_F1",
          "POLE_17_F2",
          "POLE_17_F4",
          "POLE_17_F5",
          "POLE_18_F1",
          "POLE_18_F2",
          "POLE_19_F1",
          "POLE_19_F2",
          "POLE_20_F1",
          "POLE_20_F2",
          "POLE_20_F3",
          "POLE_20_F4",
          "POLE_20_F5",
          "POLE_20_F6",
          "POLE_20_F7",
          "POLE_21_F1",
          "POLE_21_F2",
          "POLE_22_F1",
          "POLE_22_F2",
          "POLE_22_F3",
          "POLE_23_F1",
          "POLE_23_F2",
          "POLE_24_F1",
          "POLE_24_F2",
          "POLE_25_F1",
          "POLE_25_F2",
          "POLE_25_F3",
          "POLE_25_F4",
          "POLE_25_F5",
          "POLE_25_F6",
          "POLE_25_F7",
          "POLE_25_F8",
          "POLE_25_F9",
          "POLE_26_F1",
          "POLE_26_F2",
          "POLE_27_F1",
          "POLE_27_F2",
          "POLE_27_F3",
          "POLE_27_F4",
          "POLE_28_F1",
          "POLE_28_F2",
          "POLE_29_F1",
          "POLE_29_F2",
          "POLE_29_F3",
          "POLE_29_F4",
          "POLE_30_F1",
          "POLE_30_F2",
          "POLE_31_F1",
          "POLE_31_F2",
          "POLE_32_F1",
          "POLE_32_F2",
          "POLE_32_F3",
          "POLE_32_F4"
         ],
         "z": [
          [
           100,
           100,
           100
          ],
          [
           100,
           100,
           100
          ],
          [
           100,
           100,
           100
          ],
          [
           100,
           100,
           100
          ],
          [
           100,
           100,
           100
          ],
          [
           100,
           100,
           100
          ],
          [
           0,
           0,
           0
          ],
          [
           100,
           100,
           100
          ],
          [
           100,
           100,
           100
          ],
          [
           100,
           100,
           100
          ],
          [
           100,
           100,
           100
          ],
          [
           100,
           100,
           100
          ],
          [
           100,
           100,
           100
          ],
          [
           100,
           100,
           100
          ],
          [
           100,
           100,
           100
          ],
          [
           100,
           100,
           100
          ],
          [
           100,
           100,
           100
          ],
          [
           100,
           100,
           100
          ],
          [
           100,
           100,
           100
          ],
          [
           100,
           100,
           100
          ],
          [
           100,
           100,
           100
          ],
          [
           100,
           100,
           100
          ],
          [
           100,
           100,
           100
          ],
          [
           100,
           100,
           100
          ],
          [
           100,
           100,
           100
          ],
          [
           100,
           100,
           100
          ],
          [
           100,
           100,
           100
          ],
          [
           100,
           100,
           100
          ],
          [
           100,
           100,
           100
          ],
          [
           100,
           100,
           100
          ],
          [
           100,
           100,
           100
          ],
          [
           100,
           100,
           100
          ],
          [
           100,
           100,
           100
          ],
          [
           100,
           100,
           100
          ],
          [
           100,
           100,
           100
          ],
          [
           100,
           100,
           100
          ],
          [
           100,
           100,
           100
          ],
          [
           100,
           100,
           100
          ],
          [
           100,
           100,
           100
          ],
          [
           100,
           100,
           100
          ],
          [
           100,
           100,
           100
          ],
          [
           100,
           100,
           100
          ],
          [
           100,
           100,
           100
          ],
          [
           100,
           100,
           100
          ],
          [
           100,
           100,
           100
          ],
          [
           0,
           0,
           0
          ],
          [
           100,
           100,
           100
          ],
          [
           100,
           100,
           100
          ],
          [
           100,
           100,
           100
          ],
          [
           100,
           100,
           100
          ],
          [
           100,
           100,
           100
          ],
          [
           100,
           100,
           100
          ],
          [
           100,
           100,
           100
          ],
          [
           100,
           100,
           100
          ],
          [
           100,
           100,
           100
          ],
          [
           100,
           100,
           100
          ],
          [
           100,
           100,
           100
          ],
          [
           100,
           100,
           100
          ],
          [
           100,
           100,
           100
          ],
          [
           100,
           100,
           100
          ],
          [
           100,
           100,
           100
          ],
          [
           100,
           100,
           100
          ],
          [
           100,
           100,
           100
          ],
          [
           100,
           100,
           100
          ],
          [
           100,
           100,
           100
          ],
          [
           100,
           100,
           100
          ],
          [
           100,
           100,
           100
          ],
          [
           100,
           100,
           100
          ],
          [
           100,
           100,
           100
          ],
          [
           100,
           100,
           100
          ],
          [
           100,
           100,
           100
          ],
          [
           100,
           100,
           100
          ],
          [
           100,
           100,
           100
          ],
          [
           100,
           100,
           100
          ],
          [
           100,
           100,
           100
          ],
          [
           100,
           100,
           100
          ],
          [
           100,
           100,
           100
          ],
          [
           100,
           100,
           100
          ],
          [
           100,
           100,
           100
          ],
          [
           100,
           100,
           100
          ],
          [
           100,
           100,
           100
          ],
          [
           100,
           100,
           100
          ],
          [
           100,
           100,
           100
          ],
          [
           100,
           100,
           100
          ],
          [
           100,
           100,
           100
          ],
          [
           100,
           100,
           100
          ],
          [
           100,
           100,
           100
          ],
          [
           100,
           100,
           100
          ],
          [
           100,
           100,
           100
          ],
          [
           100,
           100,
           100
          ],
          [
           100,
           100,
           100
          ],
          [
           100,
           100,
           100
          ],
          [
           100,
           100,
           100
          ],
          [
           100,
           100,
           100
          ],
          [
           100,
           100,
           100
          ],
          [
           100,
           100,
           100
          ],
          [
           100,
           100,
           100
          ],
          [
           100,
           100,
           100
          ],
          [
           0,
           50,
           0
          ],
          [
           100,
           100,
           100
          ],
          [
           100,
           100,
           100
          ],
          [
           100,
           100,
           100
          ],
          [
           100,
           100,
           100
          ],
          [
           100,
           100,
           100
          ],
          [
           100,
           100,
           100
          ],
          [
           100,
           100,
           100
          ],
          [
           100,
           100,
           100
          ],
          [
           100,
           100,
           100
          ],
          [
           100,
           100,
           100
          ],
          [
           100,
           100,
           100
          ],
          [
           100,
           100,
           100
          ],
          [
           100,
           100,
           100
          ],
          [
           100,
           100,
           100
          ],
          [
           100,
           100,
           100
          ],
          [
           100,
           100,
           100
          ],
          [
           100,
           100,
           100
          ],
          [
           100,
           100,
           100
          ],
          [
           100,
           100,
           100
          ],
          [
           100,
           100,
           100
          ],
          [
           100,
           100,
           100
          ],
          [
           100,
           100,
           100
          ],
          [
           100,
           100,
           100
          ],
          [
           100,
           100,
           100
          ],
          [
           100,
           100,
           100
          ],
          [
           100,
           100,
           100
          ],
          [
           100,
           100,
           100
          ],
          [
           100,
           100,
           100
          ],
          [
           100,
           100,
           100
          ],
          [
           100,
           100,
           100
          ],
          [
           100,
           100,
           100
          ],
          [
           0,
           0,
           0
          ],
          [
           0,
           0,
           0
          ],
          [
           0,
           0,
           0
          ],
          [
           0,
           0,
           0
          ]
         ]
        }
       ],
       "layout": {
        "height": 600,
        "title": "POLE - Per Block Coverage (source: BAM file)",
        "width": 800,
        "xaxis": {
         "autorange": true,
         "title": "Samples",
         "titlefont": {
          "color": "#7f7f7f",
          "family": "Courier New, monospace",
          "size": 12
         }
        },
        "yaxis": {
         "title": "Coverage",
         "titlefont": {
          "color": "#7f7f7f",
          "family": "Courier New, monospace",
          "size": 12
         }
        }
       }
      },
      "text/html": [
       "<div id=\"2b811ac1-cf9f-4552-9b77-16667b261c06\" style=\"height: 600px; width: 800px;\" class=\"plotly-graph-div\"></div><script type=\"text/javascript\">require([\"plotly\"], function(Plotly) { window.PLOTLYENV=window.PLOTLYENV || {};window.PLOTLYENV.BASE_URL=\"https://plot.ly\";Plotly.newPlot(\"2b811ac1-cf9f-4552-9b77-16667b261c06\", [{\"opacity\": 0.7, \"colorscale\": [[0.0, \"rgb(77,0,75)\"], [0.1, \"rgb(77,0,75)\"], [0.1, \"rgb(129,15,124)\"], [0.2, \"rgb(129,15,124)\"], [0.2, \"rgb(136,65,157)\"], [0.3, \"rgb(136,65,157)\"], [0.3, \"rgb(140,107,177)\"], [0.4, \"rgb(140,107,177)\"], [0.4, \"rgb(140,150,198)\"], [0.5, \"rgb(140,150,198)\"], [0.5, \"rgb(158,188,218)\"], [0.6, \"rgb(158,188,218)\"], [0.6, \"rgb(191,211,230)\"], [0.7, \"rgb(191,211,230)\"], [0.7, \"rgb(224,236,244)\"], [0.8, \"rgb(224,236,244)\"], [0.8, \"rgb(247,252,253)\"], [1.0, \"rgb(247,252,253)\"]], \"showscale\": false, \"y\": [\"POLE_1_F1\", \"POLE_1_F2\", \"POLE_1_F3\", \"POLE_1_F4\", \"POLE_1_F5\", \"POLE_1_F6\", \"POLE_1_F7\", \"POLE_1_F8\", \"POLE_1_F9\", \"POLE_1_F10\", \"POLE_1_F11\", \"POLE_1_F12\", \"POLE_1_F13\", \"POLE_2_F1\", \"POLE_2_F2\", \"POLE_3_F1\", \"POLE_3_F2\", \"POLE_3_F3\", \"POLE_4_F1\", \"POLE_4_F2\", \"POLE_4_F3\", \"POLE_4_F4\", \"POLE_4_F5\", \"POLE_4_F6\", \"POLE_5_F1\", \"POLE_5_F2\", \"POLE_5_F3\", \"POLE_6_F1\", \"POLE_6_F2\", \"POLE_7_F1\", \"POLE_7_F2\", \"POLE_8_F1\", \"POLE_8_F2\", \"POLE_8_F3\", \"POLE_9_F1\", \"POLE_9_F2\", \"POLE_9_F3\", \"POLE_10_F1\", \"POLE_10_F2\", \"POLE_10_F3\", \"POLE_10_F4\", \"POLE_10_F5\", \"POLE_10_F6\", \"POLE_10_F7\", \"POLE_10_F8\", \"POLE_10_F9\", \"POLE_10_F10\", \"POLE_10_F11\", \"POLE_10_F12\", \"POLE_10_F13\", \"POLE_10_F14\", \"POLE_10_F15\", \"POLE_10_F16\", \"POLE_10_F17\", \"POLE_10_F18\", \"POLE_10_F19\", \"POLE_11_F1\", \"POLE_11_F2\", \"POLE_11_F3\", \"POLE_11_F4\", \"POLE_11_F5\", \"POLE_11_F6\", \"POLE_11_F7\", \"POLE_11_F8\", \"POLE_11_F9\", \"POLE_11_F10\", \"POLE_11_F11\", \"POLE_12_F1\", \"POLE_12_F2\", \"POLE_12_F3\", \"POLE_12_F4\", \"POLE_13_F1\", \"POLE_13_F2\", \"POLE_14_F1\", \"POLE_14_F2\", \"POLE_14_F3\", \"POLE_15_F1\", \"POLE_15_F2\", \"POLE_15_F3\", \"POLE_16_F1\", \"POLE_16_F2\", \"POLE_17_F1\", \"POLE_17_F2\", \"POLE_17_F4\", \"POLE_17_F5\", \"POLE_18_F1\", \"POLE_18_F2\", \"POLE_19_F1\", \"POLE_19_F2\", \"POLE_20_F1\", \"POLE_20_F2\", \"POLE_20_F3\", \"POLE_20_F4\", \"POLE_20_F5\", \"POLE_20_F6\", \"POLE_20_F7\", \"POLE_21_F1\", \"POLE_21_F2\", \"POLE_22_F1\", \"POLE_22_F2\", \"POLE_22_F3\", \"POLE_23_F1\", \"POLE_23_F2\", \"POLE_24_F1\", \"POLE_24_F2\", \"POLE_25_F1\", \"POLE_25_F2\", \"POLE_25_F3\", \"POLE_25_F4\", \"POLE_25_F5\", \"POLE_25_F6\", \"POLE_25_F7\", \"POLE_25_F8\", \"POLE_25_F9\", \"POLE_26_F1\", \"POLE_26_F2\", \"POLE_27_F1\", \"POLE_27_F2\", \"POLE_27_F3\", \"POLE_27_F4\", \"POLE_28_F1\", \"POLE_28_F2\", \"POLE_29_F1\", \"POLE_29_F2\", \"POLE_29_F3\", \"POLE_29_F4\", \"POLE_30_F1\", \"POLE_30_F2\", \"POLE_31_F1\", \"POLE_31_F2\", \"POLE_32_F1\", \"POLE_32_F2\", \"POLE_32_F3\", \"POLE_32_F4\"], \"x\": [\"Sample13_GSN-S301.primary.primerclipped.bam\", \"Sample36_GSN-S324.primary.primerclipped.bam\", \"Sample91_GSN-S379.primary.primerclipped.bam\"], \"z\": [[100, 100, 100], [100, 100, 100], [100, 100, 100], [100, 100, 100], [100, 100, 100], [100, 100, 100], [0, 0, 0], [100, 100, 100], [100, 100, 100], [100, 100, 100], [100, 100, 100], [100, 100, 100], [100, 100, 100], [100, 100, 100], [100, 100, 100], [100, 100, 100], [100, 100, 100], [100, 100, 100], [100, 100, 100], [100, 100, 100], [100, 100, 100], [100, 100, 100], [100, 100, 100], [100, 100, 100], [100, 100, 100], [100, 100, 100], [100, 100, 100], [100, 100, 100], [100, 100, 100], [100, 100, 100], [100, 100, 100], [100, 100, 100], [100, 100, 100], [100, 100, 100], [100, 100, 100], [100, 100, 100], [100, 100, 100], [100, 100, 100], [100, 100, 100], [100, 100, 100], [100, 100, 100], [100, 100, 100], [100, 100, 100], [100, 100, 100], [100, 100, 100], [0, 0, 0], [100, 100, 100], [100, 100, 100], [100, 100, 100], [100, 100, 100], [100, 100, 100], [100, 100, 100], [100, 100, 100], [100, 100, 100], [100, 100, 100], [100, 100, 100], [100, 100, 100], [100, 100, 100], [100, 100, 100], [100, 100, 100], [100, 100, 100], [100, 100, 100], [100, 100, 100], [100, 100, 100], [100, 100, 100], [100, 100, 100], [100, 100, 100], [100, 100, 100], [100, 100, 100], [100, 100, 100], [100, 100, 100], [100, 100, 100], [100, 100, 100], [100, 100, 100], [100, 100, 100], [100, 100, 100], [100, 100, 100], [100, 100, 100], [100, 100, 100], [100, 100, 100], [100, 100, 100], [100, 100, 100], [100, 100, 100], [100, 100, 100], [100, 100, 100], [100, 100, 100], [100, 100, 100], [100, 100, 100], [100, 100, 100], [100, 100, 100], [100, 100, 100], [100, 100, 100], [100, 100, 100], [100, 100, 100], [100, 100, 100], [100, 100, 100], [100, 100, 100], [100, 100, 100], [0, 50, 0], [100, 100, 100], [100, 100, 100], [100, 100, 100], [100, 100, 100], [100, 100, 100], [100, 100, 100], [100, 100, 100], [100, 100, 100], [100, 100, 100], [100, 100, 100], [100, 100, 100], [100, 100, 100], [100, 100, 100], [100, 100, 100], [100, 100, 100], [100, 100, 100], [100, 100, 100], [100, 100, 100], [100, 100, 100], [100, 100, 100], [100, 100, 100], [100, 100, 100], [100, 100, 100], [100, 100, 100], [100, 100, 100], [100, 100, 100], [100, 100, 100], [100, 100, 100], [100, 100, 100], [100, 100, 100], [100, 100, 100], [0, 0, 0], [0, 0, 0], [0, 0, 0], [0, 0, 0]], \"type\": \"heatmap\"}], {\"width\": 800, \"title\": \"POLE - Per Block Coverage (source: BAM file)\", \"yaxis\": {\"titlefont\": {\"color\": \"#7f7f7f\", \"family\": \"Courier New, monospace\", \"size\": 12}, \"title\": \"Coverage\"}, \"xaxis\": {\"titlefont\": {\"color\": \"#7f7f7f\", \"family\": \"Courier New, monospace\", \"size\": 12}, \"autorange\": true, \"title\": \"Samples\"}, \"height\": 600}, {\"linkText\": \"Export to plot.ly\", \"showLink\": true})});</script>"
      ],
      "text/vnd.plotly.v1+html": [
       "<div id=\"2b811ac1-cf9f-4552-9b77-16667b261c06\" style=\"height: 600px; width: 800px;\" class=\"plotly-graph-div\"></div><script type=\"text/javascript\">require([\"plotly\"], function(Plotly) { window.PLOTLYENV=window.PLOTLYENV || {};window.PLOTLYENV.BASE_URL=\"https://plot.ly\";Plotly.newPlot(\"2b811ac1-cf9f-4552-9b77-16667b261c06\", [{\"opacity\": 0.7, \"colorscale\": [[0.0, \"rgb(77,0,75)\"], [0.1, \"rgb(77,0,75)\"], [0.1, \"rgb(129,15,124)\"], [0.2, \"rgb(129,15,124)\"], [0.2, \"rgb(136,65,157)\"], [0.3, \"rgb(136,65,157)\"], [0.3, \"rgb(140,107,177)\"], [0.4, \"rgb(140,107,177)\"], [0.4, \"rgb(140,150,198)\"], [0.5, \"rgb(140,150,198)\"], [0.5, \"rgb(158,188,218)\"], [0.6, \"rgb(158,188,218)\"], [0.6, \"rgb(191,211,230)\"], [0.7, \"rgb(191,211,230)\"], [0.7, \"rgb(224,236,244)\"], [0.8, \"rgb(224,236,244)\"], [0.8, \"rgb(247,252,253)\"], [1.0, \"rgb(247,252,253)\"]], \"showscale\": false, \"y\": [\"POLE_1_F1\", \"POLE_1_F2\", \"POLE_1_F3\", \"POLE_1_F4\", \"POLE_1_F5\", \"POLE_1_F6\", \"POLE_1_F7\", \"POLE_1_F8\", \"POLE_1_F9\", \"POLE_1_F10\", \"POLE_1_F11\", \"POLE_1_F12\", \"POLE_1_F13\", \"POLE_2_F1\", \"POLE_2_F2\", \"POLE_3_F1\", \"POLE_3_F2\", \"POLE_3_F3\", \"POLE_4_F1\", \"POLE_4_F2\", \"POLE_4_F3\", \"POLE_4_F4\", \"POLE_4_F5\", \"POLE_4_F6\", \"POLE_5_F1\", \"POLE_5_F2\", \"POLE_5_F3\", \"POLE_6_F1\", \"POLE_6_F2\", \"POLE_7_F1\", \"POLE_7_F2\", \"POLE_8_F1\", \"POLE_8_F2\", \"POLE_8_F3\", \"POLE_9_F1\", \"POLE_9_F2\", \"POLE_9_F3\", \"POLE_10_F1\", \"POLE_10_F2\", \"POLE_10_F3\", \"POLE_10_F4\", \"POLE_10_F5\", \"POLE_10_F6\", \"POLE_10_F7\", \"POLE_10_F8\", \"POLE_10_F9\", \"POLE_10_F10\", \"POLE_10_F11\", \"POLE_10_F12\", \"POLE_10_F13\", \"POLE_10_F14\", \"POLE_10_F15\", \"POLE_10_F16\", \"POLE_10_F17\", \"POLE_10_F18\", \"POLE_10_F19\", \"POLE_11_F1\", \"POLE_11_F2\", \"POLE_11_F3\", \"POLE_11_F4\", \"POLE_11_F5\", \"POLE_11_F6\", \"POLE_11_F7\", \"POLE_11_F8\", \"POLE_11_F9\", \"POLE_11_F10\", \"POLE_11_F11\", \"POLE_12_F1\", \"POLE_12_F2\", \"POLE_12_F3\", \"POLE_12_F4\", \"POLE_13_F1\", \"POLE_13_F2\", \"POLE_14_F1\", \"POLE_14_F2\", \"POLE_14_F3\", \"POLE_15_F1\", \"POLE_15_F2\", \"POLE_15_F3\", \"POLE_16_F1\", \"POLE_16_F2\", \"POLE_17_F1\", \"POLE_17_F2\", \"POLE_17_F4\", \"POLE_17_F5\", \"POLE_18_F1\", \"POLE_18_F2\", \"POLE_19_F1\", \"POLE_19_F2\", \"POLE_20_F1\", \"POLE_20_F2\", \"POLE_20_F3\", \"POLE_20_F4\", \"POLE_20_F5\", \"POLE_20_F6\", \"POLE_20_F7\", \"POLE_21_F1\", \"POLE_21_F2\", \"POLE_22_F1\", \"POLE_22_F2\", \"POLE_22_F3\", \"POLE_23_F1\", \"POLE_23_F2\", \"POLE_24_F1\", \"POLE_24_F2\", \"POLE_25_F1\", \"POLE_25_F2\", \"POLE_25_F3\", \"POLE_25_F4\", \"POLE_25_F5\", \"POLE_25_F6\", \"POLE_25_F7\", \"POLE_25_F8\", \"POLE_25_F9\", \"POLE_26_F1\", \"POLE_26_F2\", \"POLE_27_F1\", \"POLE_27_F2\", \"POLE_27_F3\", \"POLE_27_F4\", \"POLE_28_F1\", \"POLE_28_F2\", \"POLE_29_F1\", \"POLE_29_F2\", \"POLE_29_F3\", \"POLE_29_F4\", \"POLE_30_F1\", \"POLE_30_F2\", \"POLE_31_F1\", \"POLE_31_F2\", \"POLE_32_F1\", \"POLE_32_F2\", \"POLE_32_F3\", \"POLE_32_F4\"], \"x\": [\"Sample13_GSN-S301.primary.primerclipped.bam\", \"Sample36_GSN-S324.primary.primerclipped.bam\", \"Sample91_GSN-S379.primary.primerclipped.bam\"], \"z\": [[100, 100, 100], [100, 100, 100], [100, 100, 100], [100, 100, 100], [100, 100, 100], [100, 100, 100], [0, 0, 0], [100, 100, 100], [100, 100, 100], [100, 100, 100], [100, 100, 100], [100, 100, 100], [100, 100, 100], [100, 100, 100], [100, 100, 100], [100, 100, 100], [100, 100, 100], [100, 100, 100], [100, 100, 100], [100, 100, 100], [100, 100, 100], [100, 100, 100], [100, 100, 100], [100, 100, 100], [100, 100, 100], [100, 100, 100], [100, 100, 100], [100, 100, 100], [100, 100, 100], [100, 100, 100], [100, 100, 100], [100, 100, 100], [100, 100, 100], [100, 100, 100], [100, 100, 100], [100, 100, 100], [100, 100, 100], [100, 100, 100], [100, 100, 100], [100, 100, 100], [100, 100, 100], [100, 100, 100], [100, 100, 100], [100, 100, 100], [100, 100, 100], [0, 0, 0], [100, 100, 100], [100, 100, 100], [100, 100, 100], [100, 100, 100], [100, 100, 100], [100, 100, 100], [100, 100, 100], [100, 100, 100], [100, 100, 100], [100, 100, 100], [100, 100, 100], [100, 100, 100], [100, 100, 100], [100, 100, 100], [100, 100, 100], [100, 100, 100], [100, 100, 100], [100, 100, 100], [100, 100, 100], [100, 100, 100], [100, 100, 100], [100, 100, 100], [100, 100, 100], [100, 100, 100], [100, 100, 100], [100, 100, 100], [100, 100, 100], [100, 100, 100], [100, 100, 100], [100, 100, 100], [100, 100, 100], [100, 100, 100], [100, 100, 100], [100, 100, 100], [100, 100, 100], [100, 100, 100], [100, 100, 100], [100, 100, 100], [100, 100, 100], [100, 100, 100], [100, 100, 100], [100, 100, 100], [100, 100, 100], [100, 100, 100], [100, 100, 100], [100, 100, 100], [100, 100, 100], [100, 100, 100], [100, 100, 100], [100, 100, 100], [100, 100, 100], [100, 100, 100], [0, 50, 0], [100, 100, 100], [100, 100, 100], [100, 100, 100], [100, 100, 100], [100, 100, 100], [100, 100, 100], [100, 100, 100], [100, 100, 100], [100, 100, 100], [100, 100, 100], [100, 100, 100], [100, 100, 100], [100, 100, 100], [100, 100, 100], [100, 100, 100], [100, 100, 100], [100, 100, 100], [100, 100, 100], [100, 100, 100], [100, 100, 100], [100, 100, 100], [100, 100, 100], [100, 100, 100], [100, 100, 100], [100, 100, 100], [100, 100, 100], [100, 100, 100], [100, 100, 100], [100, 100, 100], [100, 100, 100], [100, 100, 100], [0, 0, 0], [0, 0, 0], [0, 0, 0], [0, 0, 0]], \"type\": \"heatmap\"}], {\"width\": 800, \"title\": \"POLE - Per Block Coverage (source: BAM file)\", \"yaxis\": {\"titlefont\": {\"color\": \"#7f7f7f\", \"family\": \"Courier New, monospace\", \"size\": 12}, \"title\": \"Coverage\"}, \"xaxis\": {\"titlefont\": {\"color\": \"#7f7f7f\", \"family\": \"Courier New, monospace\", \"size\": 12}, \"autorange\": true, \"title\": \"Samples\"}, \"height\": 600}, {\"linkText\": \"Export to plot.ly\", \"showLink\": true})});</script>"
      ]
     },
     "metadata": {},
     "output_type": "display_data"
    },
    {
     "data": {
      "application/vnd.plotly.v1+json": {
       "data": [
        {
         "colorscale": [
          [
           0,
           "rgb(77,0,75)"
          ],
          [
           0.1,
           "rgb(77,0,75)"
          ],
          [
           0.1,
           "rgb(129,15,124)"
          ],
          [
           0.2,
           "rgb(129,15,124)"
          ],
          [
           0.2,
           "rgb(136,65,157)"
          ],
          [
           0.3,
           "rgb(136,65,157)"
          ],
          [
           0.3,
           "rgb(140,107,177)"
          ],
          [
           0.4,
           "rgb(140,107,177)"
          ],
          [
           0.4,
           "rgb(140,150,198)"
          ],
          [
           0.5,
           "rgb(140,150,198)"
          ],
          [
           0.5,
           "rgb(158,188,218)"
          ],
          [
           0.6,
           "rgb(158,188,218)"
          ],
          [
           0.6,
           "rgb(191,211,230)"
          ],
          [
           0.7,
           "rgb(191,211,230)"
          ],
          [
           0.7,
           "rgb(224,236,244)"
          ],
          [
           0.8,
           "rgb(224,236,244)"
          ],
          [
           0.8,
           "rgb(247,252,253)"
          ],
          [
           1,
           "rgb(247,252,253)"
          ]
         ],
         "opacity": 0.7,
         "showscale": false,
         "type": "heatmap",
         "x": [
          "Sample13_GSN-S301.primary.primerclipped.bam",
          "Sample36_GSN-S324.primary.primerclipped.bam",
          "Sample91_GSN-S379.primary.primerclipped.bam"
         ],
         "y": [
          "POLQ_1_F1",
          "POLQ_1_F2",
          "POLQ_1_F3",
          "POLQ_1_F4",
          "POLQ_1_F5",
          "POLQ_1_F6",
          "POLQ_1_F7",
          "POLQ_1_F8",
          "POLQ_1_F9",
          "POLQ_1_F10",
          "POLQ_1_F11",
          "POLQ_2_F1",
          "POLQ_2_F2",
          "POLQ_3_F1",
          "POLQ_3_F2",
          "POLQ_4_F1",
          "POLQ_4_F2",
          "POLQ_5_F1",
          "POLQ_5_F2",
          "POLQ_6_F1",
          "POLQ_6_F2",
          "POLQ_6_F3",
          "POLQ_7_F1",
          "POLQ_7_F2",
          "POLQ_8_F1",
          "POLQ_8_F2",
          "POLQ_9_F1",
          "POLQ_9_F2",
          "POLQ_9_F3",
          "POLQ_10_F1",
          "POLQ_10_F2",
          "POLQ_11_F1",
          "POLQ_11_F2",
          "POLQ_11_F3",
          "POLQ_12_F1",
          "POLQ_12_F2",
          "POLQ_12_F3",
          "POLQ_13_F1",
          "POLQ_13_F2",
          "POLQ_13_F3",
          "POLQ_14_F1",
          "POLQ_14_F2",
          "POLQ_15_F1",
          "POLQ_15_F2",
          "POLQ_15_F3",
          "POLQ_15_F4",
          "POLQ_15_F5",
          "POLQ_15_F6",
          "POLQ_15_F7",
          "POLQ_15_F8",
          "POLQ_15_F9",
          "POLQ_15_F10",
          "POLQ_15_F11",
          "POLQ_15_F12",
          "POLQ_15_F13",
          "POLQ_15_F14",
          "POLQ_15_F15",
          "POLQ_15_F16",
          "POLQ_15_F17",
          "POLQ_15_F18",
          "POLQ_15_F19",
          "POLQ_15_F20",
          "POLQ_15_F21",
          "POLQ_15_F22",
          "POLQ_15_F23",
          "POLQ_15_F24",
          "POLQ_15_F25",
          "POLQ_15_F26",
          "POLQ_15_F27",
          "POLQ_15_F28",
          "POLQ_15_F29",
          "POLQ_15_F30",
          "POLQ_15_F31",
          "POLQ_15_F32",
          "POLQ_16_F1",
          "POLQ_16_F2",
          "POLQ_16_F3",
          "POLQ_17_F1",
          "POLQ_17_F2",
          "POLQ_18_F1",
          "POLQ_18_F2",
          "POLQ_18_F3",
          "POLQ_19_F1",
          "POLQ_19_F2",
          "POLQ_20_F1",
          "POLQ_20_F2",
          "POLQ_20_F3",
          "POLQ_21_F1",
          "POLQ_21_F2",
          "POLQ_22_F1",
          "POLQ_22_F2",
          "POLQ_22_F3",
          "POLQ_23_F1",
          "POLQ_23_F2",
          "POLQ_24_F1",
          "POLQ_24_F2",
          "POLQ_25_F1",
          "POLQ_25_F2",
          "POLQ_25_F3",
          "POLQ_26_F1",
          "POLQ_26_F2",
          "POLQ_27_F1",
          "POLQ_27_F2",
          "POLQ_28_F1",
          "POLQ_28_F2",
          "POLQ_29_F1",
          "POLQ_29_F2",
          "POLQ_29_F3",
          "POLQ_30_F1",
          "POLQ_30_F2",
          "POLQ_30_F3",
          "POLQ_30_F4"
         ],
         "z": [
          [
           100,
           100,
           100
          ],
          [
           100,
           100,
           100
          ],
          [
           100,
           100,
           100
          ],
          [
           100,
           100,
           100
          ],
          [
           100,
           100,
           100
          ],
          [
           100,
           100,
           100
          ],
          [
           100,
           100,
           100
          ],
          [
           100,
           100,
           100
          ],
          [
           100,
           100,
           100
          ],
          [
           100,
           100,
           100
          ],
          [
           100,
           100,
           100
          ],
          [
           100,
           100,
           100
          ],
          [
           100,
           100,
           100
          ],
          [
           100,
           100,
           100
          ],
          [
           100,
           100,
           100
          ],
          [
           100,
           100,
           100
          ],
          [
           100,
           100,
           100
          ],
          [
           100,
           100,
           100
          ],
          [
           100,
           100,
           100
          ],
          [
           100,
           100,
           100
          ],
          [
           100,
           100,
           100
          ],
          [
           100,
           100,
           100
          ],
          [
           100,
           100,
           100
          ],
          [
           100,
           100,
           100
          ],
          [
           100,
           100,
           100
          ],
          [
           100,
           100,
           100
          ],
          [
           100,
           100,
           100
          ],
          [
           100,
           100,
           100
          ],
          [
           100,
           100,
           100
          ],
          [
           100,
           100,
           100
          ],
          [
           100,
           100,
           100
          ],
          [
           100,
           100,
           100
          ],
          [
           100,
           100,
           100
          ],
          [
           100,
           100,
           100
          ],
          [
           100,
           100,
           100
          ],
          [
           100,
           100,
           100
          ],
          [
           100,
           100,
           100
          ],
          [
           100,
           100,
           100
          ],
          [
           100,
           100,
           100
          ],
          [
           100,
           100,
           100
          ],
          [
           100,
           100,
           100
          ],
          [
           100,
           100,
           100
          ],
          [
           100,
           100,
           100
          ],
          [
           100,
           100,
           100
          ],
          [
           100,
           100,
           100
          ],
          [
           100,
           100,
           100
          ],
          [
           100,
           100,
           100
          ],
          [
           100,
           100,
           100
          ],
          [
           100,
           100,
           100
          ],
          [
           100,
           100,
           100
          ],
          [
           100,
           100,
           100
          ],
          [
           100,
           100,
           100
          ],
          [
           100,
           100,
           100
          ],
          [
           100,
           100,
           100
          ],
          [
           100,
           100,
           100
          ],
          [
           100,
           100,
           100
          ],
          [
           100,
           100,
           100
          ],
          [
           100,
           100,
           100
          ],
          [
           100,
           100,
           100
          ],
          [
           100,
           100,
           100
          ],
          [
           100,
           100,
           100
          ],
          [
           100,
           100,
           100
          ],
          [
           100,
           100,
           100
          ],
          [
           100,
           100,
           100
          ],
          [
           100,
           100,
           100
          ],
          [
           100,
           100,
           100
          ],
          [
           100,
           100,
           100
          ],
          [
           100,
           100,
           100
          ],
          [
           100,
           100,
           100
          ],
          [
           100,
           100,
           100
          ],
          [
           100,
           100,
           100
          ],
          [
           100,
           100,
           100
          ],
          [
           100,
           100,
           100
          ],
          [
           100,
           100,
           100
          ],
          [
           100,
           100,
           100
          ],
          [
           100,
           100,
           100
          ],
          [
           100,
           100,
           100
          ],
          [
           100,
           100,
           100
          ],
          [
           100,
           100,
           100
          ],
          [
           100,
           100,
           100
          ],
          [
           100,
           100,
           100
          ],
          [
           100,
           100,
           100
          ],
          [
           100,
           100,
           100
          ],
          [
           100,
           100,
           100
          ],
          [
           100,
           100,
           100
          ],
          [
           100,
           100,
           100
          ],
          [
           100,
           100,
           100
          ],
          [
           100,
           100,
           100
          ],
          [
           100,
           100,
           100
          ],
          [
           100,
           100,
           100
          ],
          [
           100,
           100,
           100
          ],
          [
           100,
           100,
           100
          ],
          [
           100,
           100,
           100
          ],
          [
           100,
           100,
           100
          ],
          [
           100,
           100,
           100
          ],
          [
           100,
           100,
           100
          ],
          [
           100,
           100,
           100
          ],
          [
           100,
           100,
           100
          ],
          [
           100,
           100,
           100
          ],
          [
           100,
           100,
           100
          ],
          [
           100,
           100,
           100
          ],
          [
           100,
           100,
           100
          ],
          [
           100,
           100,
           100
          ],
          [
           100,
           100,
           100
          ],
          [
           100,
           100,
           100
          ],
          [
           100,
           100,
           100
          ],
          [
           100,
           100,
           100
          ],
          [
           100,
           100,
           100
          ],
          [
           100,
           100,
           100
          ],
          [
           100,
           100,
           100
          ],
          [
           100,
           100,
           100
          ],
          [
           100,
           100,
           100
          ]
         ]
        }
       ],
       "layout": {
        "height": 600,
        "title": "POLQ - Per Block Coverage (source: BAM file)",
        "width": 800,
        "xaxis": {
         "autorange": true,
         "title": "Samples",
         "titlefont": {
          "color": "#7f7f7f",
          "family": "Courier New, monospace",
          "size": 12
         }
        },
        "yaxis": {
         "title": "Coverage",
         "titlefont": {
          "color": "#7f7f7f",
          "family": "Courier New, monospace",
          "size": 12
         }
        }
       }
      },
      "text/html": [
       "<div id=\"1df7329d-b518-4e4e-b773-73e30c62c722\" style=\"height: 600px; width: 800px;\" class=\"plotly-graph-div\"></div><script type=\"text/javascript\">require([\"plotly\"], function(Plotly) { window.PLOTLYENV=window.PLOTLYENV || {};window.PLOTLYENV.BASE_URL=\"https://plot.ly\";Plotly.newPlot(\"1df7329d-b518-4e4e-b773-73e30c62c722\", [{\"opacity\": 0.7, \"colorscale\": [[0.0, \"rgb(77,0,75)\"], [0.1, \"rgb(77,0,75)\"], [0.1, \"rgb(129,15,124)\"], [0.2, \"rgb(129,15,124)\"], [0.2, \"rgb(136,65,157)\"], [0.3, \"rgb(136,65,157)\"], [0.3, \"rgb(140,107,177)\"], [0.4, \"rgb(140,107,177)\"], [0.4, \"rgb(140,150,198)\"], [0.5, \"rgb(140,150,198)\"], [0.5, \"rgb(158,188,218)\"], [0.6, \"rgb(158,188,218)\"], [0.6, \"rgb(191,211,230)\"], [0.7, \"rgb(191,211,230)\"], [0.7, \"rgb(224,236,244)\"], [0.8, \"rgb(224,236,244)\"], [0.8, \"rgb(247,252,253)\"], [1.0, \"rgb(247,252,253)\"]], \"showscale\": false, \"y\": [\"POLQ_1_F1\", \"POLQ_1_F2\", \"POLQ_1_F3\", \"POLQ_1_F4\", \"POLQ_1_F5\", \"POLQ_1_F6\", \"POLQ_1_F7\", \"POLQ_1_F8\", \"POLQ_1_F9\", \"POLQ_1_F10\", \"POLQ_1_F11\", \"POLQ_2_F1\", \"POLQ_2_F2\", \"POLQ_3_F1\", \"POLQ_3_F2\", \"POLQ_4_F1\", \"POLQ_4_F2\", \"POLQ_5_F1\", \"POLQ_5_F2\", \"POLQ_6_F1\", \"POLQ_6_F2\", \"POLQ_6_F3\", \"POLQ_7_F1\", \"POLQ_7_F2\", \"POLQ_8_F1\", \"POLQ_8_F2\", \"POLQ_9_F1\", \"POLQ_9_F2\", \"POLQ_9_F3\", \"POLQ_10_F1\", \"POLQ_10_F2\", \"POLQ_11_F1\", \"POLQ_11_F2\", \"POLQ_11_F3\", \"POLQ_12_F1\", \"POLQ_12_F2\", \"POLQ_12_F3\", \"POLQ_13_F1\", \"POLQ_13_F2\", \"POLQ_13_F3\", \"POLQ_14_F1\", \"POLQ_14_F2\", \"POLQ_15_F1\", \"POLQ_15_F2\", \"POLQ_15_F3\", \"POLQ_15_F4\", \"POLQ_15_F5\", \"POLQ_15_F6\", \"POLQ_15_F7\", \"POLQ_15_F8\", \"POLQ_15_F9\", \"POLQ_15_F10\", \"POLQ_15_F11\", \"POLQ_15_F12\", \"POLQ_15_F13\", \"POLQ_15_F14\", \"POLQ_15_F15\", \"POLQ_15_F16\", \"POLQ_15_F17\", \"POLQ_15_F18\", \"POLQ_15_F19\", \"POLQ_15_F20\", \"POLQ_15_F21\", \"POLQ_15_F22\", \"POLQ_15_F23\", \"POLQ_15_F24\", \"POLQ_15_F25\", \"POLQ_15_F26\", \"POLQ_15_F27\", \"POLQ_15_F28\", \"POLQ_15_F29\", \"POLQ_15_F30\", \"POLQ_15_F31\", \"POLQ_15_F32\", \"POLQ_16_F1\", \"POLQ_16_F2\", \"POLQ_16_F3\", \"POLQ_17_F1\", \"POLQ_17_F2\", \"POLQ_18_F1\", \"POLQ_18_F2\", \"POLQ_18_F3\", \"POLQ_19_F1\", \"POLQ_19_F2\", \"POLQ_20_F1\", \"POLQ_20_F2\", \"POLQ_20_F3\", \"POLQ_21_F1\", \"POLQ_21_F2\", \"POLQ_22_F1\", \"POLQ_22_F2\", \"POLQ_22_F3\", \"POLQ_23_F1\", \"POLQ_23_F2\", \"POLQ_24_F1\", \"POLQ_24_F2\", \"POLQ_25_F1\", \"POLQ_25_F2\", \"POLQ_25_F3\", \"POLQ_26_F1\", \"POLQ_26_F2\", \"POLQ_27_F1\", \"POLQ_27_F2\", \"POLQ_28_F1\", \"POLQ_28_F2\", \"POLQ_29_F1\", \"POLQ_29_F2\", \"POLQ_29_F3\", \"POLQ_30_F1\", \"POLQ_30_F2\", \"POLQ_30_F3\", \"POLQ_30_F4\"], \"x\": [\"Sample13_GSN-S301.primary.primerclipped.bam\", \"Sample36_GSN-S324.primary.primerclipped.bam\", \"Sample91_GSN-S379.primary.primerclipped.bam\"], \"z\": [[100, 100, 100], [100, 100, 100], [100, 100, 100], [100, 100, 100], [100, 100, 100], [100, 100, 100], [100, 100, 100], [100, 100, 100], [100, 100, 100], [100, 100, 100], [100, 100, 100], [100, 100, 100], [100, 100, 100], [100, 100, 100], [100, 100, 100], [100, 100, 100], [100, 100, 100], [100, 100, 100], [100, 100, 100], [100, 100, 100], [100, 100, 100], [100, 100, 100], [100, 100, 100], [100, 100, 100], [100, 100, 100], [100, 100, 100], [100, 100, 100], [100, 100, 100], [100, 100, 100], [100, 100, 100], [100, 100, 100], [100, 100, 100], [100, 100, 100], [100, 100, 100], [100, 100, 100], [100, 100, 100], [100, 100, 100], [100, 100, 100], [100, 100, 100], [100, 100, 100], [100, 100, 100], [100, 100, 100], [100, 100, 100], [100, 100, 100], [100, 100, 100], [100, 100, 100], [100, 100, 100], [100, 100, 100], [100, 100, 100], [100, 100, 100], [100, 100, 100], [100, 100, 100], [100, 100, 100], [100, 100, 100], [100, 100, 100], [100, 100, 100], [100, 100, 100], [100, 100, 100], [100, 100, 100], [100, 100, 100], [100, 100, 100], [100, 100, 100], [100, 100, 100], [100, 100, 100], [100, 100, 100], [100, 100, 100], [100, 100, 100], [100, 100, 100], [100, 100, 100], [100, 100, 100], [100, 100, 100], [100, 100, 100], [100, 100, 100], [100, 100, 100], [100, 100, 100], [100, 100, 100], [100, 100, 100], [100, 100, 100], [100, 100, 100], [100, 100, 100], [100, 100, 100], [100, 100, 100], [100, 100, 100], [100, 100, 100], [100, 100, 100], [100, 100, 100], [100, 100, 100], [100, 100, 100], [100, 100, 100], [100, 100, 100], [100, 100, 100], [100, 100, 100], [100, 100, 100], [100, 100, 100], [100, 100, 100], [100, 100, 100], [100, 100, 100], [100, 100, 100], [100, 100, 100], [100, 100, 100], [100, 100, 100], [100, 100, 100], [100, 100, 100], [100, 100, 100], [100, 100, 100], [100, 100, 100], [100, 100, 100], [100, 100, 100], [100, 100, 100], [100, 100, 100], [100, 100, 100], [100, 100, 100]], \"type\": \"heatmap\"}], {\"width\": 800, \"title\": \"POLQ - Per Block Coverage (source: BAM file)\", \"yaxis\": {\"titlefont\": {\"color\": \"#7f7f7f\", \"family\": \"Courier New, monospace\", \"size\": 12}, \"title\": \"Coverage\"}, \"xaxis\": {\"titlefont\": {\"color\": \"#7f7f7f\", \"family\": \"Courier New, monospace\", \"size\": 12}, \"autorange\": true, \"title\": \"Samples\"}, \"height\": 600}, {\"linkText\": \"Export to plot.ly\", \"showLink\": true})});</script>"
      ],
      "text/vnd.plotly.v1+html": [
       "<div id=\"1df7329d-b518-4e4e-b773-73e30c62c722\" style=\"height: 600px; width: 800px;\" class=\"plotly-graph-div\"></div><script type=\"text/javascript\">require([\"plotly\"], function(Plotly) { window.PLOTLYENV=window.PLOTLYENV || {};window.PLOTLYENV.BASE_URL=\"https://plot.ly\";Plotly.newPlot(\"1df7329d-b518-4e4e-b773-73e30c62c722\", [{\"opacity\": 0.7, \"colorscale\": [[0.0, \"rgb(77,0,75)\"], [0.1, \"rgb(77,0,75)\"], [0.1, \"rgb(129,15,124)\"], [0.2, \"rgb(129,15,124)\"], [0.2, \"rgb(136,65,157)\"], [0.3, \"rgb(136,65,157)\"], [0.3, \"rgb(140,107,177)\"], [0.4, \"rgb(140,107,177)\"], [0.4, \"rgb(140,150,198)\"], [0.5, \"rgb(140,150,198)\"], [0.5, \"rgb(158,188,218)\"], [0.6, \"rgb(158,188,218)\"], [0.6, \"rgb(191,211,230)\"], [0.7, \"rgb(191,211,230)\"], [0.7, \"rgb(224,236,244)\"], [0.8, \"rgb(224,236,244)\"], [0.8, \"rgb(247,252,253)\"], [1.0, \"rgb(247,252,253)\"]], \"showscale\": false, \"y\": [\"POLQ_1_F1\", \"POLQ_1_F2\", \"POLQ_1_F3\", \"POLQ_1_F4\", \"POLQ_1_F5\", \"POLQ_1_F6\", \"POLQ_1_F7\", \"POLQ_1_F8\", \"POLQ_1_F9\", \"POLQ_1_F10\", \"POLQ_1_F11\", \"POLQ_2_F1\", \"POLQ_2_F2\", \"POLQ_3_F1\", \"POLQ_3_F2\", \"POLQ_4_F1\", \"POLQ_4_F2\", \"POLQ_5_F1\", \"POLQ_5_F2\", \"POLQ_6_F1\", \"POLQ_6_F2\", \"POLQ_6_F3\", \"POLQ_7_F1\", \"POLQ_7_F2\", \"POLQ_8_F1\", \"POLQ_8_F2\", \"POLQ_9_F1\", \"POLQ_9_F2\", \"POLQ_9_F3\", \"POLQ_10_F1\", \"POLQ_10_F2\", \"POLQ_11_F1\", \"POLQ_11_F2\", \"POLQ_11_F3\", \"POLQ_12_F1\", \"POLQ_12_F2\", \"POLQ_12_F3\", \"POLQ_13_F1\", \"POLQ_13_F2\", \"POLQ_13_F3\", \"POLQ_14_F1\", \"POLQ_14_F2\", \"POLQ_15_F1\", \"POLQ_15_F2\", \"POLQ_15_F3\", \"POLQ_15_F4\", \"POLQ_15_F5\", \"POLQ_15_F6\", \"POLQ_15_F7\", \"POLQ_15_F8\", \"POLQ_15_F9\", \"POLQ_15_F10\", \"POLQ_15_F11\", \"POLQ_15_F12\", \"POLQ_15_F13\", \"POLQ_15_F14\", \"POLQ_15_F15\", \"POLQ_15_F16\", \"POLQ_15_F17\", \"POLQ_15_F18\", \"POLQ_15_F19\", \"POLQ_15_F20\", \"POLQ_15_F21\", \"POLQ_15_F22\", \"POLQ_15_F23\", \"POLQ_15_F24\", \"POLQ_15_F25\", \"POLQ_15_F26\", \"POLQ_15_F27\", \"POLQ_15_F28\", \"POLQ_15_F29\", \"POLQ_15_F30\", \"POLQ_15_F31\", \"POLQ_15_F32\", \"POLQ_16_F1\", \"POLQ_16_F2\", \"POLQ_16_F3\", \"POLQ_17_F1\", \"POLQ_17_F2\", \"POLQ_18_F1\", \"POLQ_18_F2\", \"POLQ_18_F3\", \"POLQ_19_F1\", \"POLQ_19_F2\", \"POLQ_20_F1\", \"POLQ_20_F2\", \"POLQ_20_F3\", \"POLQ_21_F1\", \"POLQ_21_F2\", \"POLQ_22_F1\", \"POLQ_22_F2\", \"POLQ_22_F3\", \"POLQ_23_F1\", \"POLQ_23_F2\", \"POLQ_24_F1\", \"POLQ_24_F2\", \"POLQ_25_F1\", \"POLQ_25_F2\", \"POLQ_25_F3\", \"POLQ_26_F1\", \"POLQ_26_F2\", \"POLQ_27_F1\", \"POLQ_27_F2\", \"POLQ_28_F1\", \"POLQ_28_F2\", \"POLQ_29_F1\", \"POLQ_29_F2\", \"POLQ_29_F3\", \"POLQ_30_F1\", \"POLQ_30_F2\", \"POLQ_30_F3\", \"POLQ_30_F4\"], \"x\": [\"Sample13_GSN-S301.primary.primerclipped.bam\", \"Sample36_GSN-S324.primary.primerclipped.bam\", \"Sample91_GSN-S379.primary.primerclipped.bam\"], \"z\": [[100, 100, 100], [100, 100, 100], [100, 100, 100], [100, 100, 100], [100, 100, 100], [100, 100, 100], [100, 100, 100], [100, 100, 100], [100, 100, 100], [100, 100, 100], [100, 100, 100], [100, 100, 100], [100, 100, 100], [100, 100, 100], [100, 100, 100], [100, 100, 100], [100, 100, 100], [100, 100, 100], [100, 100, 100], [100, 100, 100], [100, 100, 100], [100, 100, 100], [100, 100, 100], [100, 100, 100], [100, 100, 100], [100, 100, 100], [100, 100, 100], [100, 100, 100], [100, 100, 100], [100, 100, 100], [100, 100, 100], [100, 100, 100], [100, 100, 100], [100, 100, 100], [100, 100, 100], [100, 100, 100], [100, 100, 100], [100, 100, 100], [100, 100, 100], [100, 100, 100], [100, 100, 100], [100, 100, 100], [100, 100, 100], [100, 100, 100], [100, 100, 100], [100, 100, 100], [100, 100, 100], [100, 100, 100], [100, 100, 100], [100, 100, 100], [100, 100, 100], [100, 100, 100], [100, 100, 100], [100, 100, 100], [100, 100, 100], [100, 100, 100], [100, 100, 100], [100, 100, 100], [100, 100, 100], [100, 100, 100], [100, 100, 100], [100, 100, 100], [100, 100, 100], [100, 100, 100], [100, 100, 100], [100, 100, 100], [100, 100, 100], [100, 100, 100], [100, 100, 100], [100, 100, 100], [100, 100, 100], [100, 100, 100], [100, 100, 100], [100, 100, 100], [100, 100, 100], [100, 100, 100], [100, 100, 100], [100, 100, 100], [100, 100, 100], [100, 100, 100], [100, 100, 100], [100, 100, 100], [100, 100, 100], [100, 100, 100], [100, 100, 100], [100, 100, 100], [100, 100, 100], [100, 100, 100], [100, 100, 100], [100, 100, 100], [100, 100, 100], [100, 100, 100], [100, 100, 100], [100, 100, 100], [100, 100, 100], [100, 100, 100], [100, 100, 100], [100, 100, 100], [100, 100, 100], [100, 100, 100], [100, 100, 100], [100, 100, 100], [100, 100, 100], [100, 100, 100], [100, 100, 100], [100, 100, 100], [100, 100, 100], [100, 100, 100], [100, 100, 100], [100, 100, 100], [100, 100, 100], [100, 100, 100]], \"type\": \"heatmap\"}], {\"width\": 800, \"title\": \"POLQ - Per Block Coverage (source: BAM file)\", \"yaxis\": {\"titlefont\": {\"color\": \"#7f7f7f\", \"family\": \"Courier New, monospace\", \"size\": 12}, \"title\": \"Coverage\"}, \"xaxis\": {\"titlefont\": {\"color\": \"#7f7f7f\", \"family\": \"Courier New, monospace\", \"size\": 12}, \"autorange\": true, \"title\": \"Samples\"}, \"height\": 600}, {\"linkText\": \"Export to plot.ly\", \"showLink\": true})});</script>"
      ]
     },
     "metadata": {},
     "output_type": "display_data"
    },
    {
     "data": {
      "application/vnd.plotly.v1+json": {
       "data": [
        {
         "colorscale": [
          [
           0,
           "rgb(77,0,75)"
          ],
          [
           0.1,
           "rgb(77,0,75)"
          ],
          [
           0.1,
           "rgb(129,15,124)"
          ],
          [
           0.2,
           "rgb(129,15,124)"
          ],
          [
           0.2,
           "rgb(136,65,157)"
          ],
          [
           0.3,
           "rgb(136,65,157)"
          ],
          [
           0.3,
           "rgb(140,107,177)"
          ],
          [
           0.4,
           "rgb(140,107,177)"
          ],
          [
           0.4,
           "rgb(140,150,198)"
          ],
          [
           0.5,
           "rgb(140,150,198)"
          ],
          [
           0.5,
           "rgb(158,188,218)"
          ],
          [
           0.6,
           "rgb(158,188,218)"
          ],
          [
           0.6,
           "rgb(191,211,230)"
          ],
          [
           0.7,
           "rgb(191,211,230)"
          ],
          [
           0.7,
           "rgb(224,236,244)"
          ],
          [
           0.8,
           "rgb(224,236,244)"
          ],
          [
           0.8,
           "rgb(247,252,253)"
          ],
          [
           1,
           "rgb(247,252,253)"
          ]
         ],
         "opacity": 0.7,
         "showscale": false,
         "type": "heatmap",
         "x": [
          "Sample13_GSN-S301.primary.primerclipped.bam",
          "Sample36_GSN-S324.primary.primerclipped.bam",
          "Sample91_GSN-S379.primary.primerclipped.bam"
         ],
         "y": [
          "RNF43_1_F1",
          "RNF43_1_F2",
          "RNF43_1_F3",
          "RNF43_1_F4",
          "RNF43_1_F5",
          "RNF43_1_F6",
          "RNF43_1_F7",
          "RNF43_1_F8",
          "RNF43_1_F9",
          "RNF43_1_F10",
          "RNF43_1_F11",
          "RNF43_1_F12",
          "RNF43_1_F13",
          "RNF43_1_F14",
          "RNF43_1_F15",
          "RNF43_1_F16",
          "RNF43_1_F17",
          "RNF43_1_F18",
          "RNF43_1_F19",
          "RNF43_1_F20",
          "RNF43_1_F21",
          "RNF43_1_F22",
          "RNF43_1_F23",
          "RNF43_1_F24",
          "RNF43_1_F25",
          "RNF43_1_F26",
          "RNF43_2_F1",
          "RNF43_2_F2",
          "RNF43_2_F3",
          "RNF43_2_F4",
          "RNF43_2_F5",
          "RNF43_2_F6",
          "RNF43_2_F7",
          "RNF43_2_F8",
          "RNF43_2_F9",
          "RNF43_2_F10",
          "RNF43_2_F11",
          "RNF43_2_F12",
          "RNF43_2_F13",
          "RNF43_2_F14",
          "RNF43_3_F1",
          "RNF43_3_F2",
          "RNF43_4_F1",
          "RNF43_4_F2",
          "RNF43_4_F3",
          "RNF43_5_F1",
          "RNF43_5_F2",
          "RNF43_6_F1",
          "RNF43_6_F2",
          "RNF43_6_F3",
          "RNF43_6_F4",
          "RNF43_7_F1",
          "RNF43_7_F2",
          "RNF43_8_F1",
          "RNF43_8_F2",
          "RNF43_8_F3",
          "RNF43_8_F4",
          "RNF43_8_F5",
          "RNF43_8_F6",
          "RNF43_8_F7",
          "RNF43_9_F1",
          "RNF43_9_F2",
          "RNF43_9_F3",
          "RNF43_9_F4",
          "RNF43_9_F5",
          "RNF43_9_F6",
          "RNF43_9_F7"
         ],
         "z": [
          [
           100,
           100,
           100
          ],
          [
           100,
           100,
           100
          ],
          [
           100,
           100,
           100
          ],
          [
           100,
           100,
           100
          ],
          [
           100,
           100,
           100
          ],
          [
           100,
           100,
           100
          ],
          [
           100,
           100,
           100
          ],
          [
           100,
           100,
           100
          ],
          [
           100,
           100,
           100
          ],
          [
           100,
           100,
           100
          ],
          [
           100,
           100,
           100
          ],
          [
           100,
           100,
           100
          ],
          [
           100,
           100,
           100
          ],
          [
           100,
           100,
           100
          ],
          [
           100,
           100,
           100
          ],
          [
           100,
           100,
           100
          ],
          [
           100,
           100,
           100
          ],
          [
           100,
           100,
           100
          ],
          [
           100,
           100,
           100
          ],
          [
           100,
           100,
           100
          ],
          [
           100,
           100,
           100
          ],
          [
           100,
           100,
           100
          ],
          [
           100,
           100,
           100
          ],
          [
           100,
           100,
           100
          ],
          [
           100,
           100,
           100
          ],
          [
           100,
           100,
           100
          ],
          [
           100,
           100,
           100
          ],
          [
           100,
           100,
           100
          ],
          [
           100,
           100,
           100
          ],
          [
           100,
           100,
           100
          ],
          [
           100,
           100,
           100
          ],
          [
           100,
           100,
           100
          ],
          [
           100,
           100,
           100
          ],
          [
           100,
           100,
           100
          ],
          [
           100,
           100,
           100
          ],
          [
           100,
           100,
           100
          ],
          [
           100,
           100,
           100
          ],
          [
           100,
           100,
           100
          ],
          [
           100,
           100,
           100
          ],
          [
           100,
           100,
           100
          ],
          [
           100,
           100,
           100
          ],
          [
           100,
           100,
           100
          ],
          [
           100,
           100,
           100
          ],
          [
           100,
           100,
           100
          ],
          [
           100,
           100,
           100
          ],
          [
           100,
           100,
           100
          ],
          [
           100,
           100,
           100
          ],
          [
           100,
           100,
           100
          ],
          [
           100,
           100,
           100
          ],
          [
           100,
           100,
           100
          ],
          [
           100,
           100,
           100
          ],
          [
           100,
           100,
           100
          ],
          [
           100,
           100,
           100
          ],
          [
           100,
           100,
           100
          ],
          [
           100,
           100,
           100
          ],
          [
           100,
           100,
           100
          ],
          [
           100,
           100,
           100
          ],
          [
           100,
           100,
           100
          ],
          [
           100,
           100,
           100
          ],
          [
           100,
           100,
           100
          ],
          [
           100,
           100,
           100
          ],
          [
           100,
           100,
           100
          ],
          [
           100,
           100,
           100
          ],
          [
           100,
           100,
           100
          ],
          [
           100,
           100,
           100
          ],
          [
           100,
           100,
           100
          ],
          [
           100,
           100,
           100
          ]
         ]
        }
       ],
       "layout": {
        "height": 600,
        "title": "RNF43 - Per Block Coverage (source: BAM file)",
        "width": 800,
        "xaxis": {
         "autorange": true,
         "title": "Samples",
         "titlefont": {
          "color": "#7f7f7f",
          "family": "Courier New, monospace",
          "size": 12
         }
        },
        "yaxis": {
         "title": "Coverage",
         "titlefont": {
          "color": "#7f7f7f",
          "family": "Courier New, monospace",
          "size": 12
         }
        }
       }
      },
      "text/html": [
       "<div id=\"464b8c8b-4c53-4a3a-a169-d2f01fd3eb55\" style=\"height: 600px; width: 800px;\" class=\"plotly-graph-div\"></div><script type=\"text/javascript\">require([\"plotly\"], function(Plotly) { window.PLOTLYENV=window.PLOTLYENV || {};window.PLOTLYENV.BASE_URL=\"https://plot.ly\";Plotly.newPlot(\"464b8c8b-4c53-4a3a-a169-d2f01fd3eb55\", [{\"opacity\": 0.7, \"colorscale\": [[0.0, \"rgb(77,0,75)\"], [0.1, \"rgb(77,0,75)\"], [0.1, \"rgb(129,15,124)\"], [0.2, \"rgb(129,15,124)\"], [0.2, \"rgb(136,65,157)\"], [0.3, \"rgb(136,65,157)\"], [0.3, \"rgb(140,107,177)\"], [0.4, \"rgb(140,107,177)\"], [0.4, \"rgb(140,150,198)\"], [0.5, \"rgb(140,150,198)\"], [0.5, \"rgb(158,188,218)\"], [0.6, \"rgb(158,188,218)\"], [0.6, \"rgb(191,211,230)\"], [0.7, \"rgb(191,211,230)\"], [0.7, \"rgb(224,236,244)\"], [0.8, \"rgb(224,236,244)\"], [0.8, \"rgb(247,252,253)\"], [1.0, \"rgb(247,252,253)\"]], \"showscale\": false, \"y\": [\"RNF43_1_F1\", \"RNF43_1_F2\", \"RNF43_1_F3\", \"RNF43_1_F4\", \"RNF43_1_F5\", \"RNF43_1_F6\", \"RNF43_1_F7\", \"RNF43_1_F8\", \"RNF43_1_F9\", \"RNF43_1_F10\", \"RNF43_1_F11\", \"RNF43_1_F12\", \"RNF43_1_F13\", \"RNF43_1_F14\", \"RNF43_1_F15\", \"RNF43_1_F16\", \"RNF43_1_F17\", \"RNF43_1_F18\", \"RNF43_1_F19\", \"RNF43_1_F20\", \"RNF43_1_F21\", \"RNF43_1_F22\", \"RNF43_1_F23\", \"RNF43_1_F24\", \"RNF43_1_F25\", \"RNF43_1_F26\", \"RNF43_2_F1\", \"RNF43_2_F2\", \"RNF43_2_F3\", \"RNF43_2_F4\", \"RNF43_2_F5\", \"RNF43_2_F6\", \"RNF43_2_F7\", \"RNF43_2_F8\", \"RNF43_2_F9\", \"RNF43_2_F10\", \"RNF43_2_F11\", \"RNF43_2_F12\", \"RNF43_2_F13\", \"RNF43_2_F14\", \"RNF43_3_F1\", \"RNF43_3_F2\", \"RNF43_4_F1\", \"RNF43_4_F2\", \"RNF43_4_F3\", \"RNF43_5_F1\", \"RNF43_5_F2\", \"RNF43_6_F1\", \"RNF43_6_F2\", \"RNF43_6_F3\", \"RNF43_6_F4\", \"RNF43_7_F1\", \"RNF43_7_F2\", \"RNF43_8_F1\", \"RNF43_8_F2\", \"RNF43_8_F3\", \"RNF43_8_F4\", \"RNF43_8_F5\", \"RNF43_8_F6\", \"RNF43_8_F7\", \"RNF43_9_F1\", \"RNF43_9_F2\", \"RNF43_9_F3\", \"RNF43_9_F4\", \"RNF43_9_F5\", \"RNF43_9_F6\", \"RNF43_9_F7\"], \"x\": [\"Sample13_GSN-S301.primary.primerclipped.bam\", \"Sample36_GSN-S324.primary.primerclipped.bam\", \"Sample91_GSN-S379.primary.primerclipped.bam\"], \"z\": [[100, 100, 100], [100, 100, 100], [100, 100, 100], [100, 100, 100], [100, 100, 100], [100, 100, 100], [100, 100, 100], [100, 100, 100], [100, 100, 100], [100, 100, 100], [100, 100, 100], [100, 100, 100], [100, 100, 100], [100, 100, 100], [100, 100, 100], [100, 100, 100], [100, 100, 100], [100, 100, 100], [100, 100, 100], [100, 100, 100], [100, 100, 100], [100, 100, 100], [100, 100, 100], [100, 100, 100], [100, 100, 100], [100, 100, 100], [100, 100, 100], [100, 100, 100], [100, 100, 100], [100, 100, 100], [100, 100, 100], [100, 100, 100], [100, 100, 100], [100, 100, 100], [100, 100, 100], [100, 100, 100], [100, 100, 100], [100, 100, 100], [100, 100, 100], [100, 100, 100], [100, 100, 100], [100, 100, 100], [100, 100, 100], [100, 100, 100], [100, 100, 100], [100, 100, 100], [100, 100, 100], [100, 100, 100], [100, 100, 100], [100, 100, 100], [100, 100, 100], [100, 100, 100], [100, 100, 100], [100, 100, 100], [100, 100, 100], [100, 100, 100], [100, 100, 100], [100, 100, 100], [100, 100, 100], [100, 100, 100], [100, 100, 100], [100, 100, 100], [100, 100, 100], [100, 100, 100], [100, 100, 100], [100, 100, 100], [100, 100, 100]], \"type\": \"heatmap\"}], {\"width\": 800, \"title\": \"RNF43 - Per Block Coverage (source: BAM file)\", \"yaxis\": {\"titlefont\": {\"color\": \"#7f7f7f\", \"family\": \"Courier New, monospace\", \"size\": 12}, \"title\": \"Coverage\"}, \"xaxis\": {\"titlefont\": {\"color\": \"#7f7f7f\", \"family\": \"Courier New, monospace\", \"size\": 12}, \"autorange\": true, \"title\": \"Samples\"}, \"height\": 600}, {\"linkText\": \"Export to plot.ly\", \"showLink\": true})});</script>"
      ],
      "text/vnd.plotly.v1+html": [
       "<div id=\"464b8c8b-4c53-4a3a-a169-d2f01fd3eb55\" style=\"height: 600px; width: 800px;\" class=\"plotly-graph-div\"></div><script type=\"text/javascript\">require([\"plotly\"], function(Plotly) { window.PLOTLYENV=window.PLOTLYENV || {};window.PLOTLYENV.BASE_URL=\"https://plot.ly\";Plotly.newPlot(\"464b8c8b-4c53-4a3a-a169-d2f01fd3eb55\", [{\"opacity\": 0.7, \"colorscale\": [[0.0, \"rgb(77,0,75)\"], [0.1, \"rgb(77,0,75)\"], [0.1, \"rgb(129,15,124)\"], [0.2, \"rgb(129,15,124)\"], [0.2, \"rgb(136,65,157)\"], [0.3, \"rgb(136,65,157)\"], [0.3, \"rgb(140,107,177)\"], [0.4, \"rgb(140,107,177)\"], [0.4, \"rgb(140,150,198)\"], [0.5, \"rgb(140,150,198)\"], [0.5, \"rgb(158,188,218)\"], [0.6, \"rgb(158,188,218)\"], [0.6, \"rgb(191,211,230)\"], [0.7, \"rgb(191,211,230)\"], [0.7, \"rgb(224,236,244)\"], [0.8, \"rgb(224,236,244)\"], [0.8, \"rgb(247,252,253)\"], [1.0, \"rgb(247,252,253)\"]], \"showscale\": false, \"y\": [\"RNF43_1_F1\", \"RNF43_1_F2\", \"RNF43_1_F3\", \"RNF43_1_F4\", \"RNF43_1_F5\", \"RNF43_1_F6\", \"RNF43_1_F7\", \"RNF43_1_F8\", \"RNF43_1_F9\", \"RNF43_1_F10\", \"RNF43_1_F11\", \"RNF43_1_F12\", \"RNF43_1_F13\", \"RNF43_1_F14\", \"RNF43_1_F15\", \"RNF43_1_F16\", \"RNF43_1_F17\", \"RNF43_1_F18\", \"RNF43_1_F19\", \"RNF43_1_F20\", \"RNF43_1_F21\", \"RNF43_1_F22\", \"RNF43_1_F23\", \"RNF43_1_F24\", \"RNF43_1_F25\", \"RNF43_1_F26\", \"RNF43_2_F1\", \"RNF43_2_F2\", \"RNF43_2_F3\", \"RNF43_2_F4\", \"RNF43_2_F5\", \"RNF43_2_F6\", \"RNF43_2_F7\", \"RNF43_2_F8\", \"RNF43_2_F9\", \"RNF43_2_F10\", \"RNF43_2_F11\", \"RNF43_2_F12\", \"RNF43_2_F13\", \"RNF43_2_F14\", \"RNF43_3_F1\", \"RNF43_3_F2\", \"RNF43_4_F1\", \"RNF43_4_F2\", \"RNF43_4_F3\", \"RNF43_5_F1\", \"RNF43_5_F2\", \"RNF43_6_F1\", \"RNF43_6_F2\", \"RNF43_6_F3\", \"RNF43_6_F4\", \"RNF43_7_F1\", \"RNF43_7_F2\", \"RNF43_8_F1\", \"RNF43_8_F2\", \"RNF43_8_F3\", \"RNF43_8_F4\", \"RNF43_8_F5\", \"RNF43_8_F6\", \"RNF43_8_F7\", \"RNF43_9_F1\", \"RNF43_9_F2\", \"RNF43_9_F3\", \"RNF43_9_F4\", \"RNF43_9_F5\", \"RNF43_9_F6\", \"RNF43_9_F7\"], \"x\": [\"Sample13_GSN-S301.primary.primerclipped.bam\", \"Sample36_GSN-S324.primary.primerclipped.bam\", \"Sample91_GSN-S379.primary.primerclipped.bam\"], \"z\": [[100, 100, 100], [100, 100, 100], [100, 100, 100], [100, 100, 100], [100, 100, 100], [100, 100, 100], [100, 100, 100], [100, 100, 100], [100, 100, 100], [100, 100, 100], [100, 100, 100], [100, 100, 100], [100, 100, 100], [100, 100, 100], [100, 100, 100], [100, 100, 100], [100, 100, 100], [100, 100, 100], [100, 100, 100], [100, 100, 100], [100, 100, 100], [100, 100, 100], [100, 100, 100], [100, 100, 100], [100, 100, 100], [100, 100, 100], [100, 100, 100], [100, 100, 100], [100, 100, 100], [100, 100, 100], [100, 100, 100], [100, 100, 100], [100, 100, 100], [100, 100, 100], [100, 100, 100], [100, 100, 100], [100, 100, 100], [100, 100, 100], [100, 100, 100], [100, 100, 100], [100, 100, 100], [100, 100, 100], [100, 100, 100], [100, 100, 100], [100, 100, 100], [100, 100, 100], [100, 100, 100], [100, 100, 100], [100, 100, 100], [100, 100, 100], [100, 100, 100], [100, 100, 100], [100, 100, 100], [100, 100, 100], [100, 100, 100], [100, 100, 100], [100, 100, 100], [100, 100, 100], [100, 100, 100], [100, 100, 100], [100, 100, 100], [100, 100, 100], [100, 100, 100], [100, 100, 100], [100, 100, 100], [100, 100, 100], [100, 100, 100]], \"type\": \"heatmap\"}], {\"width\": 800, \"title\": \"RNF43 - Per Block Coverage (source: BAM file)\", \"yaxis\": {\"titlefont\": {\"color\": \"#7f7f7f\", \"family\": \"Courier New, monospace\", \"size\": 12}, \"title\": \"Coverage\"}, \"xaxis\": {\"titlefont\": {\"color\": \"#7f7f7f\", \"family\": \"Courier New, monospace\", \"size\": 12}, \"autorange\": true, \"title\": \"Samples\"}, \"height\": 600}, {\"linkText\": \"Export to plot.ly\", \"showLink\": true})});</script>"
      ]
     },
     "metadata": {},
     "output_type": "display_data"
    },
    {
     "data": {
      "application/vnd.plotly.v1+json": {
       "data": [
        {
         "colorscale": [
          [
           0,
           "rgb(77,0,75)"
          ],
          [
           0.1,
           "rgb(77,0,75)"
          ],
          [
           0.1,
           "rgb(129,15,124)"
          ],
          [
           0.2,
           "rgb(129,15,124)"
          ],
          [
           0.2,
           "rgb(136,65,157)"
          ],
          [
           0.3,
           "rgb(136,65,157)"
          ],
          [
           0.3,
           "rgb(140,107,177)"
          ],
          [
           0.4,
           "rgb(140,107,177)"
          ],
          [
           0.4,
           "rgb(140,150,198)"
          ],
          [
           0.5,
           "rgb(140,150,198)"
          ],
          [
           0.5,
           "rgb(158,188,218)"
          ],
          [
           0.6,
           "rgb(158,188,218)"
          ],
          [
           0.6,
           "rgb(191,211,230)"
          ],
          [
           0.7,
           "rgb(191,211,230)"
          ],
          [
           0.7,
           "rgb(224,236,244)"
          ],
          [
           0.8,
           "rgb(224,236,244)"
          ],
          [
           0.8,
           "rgb(247,252,253)"
          ],
          [
           1,
           "rgb(247,252,253)"
          ]
         ],
         "opacity": 0.7,
         "showscale": false,
         "type": "heatmap",
         "x": [
          "Sample13_GSN-S301.primary.primerclipped.bam",
          "Sample36_GSN-S324.primary.primerclipped.bam",
          "Sample91_GSN-S379.primary.primerclipped.bam"
         ],
         "y": [
          "TRIP4_1_F1",
          "TRIP4_1_F2",
          "TRIP4_1_F3",
          "TRIP4_2_F1",
          "TRIP4_2_F2",
          "TRIP4_2_F3",
          "TRIP4_3_F1",
          "TRIP4_3_F2",
          "TRIP4_4_F1",
          "TRIP4_4_F2",
          "TRIP4_4_F3",
          "TRIP4_5_F1",
          "TRIP4_5_F2",
          "TRIP4_6_F1",
          "TRIP4_6_F2",
          "TRIP4_7_F1",
          "TRIP4_7_F2",
          "TRIP4_7_F3",
          "TRIP4_8_F1",
          "TRIP4_8_F2",
          "TRIP4_9_F1",
          "TRIP4_9_F2",
          "TRIP4_9_F3",
          "TRIP4_10_F1",
          "TRIP4_10_F2",
          "TRIP4_11_F1",
          "TRIP4_11_F2",
          "TRIP4_12_F1",
          "TRIP4_12_F2",
          "TRIP4_13_F1",
          "TRIP4_13_F2",
          "TRIP4_13_F3",
          "TRIP4_13_F4"
         ],
         "z": [
          [
           100,
           100,
           100
          ],
          [
           100,
           100,
           100
          ],
          [
           100,
           100,
           100
          ],
          [
           100,
           100,
           100
          ],
          [
           100,
           100,
           100
          ],
          [
           100,
           100,
           100
          ],
          [
           100,
           100,
           100
          ],
          [
           100,
           100,
           100
          ],
          [
           100,
           100,
           100
          ],
          [
           100,
           100,
           100
          ],
          [
           100,
           100,
           100
          ],
          [
           100,
           100,
           100
          ],
          [
           100,
           100,
           100
          ],
          [
           100,
           100,
           100
          ],
          [
           100,
           100,
           100
          ],
          [
           100,
           100,
           100
          ],
          [
           100,
           100,
           100
          ],
          [
           100,
           100,
           100
          ],
          [
           100,
           100,
           100
          ],
          [
           100,
           100,
           100
          ],
          [
           100,
           100,
           100
          ],
          [
           100,
           100,
           100
          ],
          [
           100,
           100,
           100
          ],
          [
           100,
           100,
           100
          ],
          [
           100,
           100,
           100
          ],
          [
           100,
           100,
           100
          ],
          [
           100,
           100,
           100
          ],
          [
           100,
           100,
           100
          ],
          [
           100,
           100,
           100
          ],
          [
           100,
           100,
           100
          ],
          [
           100,
           100,
           100
          ],
          [
           100,
           100,
           100
          ],
          [
           100,
           100,
           100
          ]
         ]
        }
       ],
       "layout": {
        "height": 600,
        "title": "TRIP4 - Per Block Coverage (source: BAM file)",
        "width": 800,
        "xaxis": {
         "autorange": true,
         "title": "Samples",
         "titlefont": {
          "color": "#7f7f7f",
          "family": "Courier New, monospace",
          "size": 12
         }
        },
        "yaxis": {
         "title": "Coverage",
         "titlefont": {
          "color": "#7f7f7f",
          "family": "Courier New, monospace",
          "size": 12
         }
        }
       }
      },
      "text/html": [
       "<div id=\"9d58ed18-829c-4177-b66a-c1f5f6f214b2\" style=\"height: 600px; width: 800px;\" class=\"plotly-graph-div\"></div><script type=\"text/javascript\">require([\"plotly\"], function(Plotly) { window.PLOTLYENV=window.PLOTLYENV || {};window.PLOTLYENV.BASE_URL=\"https://plot.ly\";Plotly.newPlot(\"9d58ed18-829c-4177-b66a-c1f5f6f214b2\", [{\"opacity\": 0.7, \"colorscale\": [[0.0, \"rgb(77,0,75)\"], [0.1, \"rgb(77,0,75)\"], [0.1, \"rgb(129,15,124)\"], [0.2, \"rgb(129,15,124)\"], [0.2, \"rgb(136,65,157)\"], [0.3, \"rgb(136,65,157)\"], [0.3, \"rgb(140,107,177)\"], [0.4, \"rgb(140,107,177)\"], [0.4, \"rgb(140,150,198)\"], [0.5, \"rgb(140,150,198)\"], [0.5, \"rgb(158,188,218)\"], [0.6, \"rgb(158,188,218)\"], [0.6, \"rgb(191,211,230)\"], [0.7, \"rgb(191,211,230)\"], [0.7, \"rgb(224,236,244)\"], [0.8, \"rgb(224,236,244)\"], [0.8, \"rgb(247,252,253)\"], [1.0, \"rgb(247,252,253)\"]], \"showscale\": false, \"y\": [\"TRIP4_1_F1\", \"TRIP4_1_F2\", \"TRIP4_1_F3\", \"TRIP4_2_F1\", \"TRIP4_2_F2\", \"TRIP4_2_F3\", \"TRIP4_3_F1\", \"TRIP4_3_F2\", \"TRIP4_4_F1\", \"TRIP4_4_F2\", \"TRIP4_4_F3\", \"TRIP4_5_F1\", \"TRIP4_5_F2\", \"TRIP4_6_F1\", \"TRIP4_6_F2\", \"TRIP4_7_F1\", \"TRIP4_7_F2\", \"TRIP4_7_F3\", \"TRIP4_8_F1\", \"TRIP4_8_F2\", \"TRIP4_9_F1\", \"TRIP4_9_F2\", \"TRIP4_9_F3\", \"TRIP4_10_F1\", \"TRIP4_10_F2\", \"TRIP4_11_F1\", \"TRIP4_11_F2\", \"TRIP4_12_F1\", \"TRIP4_12_F2\", \"TRIP4_13_F1\", \"TRIP4_13_F2\", \"TRIP4_13_F3\", \"TRIP4_13_F4\"], \"x\": [\"Sample13_GSN-S301.primary.primerclipped.bam\", \"Sample36_GSN-S324.primary.primerclipped.bam\", \"Sample91_GSN-S379.primary.primerclipped.bam\"], \"z\": [[100, 100, 100], [100, 100, 100], [100, 100, 100], [100, 100, 100], [100, 100, 100], [100, 100, 100], [100, 100, 100], [100, 100, 100], [100, 100, 100], [100, 100, 100], [100, 100, 100], [100, 100, 100], [100, 100, 100], [100, 100, 100], [100, 100, 100], [100, 100, 100], [100, 100, 100], [100, 100, 100], [100, 100, 100], [100, 100, 100], [100, 100, 100], [100, 100, 100], [100, 100, 100], [100, 100, 100], [100, 100, 100], [100, 100, 100], [100, 100, 100], [100, 100, 100], [100, 100, 100], [100, 100, 100], [100, 100, 100], [100, 100, 100], [100, 100, 100]], \"type\": \"heatmap\"}], {\"width\": 800, \"title\": \"TRIP4 - Per Block Coverage (source: BAM file)\", \"yaxis\": {\"titlefont\": {\"color\": \"#7f7f7f\", \"family\": \"Courier New, monospace\", \"size\": 12}, \"title\": \"Coverage\"}, \"xaxis\": {\"titlefont\": {\"color\": \"#7f7f7f\", \"family\": \"Courier New, monospace\", \"size\": 12}, \"autorange\": true, \"title\": \"Samples\"}, \"height\": 600}, {\"linkText\": \"Export to plot.ly\", \"showLink\": true})});</script>"
      ],
      "text/vnd.plotly.v1+html": [
       "<div id=\"9d58ed18-829c-4177-b66a-c1f5f6f214b2\" style=\"height: 600px; width: 800px;\" class=\"plotly-graph-div\"></div><script type=\"text/javascript\">require([\"plotly\"], function(Plotly) { window.PLOTLYENV=window.PLOTLYENV || {};window.PLOTLYENV.BASE_URL=\"https://plot.ly\";Plotly.newPlot(\"9d58ed18-829c-4177-b66a-c1f5f6f214b2\", [{\"opacity\": 0.7, \"colorscale\": [[0.0, \"rgb(77,0,75)\"], [0.1, \"rgb(77,0,75)\"], [0.1, \"rgb(129,15,124)\"], [0.2, \"rgb(129,15,124)\"], [0.2, \"rgb(136,65,157)\"], [0.3, \"rgb(136,65,157)\"], [0.3, \"rgb(140,107,177)\"], [0.4, \"rgb(140,107,177)\"], [0.4, \"rgb(140,150,198)\"], [0.5, \"rgb(140,150,198)\"], [0.5, \"rgb(158,188,218)\"], [0.6, \"rgb(158,188,218)\"], [0.6, \"rgb(191,211,230)\"], [0.7, \"rgb(191,211,230)\"], [0.7, \"rgb(224,236,244)\"], [0.8, \"rgb(224,236,244)\"], [0.8, \"rgb(247,252,253)\"], [1.0, \"rgb(247,252,253)\"]], \"showscale\": false, \"y\": [\"TRIP4_1_F1\", \"TRIP4_1_F2\", \"TRIP4_1_F3\", \"TRIP4_2_F1\", \"TRIP4_2_F2\", \"TRIP4_2_F3\", \"TRIP4_3_F1\", \"TRIP4_3_F2\", \"TRIP4_4_F1\", \"TRIP4_4_F2\", \"TRIP4_4_F3\", \"TRIP4_5_F1\", \"TRIP4_5_F2\", \"TRIP4_6_F1\", \"TRIP4_6_F2\", \"TRIP4_7_F1\", \"TRIP4_7_F2\", \"TRIP4_7_F3\", \"TRIP4_8_F1\", \"TRIP4_8_F2\", \"TRIP4_9_F1\", \"TRIP4_9_F2\", \"TRIP4_9_F3\", \"TRIP4_10_F1\", \"TRIP4_10_F2\", \"TRIP4_11_F1\", \"TRIP4_11_F2\", \"TRIP4_12_F1\", \"TRIP4_12_F2\", \"TRIP4_13_F1\", \"TRIP4_13_F2\", \"TRIP4_13_F3\", \"TRIP4_13_F4\"], \"x\": [\"Sample13_GSN-S301.primary.primerclipped.bam\", \"Sample36_GSN-S324.primary.primerclipped.bam\", \"Sample91_GSN-S379.primary.primerclipped.bam\"], \"z\": [[100, 100, 100], [100, 100, 100], [100, 100, 100], [100, 100, 100], [100, 100, 100], [100, 100, 100], [100, 100, 100], [100, 100, 100], [100, 100, 100], [100, 100, 100], [100, 100, 100], [100, 100, 100], [100, 100, 100], [100, 100, 100], [100, 100, 100], [100, 100, 100], [100, 100, 100], [100, 100, 100], [100, 100, 100], [100, 100, 100], [100, 100, 100], [100, 100, 100], [100, 100, 100], [100, 100, 100], [100, 100, 100], [100, 100, 100], [100, 100, 100], [100, 100, 100], [100, 100, 100], [100, 100, 100], [100, 100, 100], [100, 100, 100], [100, 100, 100]], \"type\": \"heatmap\"}], {\"width\": 800, \"title\": \"TRIP4 - Per Block Coverage (source: BAM file)\", \"yaxis\": {\"titlefont\": {\"color\": \"#7f7f7f\", \"family\": \"Courier New, monospace\", \"size\": 12}, \"title\": \"Coverage\"}, \"xaxis\": {\"titlefont\": {\"color\": \"#7f7f7f\", \"family\": \"Courier New, monospace\", \"size\": 12}, \"autorange\": true, \"title\": \"Samples\"}, \"height\": 600}, {\"linkText\": \"Export to plot.ly\", \"showLink\": true})});</script>"
      ]
     },
     "metadata": {},
     "output_type": "display_data"
    }
   ],
   "source": [
    "# for gene in ['POLD1', 'POLE', 'RNF43']:        \n",
    "# for gene in ['POLD1', 'POLE', 'RNF43', 'FAN1', 'FAT1' ]:\n",
    "df_temp = df_cov.copy()\n",
    "for gene in gene_list:\n",
    "    df_temp = df_cov[[gene in s for s in df_cov.index]]\n",
    "    #df_temp = np.log(df_temp)\n",
    "    \n",
    "    bins = [0, 10, 20, 30, 40, 50, 60, 70, 80, 90, 100000]\n",
    "    group_names = ['10', '20', '30', '40', '50', '60', '70', '80', '90', '100']    \n",
    "    \n",
    "    for index, row in df_temp.iterrows():\n",
    "        for sample in samples:\n",
    "            if(row[sample]<=30):\n",
    "                df_temp.set_value(index, sample, 0)\n",
    "            elif(row[sample]>30 and row[sample]<=100):\n",
    "                df_temp.set_value(index, sample, 50)\n",
    "            else:\n",
    "                df_temp.set_value(index, sample, 100)\n",
    "    \n",
    "    #for column in df_temp.columns:\n",
    "        #categories = pd.cut(df_temp[column], bins, labels=group_names)\n",
    "        #df_temp[column] = pd.cut(df_temp[column], bins, labels=group_names)\n",
    "    \n",
    "    trace0 = go.Heatmap(\n",
    "        z = df_temp.values.tolist(),\n",
    "        y = df_temp.index.values,\n",
    "        x = list(df_temp),\n",
    "        opacity = 0.7,        \n",
    "        colorscale = [\n",
    "            # Let first 10% (0.1) of the values have color rgb(0, 0, 0)\n",
    "            [0.0, 'rgb(77,0,75)'],\n",
    "            [0.1, 'rgb(77,0,75)'],\n",
    "            \n",
    "            # Let values between 10-20% of the min and max of z\n",
    "            # have color rgb(20, 20, 20)\n",
    "            [0.10, 'rgb(129,15,124)'],\n",
    "            [0.20, 'rgb(129,15,124)'],\n",
    "            \n",
    "            # Values between 20-30% of the min and max of z\n",
    "            [0.20, 'rgb(136,65,157)'],\n",
    "            [0.30, 'rgb(136,65,157)'],\n",
    "            \n",
    "            [0.30, 'rgb(140,107,177)'],\n",
    "            [0.40, 'rgb(140,107,177)'],\n",
    "            \n",
    "            [0.40, 'rgb(140,150,198)'],\n",
    "            [0.50, 'rgb(140,150,198)'],\n",
    "            \n",
    "            [0.50, 'rgb(158,188,218)'],\n",
    "            [0.60, 'rgb(158,188,218)'],\n",
    "            \n",
    "            [0.60, 'rgb(191,211,230)'],\n",
    "            [0.70, 'rgb(191,211,230)'],\n",
    "            \n",
    "            [0.70, 'rgb(224,236,244)'],\n",
    "            [0.80, 'rgb(224,236,244)'],\n",
    "            \n",
    "            [0.80, 'rgb(247,252,253)'],\n",
    "            [1.0, 'rgb(247,252,253)']\n",
    "        ],\n",
    "        showscale = False\n",
    "    )\n",
    "\n",
    "    data = [trace0]\n",
    "\n",
    "    title_text = gene + \" - Per Block Coverage (source: BAM file)\"\n",
    "\n",
    "    layout = go.Layout(\n",
    "        title = title_text,\n",
    "        #autosize=True,\n",
    "        width=800,\n",
    "        height=600,    \n",
    "        xaxis=dict(\n",
    "            autorange=True,\n",
    "            title='Samples',\n",
    "            titlefont=dict(\n",
    "                family='Courier New, monospace',\n",
    "                size=12,\n",
    "                color='#7f7f7f'\n",
    "            )\n",
    "        ),\n",
    "        yaxis=dict(\n",
    "            #type='log',\n",
    "            title='Coverage',\n",
    "            titlefont=dict(\n",
    "                family='Courier New, monospace',\n",
    "                size=12,\n",
    "                color='#7f7f7f'\n",
    "            )\n",
    "        )\n",
    "    )\n",
    "    \n",
    "    fig = {\n",
    "        'data': data,\n",
    "        'layout': layout,        \n",
    "    }\n",
    "\n",
    "    iplot(fig)"
   ]
  },
  {
   "cell_type": "code",
   "execution_count": 17,
   "metadata": {
    "scrolled": true
   },
   "outputs": [
    {
     "data": {
      "application/vnd.plotly.v1+json": {
       "data": [
        {
         "type": "bar",
         "x": [
          "FAT1_24_F3",
          "FAT1_23_F15",
          "POLD1_11_F4",
          "POLD1_11_F3",
          "POLD1_4_F2",
          "NTHL1_5_F2",
          "GMPS_1_F1",
          "FAT1_1_F4",
          "POLE_32_F4",
          "POLE_32_F3",
          "POLE_32_F2",
          "POLE_32_F1",
          "POLE_10_F9",
          "POLD1_14_F3",
          "POLE_1_F7",
          "FAT1_24_F2",
          "FAT1_24_F1",
          "FAT1_23_F25",
          "POLQ_19_F1",
          "POLQ_16_F1",
          "POLQ_16_F2",
          "POLQ_16_F3",
          "POLQ_17_F1",
          "POLQ_17_F2",
          "POLQ_18_F1",
          "POLQ_18_F2",
          "POLQ_18_F3",
          "POLQ_19_F2",
          "POLQ_15_F31",
          "POLQ_20_F1",
          "POLQ_20_F2",
          "POLQ_20_F3",
          "POLQ_21_F1",
          "POLQ_21_F2",
          "POLQ_22_F1",
          "FAT1_23_F33",
          "POLQ_22_F2",
          "POLQ_15_F32",
          "POLQ_15_F29",
          "POLQ_15_F30",
          "POLQ_23_F1",
          "POLQ_15_F10",
          "POLQ_15_F11",
          "POLQ_15_F12",
          "POLQ_15_F13",
          "POLQ_15_F14",
          "POLQ_15_F15",
          "POLQ_15_F16",
          "POLQ_15_F17",
          "POLQ_15_F18",
          "POLQ_15_F19",
          "POLQ_15_F20",
          "POLQ_15_F21",
          "POLQ_15_F22",
          "POLQ_15_F23",
          "POLQ_15_F24",
          "POLQ_15_F25",
          "POLQ_15_F26",
          "POLQ_15_F27",
          "POLQ_15_F28",
          "POLQ_22_F3",
          "POLQ_24_F1",
          "POLQ_23_F2",
          "GMPS_6_F1",
          "GMPS_2_F2",
          "GMPS_2_F3",
          "GMPS_3_F1",
          "GMPS_3_F2",
          "GMPS_4_F1",
          "GMPS_4_F2",
          "GMPS_5_F1",
          "GMPS_5_F2",
          "GMPS_6_F2",
          "GMPS_1_F5",
          "GMPS_6_F3",
          "GMPS_6_F4",
          "GMPS_6_F5",
          "GMPS_6_F6",
          "GMPS_6_F7",
          "GMPS_7_F1",
          "GMPS_7_F2",
          "GMPS_8_F1",
          "GMPS_2_F1",
          "GMPS_1_F4",
          "POLQ_15_F8",
          "POLQ_28_F1",
          "POLQ_24_F2",
          "POLQ_25_F1",
          "POLQ_25_F2",
          "POLQ_25_F3",
          "POLQ_26_F1",
          "POLQ_26_F2",
          "POLQ_27_F1",
          "POLQ_27_F2",
          "POLQ_28_F2",
          "GMPS_1_F3",
          "POLQ_29_F1",
          "POLQ_29_F2",
          "POLQ_29_F3",
          "POLQ_30_F1",
          "POLQ_30_F2",
          "POLQ_30_F3",
          "POLQ_30_F4",
          "GMPS_1_F2",
          "POLQ_15_F9",
          "POLQ_15_F7",
          "GMPS_8_F3",
          "POLQ_15_F6",
          "OGG1_5_F8",
          "OGG1_5_F9",
          "OGG1_5_F10",
          "OGG1_6_F1",
          "OGG1_6_F2",
          "OGG1_7_F1",
          "OGG1_7_F2",
          "OGG1_7_F3",
          "OGG1_7_F4",
          "OGG1_7_F5",
          "OGG1_7_F6",
          "OGG1_7_F7",
          "OGG1_7_F8",
          "OGG1_7_F9",
          "OGG1_7_F10",
          "POLQ_1_F1",
          "POLQ_1_F2",
          "POLQ_1_F3",
          "POLQ_1_F4",
          "OGG1_5_F7",
          "OGG1_5_F6",
          "OGG1_5_F5",
          "OGG1_2_F3",
          "OGG1_1_F1",
          "OGG1_1_F2",
          "OGG1_1_F3",
          "OGG1_1_F4",
          "OGG1_1_F5",
          "OGG1_1_F6",
          "OGG1_2_F1",
          "OGG1_2_F2",
          "OGG1_3_F1",
          "OGG1_5_F4",
          "OGG1_3_F2",
          "OGG1_3_F3",
          "OGG1_4_F1",
          "OGG1_4_F2",
          "OGG1_4_F3",
          "OGG1_5_F1",
          "OGG1_5_F2",
          "OGG1_5_F3",
          "POLQ_1_F5",
          "POLQ_1_F6",
          "POLQ_1_F7",
          "POLQ_13_F1",
          "POLQ_10_F1",
          "POLQ_10_F2",
          "POLQ_11_F1",
          "POLQ_11_F2",
          "POLQ_11_F3",
          "POLQ_12_F1",
          "POLQ_12_F2",
          "POLQ_12_F3",
          "POLQ_13_F2",
          "POLQ_9_F2",
          "POLQ_13_F3",
          "POLQ_14_F1",
          "POLQ_14_F2",
          "POLQ_15_F1",
          "POLQ_15_F2",
          "POLQ_15_F3",
          "POLQ_15_F4",
          "POLQ_15_F5",
          "POLQ_9_F3",
          "POLQ_9_F1",
          "POLQ_1_F8",
          "POLQ_4_F1",
          "POLQ_1_F9",
          "POLQ_1_F10",
          "POLQ_1_F11",
          "POLQ_2_F1",
          "POLQ_2_F2",
          "POLQ_3_F1",
          "POLQ_3_F2",
          "FAT1_23_F34",
          "POLQ_4_F2",
          "POLQ_8_F2",
          "POLQ_5_F1",
          "POLQ_5_F2",
          "POLQ_6_F1",
          "POLQ_6_F2",
          "POLQ_6_F3",
          "POLQ_7_F1",
          "POLQ_7_F2",
          "POLQ_8_F1",
          "GMPS_8_F2",
          "GMPS_9_F1",
          "FAT1_23_F24",
          "FAT1_16_F23",
          "FAT1_16_F25",
          "FAT1_16_F26",
          "FAT1_16_F27",
          "FAT1_16_F28",
          "FAT1_16_F29",
          "FAT1_16_F30",
          "FAT1_16_F31",
          "FAT1_16_F32",
          "FAT1_16_F33",
          "FAT1_16_F34",
          "FAT1_16_F35",
          "FAT1_16_F36",
          "FAT1_16_F37",
          "FAT1_16_F38",
          "FAT1_16_F39",
          "FAT1_16_F40",
          "FAT1_16_F41",
          "FAT1_16_F42",
          "FAT1_17_F1",
          "FAT1_16_F24",
          "FAT1_16_F22",
          "GMPS_9_F2",
          "FAT1_16_F21",
          "FAT1_16_F2",
          "FAT1_16_F3",
          "FAT1_16_F4",
          "FAT1_16_F5",
          "FAT1_16_F6",
          "FAT1_16_F7",
          "FAT1_16_F8",
          "FAT1_16_F9",
          "FAT1_16_F10",
          "FAT1_16_F11",
          "FAT1_16_F12",
          "FAT1_16_F13",
          "FAT1_16_F14",
          "FAT1_16_F15",
          "FAT1_16_F16",
          "FAT1_16_F17",
          "FAT1_16_F18",
          "FAT1_16_F19",
          "FAT1_16_F20",
          "FAT1_17_F2",
          "FAT1_17_F3",
          "FAT1_17_F4",
          "FAT1_17_F5",
          "FAT1_23_F5",
          "FAT1_23_F6",
          "FAT1_23_F7",
          "FAT1_23_F8",
          "FAT1_23_F9",
          "FAT1_23_F10",
          "FAT1_23_F11",
          "FAT1_23_F12",
          "FAT1_23_F13",
          "FAT1_23_F14",
          "FAT1_23_F26",
          "FAT1_23_F16",
          "FAT1_23_F17",
          "FAT1_23_F18",
          "FAT1_23_F19",
          "FAT1_23_F20",
          "FAT1_23_F21",
          "FAT1_23_F22",
          "FAT1_23_F23",
          "FAT1_23_F4",
          "FAT1_23_F3",
          "FAT1_23_F2",
          "FAT1_20_F2",
          "FAT1_17_F6",
          "FAT1_17_F7",
          "FAT1_18_F1",
          "FAT1_18_F2",
          "FAT1_19_F1",
          "FAT1_19_F2",
          "FAT1_19_F3",
          "FAT1_20_F1",
          "FAT1_20_F3",
          "FAT1_23_F1",
          "FAT1_20_F4",
          "FAT1_23_F27",
          "FAT1_21_F1",
          "FAT1_21_F2",
          "FAT1_22_F1",
          "FAT1_22_F2",
          "FAT1_22_F3",
          "FAT1_22_F4",
          "FAT1_16_F1",
          "FAT1_15_F3",
          "FAT1_15_F2",
          "FAT1_5_F1",
          "FAT1_1_F10",
          "FAT1_1_F11",
          "FAT1_1_F12",
          "FAT1_1_F13",
          "FAT1_1_F14",
          "FAT1_1_F15",
          "FAT1_2_F1",
          "FAT1_2_F2",
          "FAT1_3_F1",
          "FAT1_3_F2",
          "FAT1_3_F3",
          "FAT1_3_F4",
          "FAT1_3_F5",
          "FAT1_3_F6",
          "FAT1_3_F7",
          "FAT1_4_F1",
          "FAT1_4_F2",
          "FAT1_4_F3",
          "FAT1_4_F4",
          "FAT1_1_F9",
          "FAT1_1_F8",
          "FAT1_1_F7",
          "GMPS_14_F1",
          "GMPS_10_F1",
          "GMPS_10_F2",
          "GMPS_11_F1",
          "GMPS_11_F2",
          "GMPS_12_F1",
          "POLD1_14_F2",
          "GMPS_13_F1",
          "GMPS_13_F2",
          "GMPS_14_F2",
          "FAT1_1_F6",
          "GMPS_14_F3",
          "GMPS_15_F1",
          "GMPS_15_F2",
          "FAT1_1_F1",
          "FAT1_1_F2",
          "FAT1_1_F3",
          "FAT1_23_F32",
          "FAT1_1_F5",
          "FAT1_4_F5",
          "FAT1_5_F2",
          "FAT1_15_F1",
          "FAT1_5_F3",
          "FAT1_8_F2",
          "FAT1_8_F3",
          "FAT1_9_F1",
          "FAT1_9_F2",
          "FAT1_10_F1",
          "FAT1_10_F2",
          "FAT1_11_F1",
          "FAT1_11_F2",
          "FAT1_11_F3",
          "FAT1_12_F1",
          "FAT1_12_F2",
          "FAT1_12_F3",
          "FAT1_12_F4",
          "FAT1_12_F5",
          "FAT1_13_F1",
          "FAT1_13_F2",
          "FAT1_13_F3",
          "FAT1_14_F1",
          "FAT1_14_F2",
          "FAT1_8_F1",
          "FAT1_7_F12",
          "FAT1_7_F11",
          "FAT1_7_F4",
          "FAT1_5_F4",
          "FAT1_5_F5",
          "FAT1_5_F6",
          "FAT1_6_F1",
          "FAT1_6_F2",
          "FAT1_7_F1",
          "FAT1_7_F2",
          "FAT1_7_F3",
          "FAT1_7_F5",
          "FAT1_7_F10",
          "FAT1_7_F6",
          "FAT1_7_F7",
          "FAT1_7_F8",
          "FAT1_7_F9",
          "FAT1_23_F31",
          "FAT1_23_F30",
          "FAT1_23_F29",
          "FAT1_23_F28",
          "GMPS_12_F2",
          "POLE_1_F1",
          "POLD1_14_F1",
          "POLE_27_F1",
          "POLE_27_F3",
          "POLE_27_F4",
          "POLE_28_F1",
          "POLE_28_F2",
          "POLE_29_F1",
          "POLE_29_F2",
          "POLE_29_F3",
          "POLE_29_F4",
          "POLE_30_F1",
          "POLE_30_F2",
          "POLE_31_F1",
          "POLE_31_F2",
          "FAN1_1_F1",
          "FAN1_1_F2",
          "FAN1_2_F1",
          "FAN1_2_F2",
          "FAN1_2_F3",
          "FAN1_2_F4",
          "FAN1_2_F5",
          "POLE_27_F2",
          "POLE_26_F2",
          "FAN1_2_F7",
          "POLE_26_F1",
          "POLE_20_F7",
          "POLE_21_F1",
          "POLE_21_F2",
          "POLE_22_F1",
          "POLE_22_F2",
          "POLE_22_F3",
          "POLE_23_F1",
          "POLE_23_F2",
          "POLE_24_F1",
          "POLE_24_F2",
          "POLE_25_F1",
          "POLE_25_F2",
          "POLE_25_F3",
          "POLE_25_F4",
          "POLE_25_F5",
          "POLE_25_F6",
          "POLE_25_F7",
          "POLE_25_F8",
          "POLE_25_F9",
          "FAN1_2_F6",
          "FAN1_2_F8",
          "POLD1_13_F3",
          "FAN1_9_F2",
          "FAN1_10_F1",
          "FAN1_10_F2",
          "FAN1_11_F1",
          "FAN1_11_F2",
          "FAN1_12_F1",
          "FAN1_12_F2",
          "FAN1_12_F3",
          "FAN1_13_F1",
          "FAN1_13_F2",
          "FAN1_14_F1",
          "FAN1_14_F2",
          "FAN1_15_F1",
          "FAN1_15_F2",
          "FAN1_15_F3",
          "FAN1_15_F4",
          "FAN1_15_F5",
          "FAN1_15_F6",
          "FAN1_15_F7",
          "FAN1_15_F8",
          "FAN1_9_F3",
          "FAN1_9_F1",
          "FAN1_2_F9",
          "FAN1_8_F2",
          "FAN1_2_F10",
          "FAN1_2_F11",
          "FAN1_2_F12",
          "FAN1_2_F13",
          "FAN1_2_F14",
          "FAN1_2_F15",
          "FAN1_3_F1",
          "FAN1_3_F2",
          "FAN1_4_F1",
          "FAN1_4_F2",
          "FAN1_4_F3",
          "FAN1_5_F1",
          "FAN1_5_F2",
          "FAN1_5_F3",
          "FAN1_6_F1",
          "FAN1_6_F2",
          "FAN1_7_F1",
          "FAN1_7_F2",
          "FAN1_8_F1",
          "POLE_20_F6",
          "POLE_20_F5",
          "POLE_20_F4",
          "POLE_5_F1",
          "POLE_5_F3",
          "POLE_6_F1",
          "POLE_6_F2",
          "POLE_7_F1",
          "POLE_7_F2",
          "POLE_8_F1",
          "POLE_8_F2",
          "POLE_8_F3",
          "POLE_9_F1",
          "POLE_9_F2",
          "POLE_9_F3",
          "POLE_10_F1",
          "POLE_10_F2",
          "POLE_10_F3",
          "POLE_10_F4",
          "POLE_10_F5",
          "POLE_10_F6",
          "POLE_10_F7",
          "POLE_10_F8",
          "POLE_5_F2",
          "POLE_4_F6",
          "POLE_20_F3",
          "POLE_4_F5",
          "POLE_1_F3",
          "POLE_1_F4",
          "POLE_1_F5",
          "POLE_1_F6",
          "POLE_1_F8",
          "POLE_1_F9",
          "POLE_1_F10",
          "POLE_1_F11",
          "POLE_1_F12",
          "POLE_1_F13",
          "POLE_2_F1",
          "POLE_2_F2",
          "POLE_3_F1",
          "POLE_3_F2",
          "POLE_3_F3",
          "POLE_4_F1",
          "POLE_4_F2",
          "POLE_4_F3",
          "POLE_4_F4",
          "POLE_10_F10",
          "POLE_10_F11",
          "POLE_10_F12",
          "POLE_10_F13",
          "POLE_13_F2",
          "POLE_14_F1",
          "POLE_14_F2",
          "POLE_14_F3",
          "POLE_15_F1",
          "POLE_15_F2",
          "POLE_15_F3",
          "POLE_16_F1",
          "POLE_16_F2",
          "POLE_17_F1",
          "POLE_17_F2",
          "POLE_17_F4",
          "POLE_17_F5",
          "POLE_18_F1",
          "POLE_18_F2",
          "POLE_19_F1",
          "POLE_19_F2",
          "POLE_20_F1",
          "POLE_20_F2",
          "POLE_13_F1",
          "POLE_12_F4",
          "POLE_12_F3",
          "POLE_11_F3",
          "POLE_10_F14",
          "POLE_10_F15",
          "POLE_10_F16",
          "POLE_10_F17",
          "POLE_10_F18",
          "POLE_10_F19",
          "POLE_11_F1",
          "POLE_11_F2",
          "POLE_11_F4",
          "POLE_12_F2",
          "POLE_11_F5",
          "POLE_11_F6",
          "POLE_11_F7",
          "POLE_11_F8",
          "POLE_11_F9",
          "POLE_11_F10",
          "POLE_11_F11",
          "POLE_12_F1",
          "FAN1_15_F9",
          "FAN1_15_F10",
          "FAN1_15_F11",
          "RNF43_9_F1",
          "RNF43_9_F3",
          "RNF43_9_F4",
          "RNF43_9_F5",
          "RNF43_9_F6",
          "RNF43_9_F7",
          "POLD1_1_F1",
          "POLD1_1_F2",
          "POLD1_2_F1",
          "POLD1_2_F2",
          "POLD1_2_F3",
          "POLD1_3_F1",
          "POLD1_3_F2",
          "POLD1_4_F1",
          "POLD1_4_F3",
          "POLD1_4_F4",
          "POLD1_4_F5",
          "POLD1_4_F6",
          "POLD1_4_F7",
          "POLD1_4_F8",
          "RNF43_9_F2",
          "RNF43_8_F7",
          "RNF43_2_F12",
          "RNF43_8_F6",
          "RNF43_2_F14",
          "RNF43_3_F1",
          "RNF43_3_F2",
          "RNF43_4_F1",
          "RNF43_4_F2",
          "RNF43_4_F3",
          "RNF43_5_F1",
          "RNF43_5_F2",
          "RNF43_6_F1",
          "RNF43_6_F2",
          "RNF43_6_F3",
          "RNF43_6_F4",
          "RNF43_7_F1",
          "RNF43_7_F2",
          "RNF43_8_F1",
          "RNF43_8_F2",
          "RNF43_8_F3",
          "RNF43_8_F4",
          "RNF43_8_F5",
          "POLD1_4_F9",
          "POLD1_4_F10",
          "POLD1_4_F11",
          "POLD1_5_F1",
          "POLD1_8_F9",
          "POLD1_8_F10",
          "POLD1_9_F1",
          "POLD1_9_F2",
          "POLD1_9_F3",
          "POLD1_9_F4",
          "POLD1_9_F5",
          "POLD1_10_F1",
          "POLD1_10_F2",
          "POLD1_10_F3",
          "POLD1_11_F1",
          "POLD1_11_F2",
          "POLD1_11_F5",
          "POLD1_12_F1",
          "POLD1_12_F2",
          "POLD1_12_F3",
          "POLE_1_F2",
          "POLD1_13_F1",
          "POLD1_13_F2",
          "POLD1_8_F8",
          "POLD1_8_F7",
          "POLD1_8_F6",
          "POLD1_6_F4",
          "POLD1_5_F2",
          "POLD1_5_F3",
          "POLD1_5_F4",
          "POLD1_5_F5",
          "POLD1_5_F6",
          "POLD1_6_F1",
          "POLD1_6_F2",
          "POLD1_6_F3",
          "POLD1_7_F1",
          "POLD1_8_F5",
          "POLD1_7_F2",
          "POLD1_7_F3",
          "POLD1_7_F4",
          "POLD1_7_F5",
          "POLD1_8_F1",
          "POLD1_8_F2",
          "POLD1_8_F3",
          "POLD1_8_F4",
          "RNF43_2_F13",
          "RNF43_2_F11",
          "FAN1_15_F12",
          "TRIP4_7_F3",
          "TRIP4_8_F2",
          "TRIP4_9_F1",
          "TRIP4_9_F2",
          "TRIP4_9_F3",
          "TRIP4_10_F1",
          "TRIP4_10_F2",
          "TRIP4_11_F1",
          "TRIP4_11_F2",
          "TRIP4_12_F1",
          "TRIP4_12_F2",
          "TRIP4_13_F1",
          "TRIP4_13_F2",
          "TRIP4_13_F3",
          "TRIP4_13_F4",
          "NTHL1_1_F1",
          "NTHL1_1_F2",
          "NTHL1_1_F3",
          "NTHL1_1_F4",
          "NTHL1_1_F5",
          "TRIP4_8_F1",
          "TRIP4_7_F2",
          "RNF43_2_F10",
          "TRIP4_7_F1",
          "FAN1_15_F13",
          "FAN1_15_F14",
          "FAN1_15_F15",
          "FAN1_15_F16",
          "TRIP4_1_F1",
          "TRIP4_1_F2",
          "TRIP4_1_F3",
          "TRIP4_2_F1",
          "TRIP4_2_F2",
          "TRIP4_2_F3",
          "TRIP4_3_F1",
          "TRIP4_3_F2",
          "TRIP4_4_F1",
          "TRIP4_4_F2",
          "TRIP4_4_F3",
          "TRIP4_5_F1",
          "TRIP4_5_F2",
          "TRIP4_6_F1",
          "TRIP4_6_F2",
          "NTHL1_2_F1",
          "NTHL1_2_F2",
          "NTHL1_2_F3",
          "NTHL1_3_F1",
          "RNF43_1_F17",
          "RNF43_1_F18",
          "RNF43_1_F19",
          "RNF43_1_F20",
          "RNF43_1_F21",
          "RNF43_1_F22",
          "RNF43_1_F23",
          "RNF43_1_F24",
          "RNF43_1_F25",
          "RNF43_1_F26",
          "RNF43_2_F1",
          "RNF43_2_F2",
          "RNF43_2_F3",
          "RNF43_2_F4",
          "RNF43_2_F5",
          "RNF43_2_F6",
          "RNF43_2_F7",
          "RNF43_2_F8",
          "RNF43_2_F9",
          "RNF43_1_F16",
          "RNF43_1_F15",
          "RNF43_1_F14",
          "RNF43_1_F3",
          "NTHL1_3_F2",
          "NTHL1_3_F3",
          "NTHL1_4_F1",
          "NTHL1_4_F2",
          "NTHL1_4_F3",
          "NTHL1_5_F1",
          "RNF43_1_F1",
          "RNF43_1_F2",
          "RNF43_1_F4",
          "RNF43_1_F13",
          "RNF43_1_F5",
          "RNF43_1_F6",
          "RNF43_1_F7",
          "RNF43_1_F8",
          "RNF43_1_F9",
          "RNF43_1_F10",
          "RNF43_1_F11",
          "RNF43_1_F12"
         ],
         "y": [
          100,
          100,
          100,
          100,
          100,
          100,
          100,
          100,
          100,
          100,
          100,
          100,
          100,
          100,
          100,
          100,
          33.33333333333333,
          0,
          0,
          0,
          0,
          0,
          0,
          0,
          0,
          0,
          0,
          0,
          0,
          0,
          0,
          0,
          0,
          0,
          0,
          0,
          0,
          0,
          0,
          0,
          0,
          0,
          0,
          0,
          0,
          0,
          0,
          0,
          0,
          0,
          0,
          0,
          0,
          0,
          0,
          0,
          0,
          0,
          0,
          0,
          0,
          0,
          0,
          0,
          0,
          0,
          0,
          0,
          0,
          0,
          0,
          0,
          0,
          0,
          0,
          0,
          0,
          0,
          0,
          0,
          0,
          0,
          0,
          0,
          0,
          0,
          0,
          0,
          0,
          0,
          0,
          0,
          0,
          0,
          0,
          0,
          0,
          0,
          0,
          0,
          0,
          0,
          0,
          0,
          0,
          0,
          0,
          0,
          0,
          0,
          0,
          0,
          0,
          0,
          0,
          0,
          0,
          0,
          0,
          0,
          0,
          0,
          0,
          0,
          0,
          0,
          0,
          0,
          0,
          0,
          0,
          0,
          0,
          0,
          0,
          0,
          0,
          0,
          0,
          0,
          0,
          0,
          0,
          0,
          0,
          0,
          0,
          0,
          0,
          0,
          0,
          0,
          0,
          0,
          0,
          0,
          0,
          0,
          0,
          0,
          0,
          0,
          0,
          0,
          0,
          0,
          0,
          0,
          0,
          0,
          0,
          0,
          0,
          0,
          0,
          0,
          0,
          0,
          0,
          0,
          0,
          0,
          0,
          0,
          0,
          0,
          0,
          0,
          0,
          0,
          0,
          0,
          0,
          0,
          0,
          0,
          0,
          0,
          0,
          0,
          0,
          0,
          0,
          0,
          0,
          0,
          0,
          0,
          0,
          0,
          0,
          0,
          0,
          0,
          0,
          0,
          0,
          0,
          0,
          0,
          0,
          0,
          0,
          0,
          0,
          0,
          0,
          0,
          0,
          0,
          0,
          0,
          0,
          0,
          0,
          0,
          0,
          0,
          0,
          0,
          0,
          0,
          0,
          0,
          0,
          0,
          0,
          0,
          0,
          0,
          0,
          0,
          0,
          0,
          0,
          0,
          0,
          0,
          0,
          0,
          0,
          0,
          0,
          0,
          0,
          0,
          0,
          0,
          0,
          0,
          0,
          0,
          0,
          0,
          0,
          0,
          0,
          0,
          0,
          0,
          0,
          0,
          0,
          0,
          0,
          0,
          0,
          0,
          0,
          0,
          0,
          0,
          0,
          0,
          0,
          0,
          0,
          0,
          0,
          0,
          0,
          0,
          0,
          0,
          0,
          0,
          0,
          0,
          0,
          0,
          0,
          0,
          0,
          0,
          0,
          0,
          0,
          0,
          0,
          0,
          0,
          0,
          0,
          0,
          0,
          0,
          0,
          0,
          0,
          0,
          0,
          0,
          0,
          0,
          0,
          0,
          0,
          0,
          0,
          0,
          0,
          0,
          0,
          0,
          0,
          0,
          0,
          0,
          0,
          0,
          0,
          0,
          0,
          0,
          0,
          0,
          0,
          0,
          0,
          0,
          0,
          0,
          0,
          0,
          0,
          0,
          0,
          0,
          0,
          0,
          0,
          0,
          0,
          0,
          0,
          0,
          0,
          0,
          0,
          0,
          0,
          0,
          0,
          0,
          0,
          0,
          0,
          0,
          0,
          0,
          0,
          0,
          0,
          0,
          0,
          0,
          0,
          0,
          0,
          0,
          0,
          0,
          0,
          0,
          0,
          0,
          0,
          0,
          0,
          0,
          0,
          0,
          0,
          0,
          0,
          0,
          0,
          0,
          0,
          0,
          0,
          0,
          0,
          0,
          0,
          0,
          0,
          0,
          0,
          0,
          0,
          0,
          0,
          0,
          0,
          0,
          0,
          0,
          0,
          0,
          0,
          0,
          0,
          0,
          0,
          0,
          0,
          0,
          0,
          0,
          0,
          0,
          0,
          0,
          0,
          0,
          0,
          0,
          0,
          0,
          0,
          0,
          0,
          0,
          0,
          0,
          0,
          0,
          0,
          0,
          0,
          0,
          0,
          0,
          0,
          0,
          0,
          0,
          0,
          0,
          0,
          0,
          0,
          0,
          0,
          0,
          0,
          0,
          0,
          0,
          0,
          0,
          0,
          0,
          0,
          0,
          0,
          0,
          0,
          0,
          0,
          0,
          0,
          0,
          0,
          0,
          0,
          0,
          0,
          0,
          0,
          0,
          0,
          0,
          0,
          0,
          0,
          0,
          0,
          0,
          0,
          0,
          0,
          0,
          0,
          0,
          0,
          0,
          0,
          0,
          0,
          0,
          0,
          0,
          0,
          0,
          0,
          0,
          0,
          0,
          0,
          0,
          0,
          0,
          0,
          0,
          0,
          0,
          0,
          0,
          0,
          0,
          0,
          0,
          0,
          0,
          0,
          0,
          0,
          0,
          0,
          0,
          0,
          0,
          0,
          0,
          0,
          0,
          0,
          0,
          0,
          0,
          0,
          0,
          0,
          0,
          0,
          0,
          0,
          0,
          0,
          0,
          0,
          0,
          0,
          0,
          0,
          0,
          0,
          0,
          0,
          0,
          0,
          0,
          0,
          0,
          0,
          0,
          0,
          0,
          0,
          0,
          0,
          0,
          0,
          0,
          0,
          0,
          0,
          0,
          0,
          0,
          0,
          0,
          0,
          0,
          0,
          0,
          0,
          0,
          0,
          0,
          0,
          0,
          0,
          0,
          0,
          0,
          0,
          0,
          0,
          0,
          0,
          0,
          0,
          0,
          0,
          0,
          0,
          0,
          0,
          0,
          0,
          0,
          0,
          0,
          0,
          0,
          0,
          0,
          0,
          0,
          0,
          0,
          0,
          0,
          0,
          0,
          0,
          0,
          0,
          0,
          0,
          0,
          0,
          0,
          0,
          0,
          0,
          0,
          0,
          0,
          0,
          0,
          0,
          0,
          0,
          0,
          0,
          0,
          0,
          0,
          0,
          0,
          0,
          0,
          0,
          0,
          0,
          0,
          0,
          0,
          0,
          0,
          0,
          0,
          0,
          0,
          0,
          0,
          0,
          0,
          0,
          0,
          0,
          0,
          0,
          0,
          0,
          0,
          0,
          0,
          0,
          0,
          0,
          0,
          0,
          0,
          0,
          0,
          0,
          0,
          0,
          0,
          0,
          0,
          0,
          0,
          0,
          0,
          0,
          0,
          0,
          0,
          0,
          0,
          0,
          0,
          0,
          0
         ]
        }
       ],
       "layout": {
        "height": 600,
        "title": "Per amplicon coverage",
        "width": 800,
        "xaxis": {
         "autorange": true,
         "title": "Amplicons",
         "titlefont": {
          "color": "#7f7f7f",
          "family": "Courier New, monospace",
          "size": 12
         }
        },
        "yaxis": {
         "title": "Percentage of samples with low coverage (<30)",
         "titlefont": {
          "color": "#7f7f7f",
          "family": "Courier New, monospace",
          "size": 12
         }
        }
       }
      },
      "text/html": [
       "<div id=\"29345e00-9d9f-411d-b564-f6db890b7a50\" style=\"height: 600px; width: 800px;\" class=\"plotly-graph-div\"></div><script type=\"text/javascript\">require([\"plotly\"], function(Plotly) { window.PLOTLYENV=window.PLOTLYENV || {};window.PLOTLYENV.BASE_URL=\"https://plot.ly\";Plotly.newPlot(\"29345e00-9d9f-411d-b564-f6db890b7a50\", [{\"y\": [100.0, 100.0, 100.0, 100.0, 100.0, 100.0, 100.0, 100.0, 100.0, 100.0, 100.0, 100.0, 100.0, 100.0, 100.0, 100.0, 33.33333333333333, 0.0, 0.0, 0.0, 0.0, 0.0, 0.0, 0.0, 0.0, 0.0, 0.0, 0.0, 0.0, 0.0, 0.0, 0.0, 0.0, 0.0, 0.0, 0.0, 0.0, 0.0, 0.0, 0.0, 0.0, 0.0, 0.0, 0.0, 0.0, 0.0, 0.0, 0.0, 0.0, 0.0, 0.0, 0.0, 0.0, 0.0, 0.0, 0.0, 0.0, 0.0, 0.0, 0.0, 0.0, 0.0, 0.0, 0.0, 0.0, 0.0, 0.0, 0.0, 0.0, 0.0, 0.0, 0.0, 0.0, 0.0, 0.0, 0.0, 0.0, 0.0, 0.0, 0.0, 0.0, 0.0, 0.0, 0.0, 0.0, 0.0, 0.0, 0.0, 0.0, 0.0, 0.0, 0.0, 0.0, 0.0, 0.0, 0.0, 0.0, 0.0, 0.0, 0.0, 0.0, 0.0, 0.0, 0.0, 0.0, 0.0, 0.0, 0.0, 0.0, 0.0, 0.0, 0.0, 0.0, 0.0, 0.0, 0.0, 0.0, 0.0, 0.0, 0.0, 0.0, 0.0, 0.0, 0.0, 0.0, 0.0, 0.0, 0.0, 0.0, 0.0, 0.0, 0.0, 0.0, 0.0, 0.0, 0.0, 0.0, 0.0, 0.0, 0.0, 0.0, 0.0, 0.0, 0.0, 0.0, 0.0, 0.0, 0.0, 0.0, 0.0, 0.0, 0.0, 0.0, 0.0, 0.0, 0.0, 0.0, 0.0, 0.0, 0.0, 0.0, 0.0, 0.0, 0.0, 0.0, 0.0, 0.0, 0.0, 0.0, 0.0, 0.0, 0.0, 0.0, 0.0, 0.0, 0.0, 0.0, 0.0, 0.0, 0.0, 0.0, 0.0, 0.0, 0.0, 0.0, 0.0, 0.0, 0.0, 0.0, 0.0, 0.0, 0.0, 0.0, 0.0, 0.0, 0.0, 0.0, 0.0, 0.0, 0.0, 0.0, 0.0, 0.0, 0.0, 0.0, 0.0, 0.0, 0.0, 0.0, 0.0, 0.0, 0.0, 0.0, 0.0, 0.0, 0.0, 0.0, 0.0, 0.0, 0.0, 0.0, 0.0, 0.0, 0.0, 0.0, 0.0, 0.0, 0.0, 0.0, 0.0, 0.0, 0.0, 0.0, 0.0, 0.0, 0.0, 0.0, 0.0, 0.0, 0.0, 0.0, 0.0, 0.0, 0.0, 0.0, 0.0, 0.0, 0.0, 0.0, 0.0, 0.0, 0.0, 0.0, 0.0, 0.0, 0.0, 0.0, 0.0, 0.0, 0.0, 0.0, 0.0, 0.0, 0.0, 0.0, 0.0, 0.0, 0.0, 0.0, 0.0, 0.0, 0.0, 0.0, 0.0, 0.0, 0.0, 0.0, 0.0, 0.0, 0.0, 0.0, 0.0, 0.0, 0.0, 0.0, 0.0, 0.0, 0.0, 0.0, 0.0, 0.0, 0.0, 0.0, 0.0, 0.0, 0.0, 0.0, 0.0, 0.0, 0.0, 0.0, 0.0, 0.0, 0.0, 0.0, 0.0, 0.0, 0.0, 0.0, 0.0, 0.0, 0.0, 0.0, 0.0, 0.0, 0.0, 0.0, 0.0, 0.0, 0.0, 0.0, 0.0, 0.0, 0.0, 0.0, 0.0, 0.0, 0.0, 0.0, 0.0, 0.0, 0.0, 0.0, 0.0, 0.0, 0.0, 0.0, 0.0, 0.0, 0.0, 0.0, 0.0, 0.0, 0.0, 0.0, 0.0, 0.0, 0.0, 0.0, 0.0, 0.0, 0.0, 0.0, 0.0, 0.0, 0.0, 0.0, 0.0, 0.0, 0.0, 0.0, 0.0, 0.0, 0.0, 0.0, 0.0, 0.0, 0.0, 0.0, 0.0, 0.0, 0.0, 0.0, 0.0, 0.0, 0.0, 0.0, 0.0, 0.0, 0.0, 0.0, 0.0, 0.0, 0.0, 0.0, 0.0, 0.0, 0.0, 0.0, 0.0, 0.0, 0.0, 0.0, 0.0, 0.0, 0.0, 0.0, 0.0, 0.0, 0.0, 0.0, 0.0, 0.0, 0.0, 0.0, 0.0, 0.0, 0.0, 0.0, 0.0, 0.0, 0.0, 0.0, 0.0, 0.0, 0.0, 0.0, 0.0, 0.0, 0.0, 0.0, 0.0, 0.0, 0.0, 0.0, 0.0, 0.0, 0.0, 0.0, 0.0, 0.0, 0.0, 0.0, 0.0, 0.0, 0.0, 0.0, 0.0, 0.0, 0.0, 0.0, 0.0, 0.0, 0.0, 0.0, 0.0, 0.0, 0.0, 0.0, 0.0, 0.0, 0.0, 0.0, 0.0, 0.0, 0.0, 0.0, 0.0, 0.0, 0.0, 0.0, 0.0, 0.0, 0.0, 0.0, 0.0, 0.0, 0.0, 0.0, 0.0, 0.0, 0.0, 0.0, 0.0, 0.0, 0.0, 0.0, 0.0, 0.0, 0.0, 0.0, 0.0, 0.0, 0.0, 0.0, 0.0, 0.0, 0.0, 0.0, 0.0, 0.0, 0.0, 0.0, 0.0, 0.0, 0.0, 0.0, 0.0, 0.0, 0.0, 0.0, 0.0, 0.0, 0.0, 0.0, 0.0, 0.0, 0.0, 0.0, 0.0, 0.0, 0.0, 0.0, 0.0, 0.0, 0.0, 0.0, 0.0, 0.0, 0.0, 0.0, 0.0, 0.0, 0.0, 0.0, 0.0, 0.0, 0.0, 0.0, 0.0, 0.0, 0.0, 0.0, 0.0, 0.0, 0.0, 0.0, 0.0, 0.0, 0.0, 0.0, 0.0, 0.0, 0.0, 0.0, 0.0, 0.0, 0.0, 0.0, 0.0, 0.0, 0.0, 0.0, 0.0, 0.0, 0.0, 0.0, 0.0, 0.0, 0.0, 0.0, 0.0, 0.0, 0.0, 0.0, 0.0, 0.0, 0.0, 0.0, 0.0, 0.0, 0.0, 0.0, 0.0, 0.0, 0.0, 0.0, 0.0, 0.0, 0.0, 0.0, 0.0, 0.0, 0.0, 0.0, 0.0, 0.0, 0.0, 0.0, 0.0, 0.0, 0.0, 0.0, 0.0, 0.0, 0.0, 0.0, 0.0, 0.0, 0.0, 0.0, 0.0, 0.0, 0.0, 0.0, 0.0, 0.0, 0.0, 0.0, 0.0, 0.0, 0.0, 0.0, 0.0, 0.0, 0.0, 0.0, 0.0, 0.0, 0.0, 0.0, 0.0, 0.0, 0.0, 0.0, 0.0, 0.0, 0.0, 0.0, 0.0, 0.0, 0.0, 0.0, 0.0, 0.0, 0.0, 0.0, 0.0, 0.0, 0.0, 0.0, 0.0, 0.0, 0.0, 0.0, 0.0, 0.0, 0.0, 0.0, 0.0, 0.0, 0.0, 0.0, 0.0, 0.0, 0.0, 0.0, 0.0, 0.0, 0.0, 0.0, 0.0, 0.0, 0.0, 0.0, 0.0, 0.0, 0.0, 0.0, 0.0, 0.0, 0.0, 0.0, 0.0, 0.0, 0.0, 0.0, 0.0, 0.0, 0.0, 0.0, 0.0, 0.0, 0.0, 0.0, 0.0, 0.0, 0.0, 0.0, 0.0, 0.0, 0.0, 0.0, 0.0, 0.0, 0.0, 0.0, 0.0, 0.0, 0.0, 0.0, 0.0, 0.0, 0.0, 0.0, 0.0, 0.0, 0.0, 0.0, 0.0, 0.0, 0.0, 0.0, 0.0, 0.0, 0.0, 0.0, 0.0, 0.0, 0.0, 0.0, 0.0, 0.0, 0.0, 0.0, 0.0, 0.0, 0.0, 0.0, 0.0, 0.0, 0.0, 0.0, 0.0, 0.0, 0.0, 0.0, 0.0, 0.0, 0.0], \"x\": [\"FAT1_24_F3\", \"FAT1_23_F15\", \"POLD1_11_F4\", \"POLD1_11_F3\", \"POLD1_4_F2\", \"NTHL1_5_F2\", \"GMPS_1_F1\", \"FAT1_1_F4\", \"POLE_32_F4\", \"POLE_32_F3\", \"POLE_32_F2\", \"POLE_32_F1\", \"POLE_10_F9\", \"POLD1_14_F3\", \"POLE_1_F7\", \"FAT1_24_F2\", \"FAT1_24_F1\", \"FAT1_23_F25\", \"POLQ_19_F1\", \"POLQ_16_F1\", \"POLQ_16_F2\", \"POLQ_16_F3\", \"POLQ_17_F1\", \"POLQ_17_F2\", \"POLQ_18_F1\", \"POLQ_18_F2\", \"POLQ_18_F3\", \"POLQ_19_F2\", \"POLQ_15_F31\", \"POLQ_20_F1\", \"POLQ_20_F2\", \"POLQ_20_F3\", \"POLQ_21_F1\", \"POLQ_21_F2\", \"POLQ_22_F1\", \"FAT1_23_F33\", \"POLQ_22_F2\", \"POLQ_15_F32\", \"POLQ_15_F29\", \"POLQ_15_F30\", \"POLQ_23_F1\", \"POLQ_15_F10\", \"POLQ_15_F11\", \"POLQ_15_F12\", \"POLQ_15_F13\", \"POLQ_15_F14\", \"POLQ_15_F15\", \"POLQ_15_F16\", \"POLQ_15_F17\", \"POLQ_15_F18\", \"POLQ_15_F19\", \"POLQ_15_F20\", \"POLQ_15_F21\", \"POLQ_15_F22\", \"POLQ_15_F23\", \"POLQ_15_F24\", \"POLQ_15_F25\", \"POLQ_15_F26\", \"POLQ_15_F27\", \"POLQ_15_F28\", \"POLQ_22_F3\", \"POLQ_24_F1\", \"POLQ_23_F2\", \"GMPS_6_F1\", \"GMPS_2_F2\", \"GMPS_2_F3\", \"GMPS_3_F1\", \"GMPS_3_F2\", \"GMPS_4_F1\", \"GMPS_4_F2\", \"GMPS_5_F1\", \"GMPS_5_F2\", \"GMPS_6_F2\", \"GMPS_1_F5\", \"GMPS_6_F3\", \"GMPS_6_F4\", \"GMPS_6_F5\", \"GMPS_6_F6\", \"GMPS_6_F7\", \"GMPS_7_F1\", \"GMPS_7_F2\", \"GMPS_8_F1\", \"GMPS_2_F1\", \"GMPS_1_F4\", \"POLQ_15_F8\", \"POLQ_28_F1\", \"POLQ_24_F2\", \"POLQ_25_F1\", \"POLQ_25_F2\", \"POLQ_25_F3\", \"POLQ_26_F1\", \"POLQ_26_F2\", \"POLQ_27_F1\", \"POLQ_27_F2\", \"POLQ_28_F2\", \"GMPS_1_F3\", \"POLQ_29_F1\", \"POLQ_29_F2\", \"POLQ_29_F3\", \"POLQ_30_F1\", \"POLQ_30_F2\", \"POLQ_30_F3\", \"POLQ_30_F4\", \"GMPS_1_F2\", \"POLQ_15_F9\", \"POLQ_15_F7\", \"GMPS_8_F3\", \"POLQ_15_F6\", \"OGG1_5_F8\", \"OGG1_5_F9\", \"OGG1_5_F10\", \"OGG1_6_F1\", \"OGG1_6_F2\", \"OGG1_7_F1\", \"OGG1_7_F2\", \"OGG1_7_F3\", \"OGG1_7_F4\", \"OGG1_7_F5\", \"OGG1_7_F6\", \"OGG1_7_F7\", \"OGG1_7_F8\", \"OGG1_7_F9\", \"OGG1_7_F10\", \"POLQ_1_F1\", \"POLQ_1_F2\", \"POLQ_1_F3\", \"POLQ_1_F4\", \"OGG1_5_F7\", \"OGG1_5_F6\", \"OGG1_5_F5\", \"OGG1_2_F3\", \"OGG1_1_F1\", \"OGG1_1_F2\", \"OGG1_1_F3\", \"OGG1_1_F4\", \"OGG1_1_F5\", \"OGG1_1_F6\", \"OGG1_2_F1\", \"OGG1_2_F2\", \"OGG1_3_F1\", \"OGG1_5_F4\", \"OGG1_3_F2\", \"OGG1_3_F3\", \"OGG1_4_F1\", \"OGG1_4_F2\", \"OGG1_4_F3\", \"OGG1_5_F1\", \"OGG1_5_F2\", \"OGG1_5_F3\", \"POLQ_1_F5\", \"POLQ_1_F6\", \"POLQ_1_F7\", \"POLQ_13_F1\", \"POLQ_10_F1\", \"POLQ_10_F2\", \"POLQ_11_F1\", \"POLQ_11_F2\", \"POLQ_11_F3\", \"POLQ_12_F1\", \"POLQ_12_F2\", \"POLQ_12_F3\", \"POLQ_13_F2\", \"POLQ_9_F2\", \"POLQ_13_F3\", \"POLQ_14_F1\", \"POLQ_14_F2\", \"POLQ_15_F1\", \"POLQ_15_F2\", \"POLQ_15_F3\", \"POLQ_15_F4\", \"POLQ_15_F5\", \"POLQ_9_F3\", \"POLQ_9_F1\", \"POLQ_1_F8\", \"POLQ_4_F1\", \"POLQ_1_F9\", \"POLQ_1_F10\", \"POLQ_1_F11\", \"POLQ_2_F1\", \"POLQ_2_F2\", \"POLQ_3_F1\", \"POLQ_3_F2\", \"FAT1_23_F34\", \"POLQ_4_F2\", \"POLQ_8_F2\", \"POLQ_5_F1\", \"POLQ_5_F2\", \"POLQ_6_F1\", \"POLQ_6_F2\", \"POLQ_6_F3\", \"POLQ_7_F1\", \"POLQ_7_F2\", \"POLQ_8_F1\", \"GMPS_8_F2\", \"GMPS_9_F1\", \"FAT1_23_F24\", \"FAT1_16_F23\", \"FAT1_16_F25\", \"FAT1_16_F26\", \"FAT1_16_F27\", \"FAT1_16_F28\", \"FAT1_16_F29\", \"FAT1_16_F30\", \"FAT1_16_F31\", \"FAT1_16_F32\", \"FAT1_16_F33\", \"FAT1_16_F34\", \"FAT1_16_F35\", \"FAT1_16_F36\", \"FAT1_16_F37\", \"FAT1_16_F38\", \"FAT1_16_F39\", \"FAT1_16_F40\", \"FAT1_16_F41\", \"FAT1_16_F42\", \"FAT1_17_F1\", \"FAT1_16_F24\", \"FAT1_16_F22\", \"GMPS_9_F2\", \"FAT1_16_F21\", \"FAT1_16_F2\", \"FAT1_16_F3\", \"FAT1_16_F4\", \"FAT1_16_F5\", \"FAT1_16_F6\", \"FAT1_16_F7\", \"FAT1_16_F8\", \"FAT1_16_F9\", \"FAT1_16_F10\", \"FAT1_16_F11\", \"FAT1_16_F12\", \"FAT1_16_F13\", \"FAT1_16_F14\", \"FAT1_16_F15\", \"FAT1_16_F16\", \"FAT1_16_F17\", \"FAT1_16_F18\", \"FAT1_16_F19\", \"FAT1_16_F20\", \"FAT1_17_F2\", \"FAT1_17_F3\", \"FAT1_17_F4\", \"FAT1_17_F5\", \"FAT1_23_F5\", \"FAT1_23_F6\", \"FAT1_23_F7\", \"FAT1_23_F8\", \"FAT1_23_F9\", \"FAT1_23_F10\", \"FAT1_23_F11\", \"FAT1_23_F12\", \"FAT1_23_F13\", \"FAT1_23_F14\", \"FAT1_23_F26\", \"FAT1_23_F16\", \"FAT1_23_F17\", \"FAT1_23_F18\", \"FAT1_23_F19\", \"FAT1_23_F20\", \"FAT1_23_F21\", \"FAT1_23_F22\", \"FAT1_23_F23\", \"FAT1_23_F4\", \"FAT1_23_F3\", \"FAT1_23_F2\", \"FAT1_20_F2\", \"FAT1_17_F6\", \"FAT1_17_F7\", \"FAT1_18_F1\", \"FAT1_18_F2\", \"FAT1_19_F1\", \"FAT1_19_F2\", \"FAT1_19_F3\", \"FAT1_20_F1\", \"FAT1_20_F3\", \"FAT1_23_F1\", \"FAT1_20_F4\", \"FAT1_23_F27\", \"FAT1_21_F1\", \"FAT1_21_F2\", \"FAT1_22_F1\", \"FAT1_22_F2\", \"FAT1_22_F3\", \"FAT1_22_F4\", \"FAT1_16_F1\", \"FAT1_15_F3\", \"FAT1_15_F2\", \"FAT1_5_F1\", \"FAT1_1_F10\", \"FAT1_1_F11\", \"FAT1_1_F12\", \"FAT1_1_F13\", \"FAT1_1_F14\", \"FAT1_1_F15\", \"FAT1_2_F1\", \"FAT1_2_F2\", \"FAT1_3_F1\", \"FAT1_3_F2\", \"FAT1_3_F3\", \"FAT1_3_F4\", \"FAT1_3_F5\", \"FAT1_3_F6\", \"FAT1_3_F7\", \"FAT1_4_F1\", \"FAT1_4_F2\", \"FAT1_4_F3\", \"FAT1_4_F4\", \"FAT1_1_F9\", \"FAT1_1_F8\", \"FAT1_1_F7\", \"GMPS_14_F1\", \"GMPS_10_F1\", \"GMPS_10_F2\", \"GMPS_11_F1\", \"GMPS_11_F2\", \"GMPS_12_F1\", \"POLD1_14_F2\", \"GMPS_13_F1\", \"GMPS_13_F2\", \"GMPS_14_F2\", \"FAT1_1_F6\", \"GMPS_14_F3\", \"GMPS_15_F1\", \"GMPS_15_F2\", \"FAT1_1_F1\", \"FAT1_1_F2\", \"FAT1_1_F3\", \"FAT1_23_F32\", \"FAT1_1_F5\", \"FAT1_4_F5\", \"FAT1_5_F2\", \"FAT1_15_F1\", \"FAT1_5_F3\", \"FAT1_8_F2\", \"FAT1_8_F3\", \"FAT1_9_F1\", \"FAT1_9_F2\", \"FAT1_10_F1\", \"FAT1_10_F2\", \"FAT1_11_F1\", \"FAT1_11_F2\", \"FAT1_11_F3\", \"FAT1_12_F1\", \"FAT1_12_F2\", \"FAT1_12_F3\", \"FAT1_12_F4\", \"FAT1_12_F5\", \"FAT1_13_F1\", \"FAT1_13_F2\", \"FAT1_13_F3\", \"FAT1_14_F1\", \"FAT1_14_F2\", \"FAT1_8_F1\", \"FAT1_7_F12\", \"FAT1_7_F11\", \"FAT1_7_F4\", \"FAT1_5_F4\", \"FAT1_5_F5\", \"FAT1_5_F6\", \"FAT1_6_F1\", \"FAT1_6_F2\", \"FAT1_7_F1\", \"FAT1_7_F2\", \"FAT1_7_F3\", \"FAT1_7_F5\", \"FAT1_7_F10\", \"FAT1_7_F6\", \"FAT1_7_F7\", \"FAT1_7_F8\", \"FAT1_7_F9\", \"FAT1_23_F31\", \"FAT1_23_F30\", \"FAT1_23_F29\", \"FAT1_23_F28\", \"GMPS_12_F2\", \"POLE_1_F1\", \"POLD1_14_F1\", \"POLE_27_F1\", \"POLE_27_F3\", \"POLE_27_F4\", \"POLE_28_F1\", \"POLE_28_F2\", \"POLE_29_F1\", \"POLE_29_F2\", \"POLE_29_F3\", \"POLE_29_F4\", \"POLE_30_F1\", \"POLE_30_F2\", \"POLE_31_F1\", \"POLE_31_F2\", \"FAN1_1_F1\", \"FAN1_1_F2\", \"FAN1_2_F1\", \"FAN1_2_F2\", \"FAN1_2_F3\", \"FAN1_2_F4\", \"FAN1_2_F5\", \"POLE_27_F2\", \"POLE_26_F2\", \"FAN1_2_F7\", \"POLE_26_F1\", \"POLE_20_F7\", \"POLE_21_F1\", \"POLE_21_F2\", \"POLE_22_F1\", \"POLE_22_F2\", \"POLE_22_F3\", \"POLE_23_F1\", \"POLE_23_F2\", \"POLE_24_F1\", \"POLE_24_F2\", \"POLE_25_F1\", \"POLE_25_F2\", \"POLE_25_F3\", \"POLE_25_F4\", \"POLE_25_F5\", \"POLE_25_F6\", \"POLE_25_F7\", \"POLE_25_F8\", \"POLE_25_F9\", \"FAN1_2_F6\", \"FAN1_2_F8\", \"POLD1_13_F3\", \"FAN1_9_F2\", \"FAN1_10_F1\", \"FAN1_10_F2\", \"FAN1_11_F1\", \"FAN1_11_F2\", \"FAN1_12_F1\", \"FAN1_12_F2\", \"FAN1_12_F3\", \"FAN1_13_F1\", \"FAN1_13_F2\", \"FAN1_14_F1\", \"FAN1_14_F2\", \"FAN1_15_F1\", \"FAN1_15_F2\", \"FAN1_15_F3\", \"FAN1_15_F4\", \"FAN1_15_F5\", \"FAN1_15_F6\", \"FAN1_15_F7\", \"FAN1_15_F8\", \"FAN1_9_F3\", \"FAN1_9_F1\", \"FAN1_2_F9\", \"FAN1_8_F2\", \"FAN1_2_F10\", \"FAN1_2_F11\", \"FAN1_2_F12\", \"FAN1_2_F13\", \"FAN1_2_F14\", \"FAN1_2_F15\", \"FAN1_3_F1\", \"FAN1_3_F2\", \"FAN1_4_F1\", \"FAN1_4_F2\", \"FAN1_4_F3\", \"FAN1_5_F1\", \"FAN1_5_F2\", \"FAN1_5_F3\", \"FAN1_6_F1\", \"FAN1_6_F2\", \"FAN1_7_F1\", \"FAN1_7_F2\", \"FAN1_8_F1\", \"POLE_20_F6\", \"POLE_20_F5\", \"POLE_20_F4\", \"POLE_5_F1\", \"POLE_5_F3\", \"POLE_6_F1\", \"POLE_6_F2\", \"POLE_7_F1\", \"POLE_7_F2\", \"POLE_8_F1\", \"POLE_8_F2\", \"POLE_8_F3\", \"POLE_9_F1\", \"POLE_9_F2\", \"POLE_9_F3\", \"POLE_10_F1\", \"POLE_10_F2\", \"POLE_10_F3\", \"POLE_10_F4\", \"POLE_10_F5\", \"POLE_10_F6\", \"POLE_10_F7\", \"POLE_10_F8\", \"POLE_5_F2\", \"POLE_4_F6\", \"POLE_20_F3\", \"POLE_4_F5\", \"POLE_1_F3\", \"POLE_1_F4\", \"POLE_1_F5\", \"POLE_1_F6\", \"POLE_1_F8\", \"POLE_1_F9\", \"POLE_1_F10\", \"POLE_1_F11\", \"POLE_1_F12\", \"POLE_1_F13\", \"POLE_2_F1\", \"POLE_2_F2\", \"POLE_3_F1\", \"POLE_3_F2\", \"POLE_3_F3\", \"POLE_4_F1\", \"POLE_4_F2\", \"POLE_4_F3\", \"POLE_4_F4\", \"POLE_10_F10\", \"POLE_10_F11\", \"POLE_10_F12\", \"POLE_10_F13\", \"POLE_13_F2\", \"POLE_14_F1\", \"POLE_14_F2\", \"POLE_14_F3\", \"POLE_15_F1\", \"POLE_15_F2\", \"POLE_15_F3\", \"POLE_16_F1\", \"POLE_16_F2\", \"POLE_17_F1\", \"POLE_17_F2\", \"POLE_17_F4\", \"POLE_17_F5\", \"POLE_18_F1\", \"POLE_18_F2\", \"POLE_19_F1\", \"POLE_19_F2\", \"POLE_20_F1\", \"POLE_20_F2\", \"POLE_13_F1\", \"POLE_12_F4\", \"POLE_12_F3\", \"POLE_11_F3\", \"POLE_10_F14\", \"POLE_10_F15\", \"POLE_10_F16\", \"POLE_10_F17\", \"POLE_10_F18\", \"POLE_10_F19\", \"POLE_11_F1\", \"POLE_11_F2\", \"POLE_11_F4\", \"POLE_12_F2\", \"POLE_11_F5\", \"POLE_11_F6\", \"POLE_11_F7\", \"POLE_11_F8\", \"POLE_11_F9\", \"POLE_11_F10\", \"POLE_11_F11\", \"POLE_12_F1\", \"FAN1_15_F9\", \"FAN1_15_F10\", \"FAN1_15_F11\", \"RNF43_9_F1\", \"RNF43_9_F3\", \"RNF43_9_F4\", \"RNF43_9_F5\", \"RNF43_9_F6\", \"RNF43_9_F7\", \"POLD1_1_F1\", \"POLD1_1_F2\", \"POLD1_2_F1\", \"POLD1_2_F2\", \"POLD1_2_F3\", \"POLD1_3_F1\", \"POLD1_3_F2\", \"POLD1_4_F1\", \"POLD1_4_F3\", \"POLD1_4_F4\", \"POLD1_4_F5\", \"POLD1_4_F6\", \"POLD1_4_F7\", \"POLD1_4_F8\", \"RNF43_9_F2\", \"RNF43_8_F7\", \"RNF43_2_F12\", \"RNF43_8_F6\", \"RNF43_2_F14\", \"RNF43_3_F1\", \"RNF43_3_F2\", \"RNF43_4_F1\", \"RNF43_4_F2\", \"RNF43_4_F3\", \"RNF43_5_F1\", \"RNF43_5_F2\", \"RNF43_6_F1\", \"RNF43_6_F2\", \"RNF43_6_F3\", \"RNF43_6_F4\", \"RNF43_7_F1\", \"RNF43_7_F2\", \"RNF43_8_F1\", \"RNF43_8_F2\", \"RNF43_8_F3\", \"RNF43_8_F4\", \"RNF43_8_F5\", \"POLD1_4_F9\", \"POLD1_4_F10\", \"POLD1_4_F11\", \"POLD1_5_F1\", \"POLD1_8_F9\", \"POLD1_8_F10\", \"POLD1_9_F1\", \"POLD1_9_F2\", \"POLD1_9_F3\", \"POLD1_9_F4\", \"POLD1_9_F5\", \"POLD1_10_F1\", \"POLD1_10_F2\", \"POLD1_10_F3\", \"POLD1_11_F1\", \"POLD1_11_F2\", \"POLD1_11_F5\", \"POLD1_12_F1\", \"POLD1_12_F2\", \"POLD1_12_F3\", \"POLE_1_F2\", \"POLD1_13_F1\", \"POLD1_13_F2\", \"POLD1_8_F8\", \"POLD1_8_F7\", \"POLD1_8_F6\", \"POLD1_6_F4\", \"POLD1_5_F2\", \"POLD1_5_F3\", \"POLD1_5_F4\", \"POLD1_5_F5\", \"POLD1_5_F6\", \"POLD1_6_F1\", \"POLD1_6_F2\", \"POLD1_6_F3\", \"POLD1_7_F1\", \"POLD1_8_F5\", \"POLD1_7_F2\", \"POLD1_7_F3\", \"POLD1_7_F4\", \"POLD1_7_F5\", \"POLD1_8_F1\", \"POLD1_8_F2\", \"POLD1_8_F3\", \"POLD1_8_F4\", \"RNF43_2_F13\", \"RNF43_2_F11\", \"FAN1_15_F12\", \"TRIP4_7_F3\", \"TRIP4_8_F2\", \"TRIP4_9_F1\", \"TRIP4_9_F2\", \"TRIP4_9_F3\", \"TRIP4_10_F1\", \"TRIP4_10_F2\", \"TRIP4_11_F1\", \"TRIP4_11_F2\", \"TRIP4_12_F1\", \"TRIP4_12_F2\", \"TRIP4_13_F1\", \"TRIP4_13_F2\", \"TRIP4_13_F3\", \"TRIP4_13_F4\", \"NTHL1_1_F1\", \"NTHL1_1_F2\", \"NTHL1_1_F3\", \"NTHL1_1_F4\", \"NTHL1_1_F5\", \"TRIP4_8_F1\", \"TRIP4_7_F2\", \"RNF43_2_F10\", \"TRIP4_7_F1\", \"FAN1_15_F13\", \"FAN1_15_F14\", \"FAN1_15_F15\", \"FAN1_15_F16\", \"TRIP4_1_F1\", \"TRIP4_1_F2\", \"TRIP4_1_F3\", \"TRIP4_2_F1\", \"TRIP4_2_F2\", \"TRIP4_2_F3\", \"TRIP4_3_F1\", \"TRIP4_3_F2\", \"TRIP4_4_F1\", \"TRIP4_4_F2\", \"TRIP4_4_F3\", \"TRIP4_5_F1\", \"TRIP4_5_F2\", \"TRIP4_6_F1\", \"TRIP4_6_F2\", \"NTHL1_2_F1\", \"NTHL1_2_F2\", \"NTHL1_2_F3\", \"NTHL1_3_F1\", \"RNF43_1_F17\", \"RNF43_1_F18\", \"RNF43_1_F19\", \"RNF43_1_F20\", \"RNF43_1_F21\", \"RNF43_1_F22\", \"RNF43_1_F23\", \"RNF43_1_F24\", \"RNF43_1_F25\", \"RNF43_1_F26\", \"RNF43_2_F1\", \"RNF43_2_F2\", \"RNF43_2_F3\", \"RNF43_2_F4\", \"RNF43_2_F5\", \"RNF43_2_F6\", \"RNF43_2_F7\", \"RNF43_2_F8\", \"RNF43_2_F9\", \"RNF43_1_F16\", \"RNF43_1_F15\", \"RNF43_1_F14\", \"RNF43_1_F3\", \"NTHL1_3_F2\", \"NTHL1_3_F3\", \"NTHL1_4_F1\", \"NTHL1_4_F2\", \"NTHL1_4_F3\", \"NTHL1_5_F1\", \"RNF43_1_F1\", \"RNF43_1_F2\", \"RNF43_1_F4\", \"RNF43_1_F13\", \"RNF43_1_F5\", \"RNF43_1_F6\", \"RNF43_1_F7\", \"RNF43_1_F8\", \"RNF43_1_F9\", \"RNF43_1_F10\", \"RNF43_1_F11\", \"RNF43_1_F12\"], \"type\": \"bar\"}], {\"width\": 800, \"title\": \"Per amplicon coverage\", \"yaxis\": {\"titlefont\": {\"color\": \"#7f7f7f\", \"family\": \"Courier New, monospace\", \"size\": 12}, \"title\": \"Percentage of samples with low coverage (<30)\"}, \"xaxis\": {\"titlefont\": {\"color\": \"#7f7f7f\", \"family\": \"Courier New, monospace\", \"size\": 12}, \"autorange\": true, \"title\": \"Amplicons\"}, \"height\": 600}, {\"linkText\": \"Export to plot.ly\", \"showLink\": true})});</script>"
      ],
      "text/vnd.plotly.v1+html": [
       "<div id=\"29345e00-9d9f-411d-b564-f6db890b7a50\" style=\"height: 600px; width: 800px;\" class=\"plotly-graph-div\"></div><script type=\"text/javascript\">require([\"plotly\"], function(Plotly) { window.PLOTLYENV=window.PLOTLYENV || {};window.PLOTLYENV.BASE_URL=\"https://plot.ly\";Plotly.newPlot(\"29345e00-9d9f-411d-b564-f6db890b7a50\", [{\"y\": [100.0, 100.0, 100.0, 100.0, 100.0, 100.0, 100.0, 100.0, 100.0, 100.0, 100.0, 100.0, 100.0, 100.0, 100.0, 100.0, 33.33333333333333, 0.0, 0.0, 0.0, 0.0, 0.0, 0.0, 0.0, 0.0, 0.0, 0.0, 0.0, 0.0, 0.0, 0.0, 0.0, 0.0, 0.0, 0.0, 0.0, 0.0, 0.0, 0.0, 0.0, 0.0, 0.0, 0.0, 0.0, 0.0, 0.0, 0.0, 0.0, 0.0, 0.0, 0.0, 0.0, 0.0, 0.0, 0.0, 0.0, 0.0, 0.0, 0.0, 0.0, 0.0, 0.0, 0.0, 0.0, 0.0, 0.0, 0.0, 0.0, 0.0, 0.0, 0.0, 0.0, 0.0, 0.0, 0.0, 0.0, 0.0, 0.0, 0.0, 0.0, 0.0, 0.0, 0.0, 0.0, 0.0, 0.0, 0.0, 0.0, 0.0, 0.0, 0.0, 0.0, 0.0, 0.0, 0.0, 0.0, 0.0, 0.0, 0.0, 0.0, 0.0, 0.0, 0.0, 0.0, 0.0, 0.0, 0.0, 0.0, 0.0, 0.0, 0.0, 0.0, 0.0, 0.0, 0.0, 0.0, 0.0, 0.0, 0.0, 0.0, 0.0, 0.0, 0.0, 0.0, 0.0, 0.0, 0.0, 0.0, 0.0, 0.0, 0.0, 0.0, 0.0, 0.0, 0.0, 0.0, 0.0, 0.0, 0.0, 0.0, 0.0, 0.0, 0.0, 0.0, 0.0, 0.0, 0.0, 0.0, 0.0, 0.0, 0.0, 0.0, 0.0, 0.0, 0.0, 0.0, 0.0, 0.0, 0.0, 0.0, 0.0, 0.0, 0.0, 0.0, 0.0, 0.0, 0.0, 0.0, 0.0, 0.0, 0.0, 0.0, 0.0, 0.0, 0.0, 0.0, 0.0, 0.0, 0.0, 0.0, 0.0, 0.0, 0.0, 0.0, 0.0, 0.0, 0.0, 0.0, 0.0, 0.0, 0.0, 0.0, 0.0, 0.0, 0.0, 0.0, 0.0, 0.0, 0.0, 0.0, 0.0, 0.0, 0.0, 0.0, 0.0, 0.0, 0.0, 0.0, 0.0, 0.0, 0.0, 0.0, 0.0, 0.0, 0.0, 0.0, 0.0, 0.0, 0.0, 0.0, 0.0, 0.0, 0.0, 0.0, 0.0, 0.0, 0.0, 0.0, 0.0, 0.0, 0.0, 0.0, 0.0, 0.0, 0.0, 0.0, 0.0, 0.0, 0.0, 0.0, 0.0, 0.0, 0.0, 0.0, 0.0, 0.0, 0.0, 0.0, 0.0, 0.0, 0.0, 0.0, 0.0, 0.0, 0.0, 0.0, 0.0, 0.0, 0.0, 0.0, 0.0, 0.0, 0.0, 0.0, 0.0, 0.0, 0.0, 0.0, 0.0, 0.0, 0.0, 0.0, 0.0, 0.0, 0.0, 0.0, 0.0, 0.0, 0.0, 0.0, 0.0, 0.0, 0.0, 0.0, 0.0, 0.0, 0.0, 0.0, 0.0, 0.0, 0.0, 0.0, 0.0, 0.0, 0.0, 0.0, 0.0, 0.0, 0.0, 0.0, 0.0, 0.0, 0.0, 0.0, 0.0, 0.0, 0.0, 0.0, 0.0, 0.0, 0.0, 0.0, 0.0, 0.0, 0.0, 0.0, 0.0, 0.0, 0.0, 0.0, 0.0, 0.0, 0.0, 0.0, 0.0, 0.0, 0.0, 0.0, 0.0, 0.0, 0.0, 0.0, 0.0, 0.0, 0.0, 0.0, 0.0, 0.0, 0.0, 0.0, 0.0, 0.0, 0.0, 0.0, 0.0, 0.0, 0.0, 0.0, 0.0, 0.0, 0.0, 0.0, 0.0, 0.0, 0.0, 0.0, 0.0, 0.0, 0.0, 0.0, 0.0, 0.0, 0.0, 0.0, 0.0, 0.0, 0.0, 0.0, 0.0, 0.0, 0.0, 0.0, 0.0, 0.0, 0.0, 0.0, 0.0, 0.0, 0.0, 0.0, 0.0, 0.0, 0.0, 0.0, 0.0, 0.0, 0.0, 0.0, 0.0, 0.0, 0.0, 0.0, 0.0, 0.0, 0.0, 0.0, 0.0, 0.0, 0.0, 0.0, 0.0, 0.0, 0.0, 0.0, 0.0, 0.0, 0.0, 0.0, 0.0, 0.0, 0.0, 0.0, 0.0, 0.0, 0.0, 0.0, 0.0, 0.0, 0.0, 0.0, 0.0, 0.0, 0.0, 0.0, 0.0, 0.0, 0.0, 0.0, 0.0, 0.0, 0.0, 0.0, 0.0, 0.0, 0.0, 0.0, 0.0, 0.0, 0.0, 0.0, 0.0, 0.0, 0.0, 0.0, 0.0, 0.0, 0.0, 0.0, 0.0, 0.0, 0.0, 0.0, 0.0, 0.0, 0.0, 0.0, 0.0, 0.0, 0.0, 0.0, 0.0, 0.0, 0.0, 0.0, 0.0, 0.0, 0.0, 0.0, 0.0, 0.0, 0.0, 0.0, 0.0, 0.0, 0.0, 0.0, 0.0, 0.0, 0.0, 0.0, 0.0, 0.0, 0.0, 0.0, 0.0, 0.0, 0.0, 0.0, 0.0, 0.0, 0.0, 0.0, 0.0, 0.0, 0.0, 0.0, 0.0, 0.0, 0.0, 0.0, 0.0, 0.0, 0.0, 0.0, 0.0, 0.0, 0.0, 0.0, 0.0, 0.0, 0.0, 0.0, 0.0, 0.0, 0.0, 0.0, 0.0, 0.0, 0.0, 0.0, 0.0, 0.0, 0.0, 0.0, 0.0, 0.0, 0.0, 0.0, 0.0, 0.0, 0.0, 0.0, 0.0, 0.0, 0.0, 0.0, 0.0, 0.0, 0.0, 0.0, 0.0, 0.0, 0.0, 0.0, 0.0, 0.0, 0.0, 0.0, 0.0, 0.0, 0.0, 0.0, 0.0, 0.0, 0.0, 0.0, 0.0, 0.0, 0.0, 0.0, 0.0, 0.0, 0.0, 0.0, 0.0, 0.0, 0.0, 0.0, 0.0, 0.0, 0.0, 0.0, 0.0, 0.0, 0.0, 0.0, 0.0, 0.0, 0.0, 0.0, 0.0, 0.0, 0.0, 0.0, 0.0, 0.0, 0.0, 0.0, 0.0, 0.0, 0.0, 0.0, 0.0, 0.0, 0.0, 0.0, 0.0, 0.0, 0.0, 0.0, 0.0, 0.0, 0.0, 0.0, 0.0, 0.0, 0.0, 0.0, 0.0, 0.0, 0.0, 0.0, 0.0, 0.0, 0.0, 0.0, 0.0, 0.0, 0.0, 0.0, 0.0, 0.0, 0.0, 0.0, 0.0, 0.0, 0.0, 0.0, 0.0, 0.0, 0.0, 0.0, 0.0, 0.0, 0.0, 0.0, 0.0, 0.0, 0.0, 0.0, 0.0, 0.0, 0.0, 0.0, 0.0, 0.0, 0.0, 0.0, 0.0, 0.0, 0.0, 0.0, 0.0, 0.0, 0.0, 0.0, 0.0, 0.0, 0.0, 0.0, 0.0, 0.0, 0.0, 0.0, 0.0, 0.0, 0.0, 0.0, 0.0, 0.0, 0.0, 0.0, 0.0, 0.0, 0.0, 0.0, 0.0, 0.0, 0.0, 0.0, 0.0, 0.0, 0.0, 0.0, 0.0, 0.0, 0.0, 0.0, 0.0, 0.0, 0.0, 0.0, 0.0, 0.0, 0.0, 0.0, 0.0, 0.0, 0.0, 0.0, 0.0, 0.0, 0.0, 0.0, 0.0, 0.0, 0.0, 0.0, 0.0, 0.0, 0.0, 0.0, 0.0, 0.0, 0.0, 0.0, 0.0, 0.0, 0.0, 0.0, 0.0, 0.0, 0.0, 0.0, 0.0, 0.0, 0.0, 0.0, 0.0, 0.0, 0.0, 0.0, 0.0, 0.0, 0.0, 0.0, 0.0, 0.0, 0.0, 0.0], \"x\": [\"FAT1_24_F3\", \"FAT1_23_F15\", \"POLD1_11_F4\", \"POLD1_11_F3\", \"POLD1_4_F2\", \"NTHL1_5_F2\", \"GMPS_1_F1\", \"FAT1_1_F4\", \"POLE_32_F4\", \"POLE_32_F3\", \"POLE_32_F2\", \"POLE_32_F1\", \"POLE_10_F9\", \"POLD1_14_F3\", \"POLE_1_F7\", \"FAT1_24_F2\", \"FAT1_24_F1\", \"FAT1_23_F25\", \"POLQ_19_F1\", \"POLQ_16_F1\", \"POLQ_16_F2\", \"POLQ_16_F3\", \"POLQ_17_F1\", \"POLQ_17_F2\", \"POLQ_18_F1\", \"POLQ_18_F2\", \"POLQ_18_F3\", \"POLQ_19_F2\", \"POLQ_15_F31\", \"POLQ_20_F1\", \"POLQ_20_F2\", \"POLQ_20_F3\", \"POLQ_21_F1\", \"POLQ_21_F2\", \"POLQ_22_F1\", \"FAT1_23_F33\", \"POLQ_22_F2\", \"POLQ_15_F32\", \"POLQ_15_F29\", \"POLQ_15_F30\", \"POLQ_23_F1\", \"POLQ_15_F10\", \"POLQ_15_F11\", \"POLQ_15_F12\", \"POLQ_15_F13\", \"POLQ_15_F14\", \"POLQ_15_F15\", \"POLQ_15_F16\", \"POLQ_15_F17\", \"POLQ_15_F18\", \"POLQ_15_F19\", \"POLQ_15_F20\", \"POLQ_15_F21\", \"POLQ_15_F22\", \"POLQ_15_F23\", \"POLQ_15_F24\", \"POLQ_15_F25\", \"POLQ_15_F26\", \"POLQ_15_F27\", \"POLQ_15_F28\", \"POLQ_22_F3\", \"POLQ_24_F1\", \"POLQ_23_F2\", \"GMPS_6_F1\", \"GMPS_2_F2\", \"GMPS_2_F3\", \"GMPS_3_F1\", \"GMPS_3_F2\", \"GMPS_4_F1\", \"GMPS_4_F2\", \"GMPS_5_F1\", \"GMPS_5_F2\", \"GMPS_6_F2\", \"GMPS_1_F5\", \"GMPS_6_F3\", \"GMPS_6_F4\", \"GMPS_6_F5\", \"GMPS_6_F6\", \"GMPS_6_F7\", \"GMPS_7_F1\", \"GMPS_7_F2\", \"GMPS_8_F1\", \"GMPS_2_F1\", \"GMPS_1_F4\", \"POLQ_15_F8\", \"POLQ_28_F1\", \"POLQ_24_F2\", \"POLQ_25_F1\", \"POLQ_25_F2\", \"POLQ_25_F3\", \"POLQ_26_F1\", \"POLQ_26_F2\", \"POLQ_27_F1\", \"POLQ_27_F2\", \"POLQ_28_F2\", \"GMPS_1_F3\", \"POLQ_29_F1\", \"POLQ_29_F2\", \"POLQ_29_F3\", \"POLQ_30_F1\", \"POLQ_30_F2\", \"POLQ_30_F3\", \"POLQ_30_F4\", \"GMPS_1_F2\", \"POLQ_15_F9\", \"POLQ_15_F7\", \"GMPS_8_F3\", \"POLQ_15_F6\", \"OGG1_5_F8\", \"OGG1_5_F9\", \"OGG1_5_F10\", \"OGG1_6_F1\", \"OGG1_6_F2\", \"OGG1_7_F1\", \"OGG1_7_F2\", \"OGG1_7_F3\", \"OGG1_7_F4\", \"OGG1_7_F5\", \"OGG1_7_F6\", \"OGG1_7_F7\", \"OGG1_7_F8\", \"OGG1_7_F9\", \"OGG1_7_F10\", \"POLQ_1_F1\", \"POLQ_1_F2\", \"POLQ_1_F3\", \"POLQ_1_F4\", \"OGG1_5_F7\", \"OGG1_5_F6\", \"OGG1_5_F5\", \"OGG1_2_F3\", \"OGG1_1_F1\", \"OGG1_1_F2\", \"OGG1_1_F3\", \"OGG1_1_F4\", \"OGG1_1_F5\", \"OGG1_1_F6\", \"OGG1_2_F1\", \"OGG1_2_F2\", \"OGG1_3_F1\", \"OGG1_5_F4\", \"OGG1_3_F2\", \"OGG1_3_F3\", \"OGG1_4_F1\", \"OGG1_4_F2\", \"OGG1_4_F3\", \"OGG1_5_F1\", \"OGG1_5_F2\", \"OGG1_5_F3\", \"POLQ_1_F5\", \"POLQ_1_F6\", \"POLQ_1_F7\", \"POLQ_13_F1\", \"POLQ_10_F1\", \"POLQ_10_F2\", \"POLQ_11_F1\", \"POLQ_11_F2\", \"POLQ_11_F3\", \"POLQ_12_F1\", \"POLQ_12_F2\", \"POLQ_12_F3\", \"POLQ_13_F2\", \"POLQ_9_F2\", \"POLQ_13_F3\", \"POLQ_14_F1\", \"POLQ_14_F2\", \"POLQ_15_F1\", \"POLQ_15_F2\", \"POLQ_15_F3\", \"POLQ_15_F4\", \"POLQ_15_F5\", \"POLQ_9_F3\", \"POLQ_9_F1\", \"POLQ_1_F8\", \"POLQ_4_F1\", \"POLQ_1_F9\", \"POLQ_1_F10\", \"POLQ_1_F11\", \"POLQ_2_F1\", \"POLQ_2_F2\", \"POLQ_3_F1\", \"POLQ_3_F2\", \"FAT1_23_F34\", \"POLQ_4_F2\", \"POLQ_8_F2\", \"POLQ_5_F1\", \"POLQ_5_F2\", \"POLQ_6_F1\", \"POLQ_6_F2\", \"POLQ_6_F3\", \"POLQ_7_F1\", \"POLQ_7_F2\", \"POLQ_8_F1\", \"GMPS_8_F2\", \"GMPS_9_F1\", \"FAT1_23_F24\", \"FAT1_16_F23\", \"FAT1_16_F25\", \"FAT1_16_F26\", \"FAT1_16_F27\", \"FAT1_16_F28\", \"FAT1_16_F29\", \"FAT1_16_F30\", \"FAT1_16_F31\", \"FAT1_16_F32\", \"FAT1_16_F33\", \"FAT1_16_F34\", \"FAT1_16_F35\", \"FAT1_16_F36\", \"FAT1_16_F37\", \"FAT1_16_F38\", \"FAT1_16_F39\", \"FAT1_16_F40\", \"FAT1_16_F41\", \"FAT1_16_F42\", \"FAT1_17_F1\", \"FAT1_16_F24\", \"FAT1_16_F22\", \"GMPS_9_F2\", \"FAT1_16_F21\", \"FAT1_16_F2\", \"FAT1_16_F3\", \"FAT1_16_F4\", \"FAT1_16_F5\", \"FAT1_16_F6\", \"FAT1_16_F7\", \"FAT1_16_F8\", \"FAT1_16_F9\", \"FAT1_16_F10\", \"FAT1_16_F11\", \"FAT1_16_F12\", \"FAT1_16_F13\", \"FAT1_16_F14\", \"FAT1_16_F15\", \"FAT1_16_F16\", \"FAT1_16_F17\", \"FAT1_16_F18\", \"FAT1_16_F19\", \"FAT1_16_F20\", \"FAT1_17_F2\", \"FAT1_17_F3\", \"FAT1_17_F4\", \"FAT1_17_F5\", \"FAT1_23_F5\", \"FAT1_23_F6\", \"FAT1_23_F7\", \"FAT1_23_F8\", \"FAT1_23_F9\", \"FAT1_23_F10\", \"FAT1_23_F11\", \"FAT1_23_F12\", \"FAT1_23_F13\", \"FAT1_23_F14\", \"FAT1_23_F26\", \"FAT1_23_F16\", \"FAT1_23_F17\", \"FAT1_23_F18\", \"FAT1_23_F19\", \"FAT1_23_F20\", \"FAT1_23_F21\", \"FAT1_23_F22\", \"FAT1_23_F23\", \"FAT1_23_F4\", \"FAT1_23_F3\", \"FAT1_23_F2\", \"FAT1_20_F2\", \"FAT1_17_F6\", \"FAT1_17_F7\", \"FAT1_18_F1\", \"FAT1_18_F2\", \"FAT1_19_F1\", \"FAT1_19_F2\", \"FAT1_19_F3\", \"FAT1_20_F1\", \"FAT1_20_F3\", \"FAT1_23_F1\", \"FAT1_20_F4\", \"FAT1_23_F27\", \"FAT1_21_F1\", \"FAT1_21_F2\", \"FAT1_22_F1\", \"FAT1_22_F2\", \"FAT1_22_F3\", \"FAT1_22_F4\", \"FAT1_16_F1\", \"FAT1_15_F3\", \"FAT1_15_F2\", \"FAT1_5_F1\", \"FAT1_1_F10\", \"FAT1_1_F11\", \"FAT1_1_F12\", \"FAT1_1_F13\", \"FAT1_1_F14\", \"FAT1_1_F15\", \"FAT1_2_F1\", \"FAT1_2_F2\", \"FAT1_3_F1\", \"FAT1_3_F2\", \"FAT1_3_F3\", \"FAT1_3_F4\", \"FAT1_3_F5\", \"FAT1_3_F6\", \"FAT1_3_F7\", \"FAT1_4_F1\", \"FAT1_4_F2\", \"FAT1_4_F3\", \"FAT1_4_F4\", \"FAT1_1_F9\", \"FAT1_1_F8\", \"FAT1_1_F7\", \"GMPS_14_F1\", \"GMPS_10_F1\", \"GMPS_10_F2\", \"GMPS_11_F1\", \"GMPS_11_F2\", \"GMPS_12_F1\", \"POLD1_14_F2\", \"GMPS_13_F1\", \"GMPS_13_F2\", \"GMPS_14_F2\", \"FAT1_1_F6\", \"GMPS_14_F3\", \"GMPS_15_F1\", \"GMPS_15_F2\", \"FAT1_1_F1\", \"FAT1_1_F2\", \"FAT1_1_F3\", \"FAT1_23_F32\", \"FAT1_1_F5\", \"FAT1_4_F5\", \"FAT1_5_F2\", \"FAT1_15_F1\", \"FAT1_5_F3\", \"FAT1_8_F2\", \"FAT1_8_F3\", \"FAT1_9_F1\", \"FAT1_9_F2\", \"FAT1_10_F1\", \"FAT1_10_F2\", \"FAT1_11_F1\", \"FAT1_11_F2\", \"FAT1_11_F3\", \"FAT1_12_F1\", \"FAT1_12_F2\", \"FAT1_12_F3\", \"FAT1_12_F4\", \"FAT1_12_F5\", \"FAT1_13_F1\", \"FAT1_13_F2\", \"FAT1_13_F3\", \"FAT1_14_F1\", \"FAT1_14_F2\", \"FAT1_8_F1\", \"FAT1_7_F12\", \"FAT1_7_F11\", \"FAT1_7_F4\", \"FAT1_5_F4\", \"FAT1_5_F5\", \"FAT1_5_F6\", \"FAT1_6_F1\", \"FAT1_6_F2\", \"FAT1_7_F1\", \"FAT1_7_F2\", \"FAT1_7_F3\", \"FAT1_7_F5\", \"FAT1_7_F10\", \"FAT1_7_F6\", \"FAT1_7_F7\", \"FAT1_7_F8\", \"FAT1_7_F9\", \"FAT1_23_F31\", \"FAT1_23_F30\", \"FAT1_23_F29\", \"FAT1_23_F28\", \"GMPS_12_F2\", \"POLE_1_F1\", \"POLD1_14_F1\", \"POLE_27_F1\", \"POLE_27_F3\", \"POLE_27_F4\", \"POLE_28_F1\", \"POLE_28_F2\", \"POLE_29_F1\", \"POLE_29_F2\", \"POLE_29_F3\", \"POLE_29_F4\", \"POLE_30_F1\", \"POLE_30_F2\", \"POLE_31_F1\", \"POLE_31_F2\", \"FAN1_1_F1\", \"FAN1_1_F2\", \"FAN1_2_F1\", \"FAN1_2_F2\", \"FAN1_2_F3\", \"FAN1_2_F4\", \"FAN1_2_F5\", \"POLE_27_F2\", \"POLE_26_F2\", \"FAN1_2_F7\", \"POLE_26_F1\", \"POLE_20_F7\", \"POLE_21_F1\", \"POLE_21_F2\", \"POLE_22_F1\", \"POLE_22_F2\", \"POLE_22_F3\", \"POLE_23_F1\", \"POLE_23_F2\", \"POLE_24_F1\", \"POLE_24_F2\", \"POLE_25_F1\", \"POLE_25_F2\", \"POLE_25_F3\", \"POLE_25_F4\", \"POLE_25_F5\", \"POLE_25_F6\", \"POLE_25_F7\", \"POLE_25_F8\", \"POLE_25_F9\", \"FAN1_2_F6\", \"FAN1_2_F8\", \"POLD1_13_F3\", \"FAN1_9_F2\", \"FAN1_10_F1\", \"FAN1_10_F2\", \"FAN1_11_F1\", \"FAN1_11_F2\", \"FAN1_12_F1\", \"FAN1_12_F2\", \"FAN1_12_F3\", \"FAN1_13_F1\", \"FAN1_13_F2\", \"FAN1_14_F1\", \"FAN1_14_F2\", \"FAN1_15_F1\", \"FAN1_15_F2\", \"FAN1_15_F3\", \"FAN1_15_F4\", \"FAN1_15_F5\", \"FAN1_15_F6\", \"FAN1_15_F7\", \"FAN1_15_F8\", \"FAN1_9_F3\", \"FAN1_9_F1\", \"FAN1_2_F9\", \"FAN1_8_F2\", \"FAN1_2_F10\", \"FAN1_2_F11\", \"FAN1_2_F12\", \"FAN1_2_F13\", \"FAN1_2_F14\", \"FAN1_2_F15\", \"FAN1_3_F1\", \"FAN1_3_F2\", \"FAN1_4_F1\", \"FAN1_4_F2\", \"FAN1_4_F3\", \"FAN1_5_F1\", \"FAN1_5_F2\", \"FAN1_5_F3\", \"FAN1_6_F1\", \"FAN1_6_F2\", \"FAN1_7_F1\", \"FAN1_7_F2\", \"FAN1_8_F1\", \"POLE_20_F6\", \"POLE_20_F5\", \"POLE_20_F4\", \"POLE_5_F1\", \"POLE_5_F3\", \"POLE_6_F1\", \"POLE_6_F2\", \"POLE_7_F1\", \"POLE_7_F2\", \"POLE_8_F1\", \"POLE_8_F2\", \"POLE_8_F3\", \"POLE_9_F1\", \"POLE_9_F2\", \"POLE_9_F3\", \"POLE_10_F1\", \"POLE_10_F2\", \"POLE_10_F3\", \"POLE_10_F4\", \"POLE_10_F5\", \"POLE_10_F6\", \"POLE_10_F7\", \"POLE_10_F8\", \"POLE_5_F2\", \"POLE_4_F6\", \"POLE_20_F3\", \"POLE_4_F5\", \"POLE_1_F3\", \"POLE_1_F4\", \"POLE_1_F5\", \"POLE_1_F6\", \"POLE_1_F8\", \"POLE_1_F9\", \"POLE_1_F10\", \"POLE_1_F11\", \"POLE_1_F12\", \"POLE_1_F13\", \"POLE_2_F1\", \"POLE_2_F2\", \"POLE_3_F1\", \"POLE_3_F2\", \"POLE_3_F3\", \"POLE_4_F1\", \"POLE_4_F2\", \"POLE_4_F3\", \"POLE_4_F4\", \"POLE_10_F10\", \"POLE_10_F11\", \"POLE_10_F12\", \"POLE_10_F13\", \"POLE_13_F2\", \"POLE_14_F1\", \"POLE_14_F2\", \"POLE_14_F3\", \"POLE_15_F1\", \"POLE_15_F2\", \"POLE_15_F3\", \"POLE_16_F1\", \"POLE_16_F2\", \"POLE_17_F1\", \"POLE_17_F2\", \"POLE_17_F4\", \"POLE_17_F5\", \"POLE_18_F1\", \"POLE_18_F2\", \"POLE_19_F1\", \"POLE_19_F2\", \"POLE_20_F1\", \"POLE_20_F2\", \"POLE_13_F1\", \"POLE_12_F4\", \"POLE_12_F3\", \"POLE_11_F3\", \"POLE_10_F14\", \"POLE_10_F15\", \"POLE_10_F16\", \"POLE_10_F17\", \"POLE_10_F18\", \"POLE_10_F19\", \"POLE_11_F1\", \"POLE_11_F2\", \"POLE_11_F4\", \"POLE_12_F2\", \"POLE_11_F5\", \"POLE_11_F6\", \"POLE_11_F7\", \"POLE_11_F8\", \"POLE_11_F9\", \"POLE_11_F10\", \"POLE_11_F11\", \"POLE_12_F1\", \"FAN1_15_F9\", \"FAN1_15_F10\", \"FAN1_15_F11\", \"RNF43_9_F1\", \"RNF43_9_F3\", \"RNF43_9_F4\", \"RNF43_9_F5\", \"RNF43_9_F6\", \"RNF43_9_F7\", \"POLD1_1_F1\", \"POLD1_1_F2\", \"POLD1_2_F1\", \"POLD1_2_F2\", \"POLD1_2_F3\", \"POLD1_3_F1\", \"POLD1_3_F2\", \"POLD1_4_F1\", \"POLD1_4_F3\", \"POLD1_4_F4\", \"POLD1_4_F5\", \"POLD1_4_F6\", \"POLD1_4_F7\", \"POLD1_4_F8\", \"RNF43_9_F2\", \"RNF43_8_F7\", \"RNF43_2_F12\", \"RNF43_8_F6\", \"RNF43_2_F14\", \"RNF43_3_F1\", \"RNF43_3_F2\", \"RNF43_4_F1\", \"RNF43_4_F2\", \"RNF43_4_F3\", \"RNF43_5_F1\", \"RNF43_5_F2\", \"RNF43_6_F1\", \"RNF43_6_F2\", \"RNF43_6_F3\", \"RNF43_6_F4\", \"RNF43_7_F1\", \"RNF43_7_F2\", \"RNF43_8_F1\", \"RNF43_8_F2\", \"RNF43_8_F3\", \"RNF43_8_F4\", \"RNF43_8_F5\", \"POLD1_4_F9\", \"POLD1_4_F10\", \"POLD1_4_F11\", \"POLD1_5_F1\", \"POLD1_8_F9\", \"POLD1_8_F10\", \"POLD1_9_F1\", \"POLD1_9_F2\", \"POLD1_9_F3\", \"POLD1_9_F4\", \"POLD1_9_F5\", \"POLD1_10_F1\", \"POLD1_10_F2\", \"POLD1_10_F3\", \"POLD1_11_F1\", \"POLD1_11_F2\", \"POLD1_11_F5\", \"POLD1_12_F1\", \"POLD1_12_F2\", \"POLD1_12_F3\", \"POLE_1_F2\", \"POLD1_13_F1\", \"POLD1_13_F2\", \"POLD1_8_F8\", \"POLD1_8_F7\", \"POLD1_8_F6\", \"POLD1_6_F4\", \"POLD1_5_F2\", \"POLD1_5_F3\", \"POLD1_5_F4\", \"POLD1_5_F5\", \"POLD1_5_F6\", \"POLD1_6_F1\", \"POLD1_6_F2\", \"POLD1_6_F3\", \"POLD1_7_F1\", \"POLD1_8_F5\", \"POLD1_7_F2\", \"POLD1_7_F3\", \"POLD1_7_F4\", \"POLD1_7_F5\", \"POLD1_8_F1\", \"POLD1_8_F2\", \"POLD1_8_F3\", \"POLD1_8_F4\", \"RNF43_2_F13\", \"RNF43_2_F11\", \"FAN1_15_F12\", \"TRIP4_7_F3\", \"TRIP4_8_F2\", \"TRIP4_9_F1\", \"TRIP4_9_F2\", \"TRIP4_9_F3\", \"TRIP4_10_F1\", \"TRIP4_10_F2\", \"TRIP4_11_F1\", \"TRIP4_11_F2\", \"TRIP4_12_F1\", \"TRIP4_12_F2\", \"TRIP4_13_F1\", \"TRIP4_13_F2\", \"TRIP4_13_F3\", \"TRIP4_13_F4\", \"NTHL1_1_F1\", \"NTHL1_1_F2\", \"NTHL1_1_F3\", \"NTHL1_1_F4\", \"NTHL1_1_F5\", \"TRIP4_8_F1\", \"TRIP4_7_F2\", \"RNF43_2_F10\", \"TRIP4_7_F1\", \"FAN1_15_F13\", \"FAN1_15_F14\", \"FAN1_15_F15\", \"FAN1_15_F16\", \"TRIP4_1_F1\", \"TRIP4_1_F2\", \"TRIP4_1_F3\", \"TRIP4_2_F1\", \"TRIP4_2_F2\", \"TRIP4_2_F3\", \"TRIP4_3_F1\", \"TRIP4_3_F2\", \"TRIP4_4_F1\", \"TRIP4_4_F2\", \"TRIP4_4_F3\", \"TRIP4_5_F1\", \"TRIP4_5_F2\", \"TRIP4_6_F1\", \"TRIP4_6_F2\", \"NTHL1_2_F1\", \"NTHL1_2_F2\", \"NTHL1_2_F3\", \"NTHL1_3_F1\", \"RNF43_1_F17\", \"RNF43_1_F18\", \"RNF43_1_F19\", \"RNF43_1_F20\", \"RNF43_1_F21\", \"RNF43_1_F22\", \"RNF43_1_F23\", \"RNF43_1_F24\", \"RNF43_1_F25\", \"RNF43_1_F26\", \"RNF43_2_F1\", \"RNF43_2_F2\", \"RNF43_2_F3\", \"RNF43_2_F4\", \"RNF43_2_F5\", \"RNF43_2_F6\", \"RNF43_2_F7\", \"RNF43_2_F8\", \"RNF43_2_F9\", \"RNF43_1_F16\", \"RNF43_1_F15\", \"RNF43_1_F14\", \"RNF43_1_F3\", \"NTHL1_3_F2\", \"NTHL1_3_F3\", \"NTHL1_4_F1\", \"NTHL1_4_F2\", \"NTHL1_4_F3\", \"NTHL1_5_F1\", \"RNF43_1_F1\", \"RNF43_1_F2\", \"RNF43_1_F4\", \"RNF43_1_F13\", \"RNF43_1_F5\", \"RNF43_1_F6\", \"RNF43_1_F7\", \"RNF43_1_F8\", \"RNF43_1_F9\", \"RNF43_1_F10\", \"RNF43_1_F11\", \"RNF43_1_F12\"], \"type\": \"bar\"}], {\"width\": 800, \"title\": \"Per amplicon coverage\", \"yaxis\": {\"titlefont\": {\"color\": \"#7f7f7f\", \"family\": \"Courier New, monospace\", \"size\": 12}, \"title\": \"Percentage of samples with low coverage (<30)\"}, \"xaxis\": {\"titlefont\": {\"color\": \"#7f7f7f\", \"family\": \"Courier New, monospace\", \"size\": 12}, \"autorange\": true, \"title\": \"Amplicons\"}, \"height\": 600}, {\"linkText\": \"Export to plot.ly\", \"showLink\": true})});</script>"
      ]
     },
     "metadata": {},
     "output_type": "display_data"
    },
    {
     "data": {
      "application/vnd.plotly.v1+json": {
       "data": [
        {
         "type": "bar",
         "x": [
          "Sample13_GSN-S301.primary.primerclipped.bam",
          "Sample36_GSN-S324.primary.primerclipped.bam",
          "Sample91_GSN-S379.primary.primerclipped.bam"
         ],
         "y": [
          2,
          2,
          2
         ]
        }
       ],
       "layout": {
        "height": 600,
        "title": "Per sample coverage",
        "width": 800,
        "xaxis": {
         "autorange": true,
         "title": "Amplicons",
         "titlefont": {
          "color": "#7f7f7f",
          "family": "Courier New, monospace",
          "size": 12
         }
        },
        "yaxis": {
         "title": "Percentage of amplicons with low coverage (<30)",
         "titlefont": {
          "color": "#7f7f7f",
          "family": "Courier New, monospace",
          "size": 12
         }
        }
       }
      },
      "text/html": [
       "<div id=\"dd73e224-2120-4a64-87df-84b6928f8cf4\" style=\"height: 600px; width: 800px;\" class=\"plotly-graph-div\"></div><script type=\"text/javascript\">require([\"plotly\"], function(Plotly) { window.PLOTLYENV=window.PLOTLYENV || {};window.PLOTLYENV.BASE_URL=\"https://plot.ly\";Plotly.newPlot(\"dd73e224-2120-4a64-87df-84b6928f8cf4\", [{\"y\": [2, 2, 2], \"x\": [\"Sample13_GSN-S301.primary.primerclipped.bam\", \"Sample36_GSN-S324.primary.primerclipped.bam\", \"Sample91_GSN-S379.primary.primerclipped.bam\"], \"type\": \"bar\"}], {\"width\": 800, \"title\": \"Per sample coverage\", \"yaxis\": {\"titlefont\": {\"color\": \"#7f7f7f\", \"family\": \"Courier New, monospace\", \"size\": 12}, \"title\": \"Percentage of amplicons with low coverage (<30)\"}, \"xaxis\": {\"titlefont\": {\"color\": \"#7f7f7f\", \"family\": \"Courier New, monospace\", \"size\": 12}, \"autorange\": true, \"title\": \"Amplicons\"}, \"height\": 600}, {\"linkText\": \"Export to plot.ly\", \"showLink\": true})});</script>"
      ],
      "text/vnd.plotly.v1+html": [
       "<div id=\"dd73e224-2120-4a64-87df-84b6928f8cf4\" style=\"height: 600px; width: 800px;\" class=\"plotly-graph-div\"></div><script type=\"text/javascript\">require([\"plotly\"], function(Plotly) { window.PLOTLYENV=window.PLOTLYENV || {};window.PLOTLYENV.BASE_URL=\"https://plot.ly\";Plotly.newPlot(\"dd73e224-2120-4a64-87df-84b6928f8cf4\", [{\"y\": [2, 2, 2], \"x\": [\"Sample13_GSN-S301.primary.primerclipped.bam\", \"Sample36_GSN-S324.primary.primerclipped.bam\", \"Sample91_GSN-S379.primary.primerclipped.bam\"], \"type\": \"bar\"}], {\"width\": 800, \"title\": \"Per sample coverage\", \"yaxis\": {\"titlefont\": {\"color\": \"#7f7f7f\", \"family\": \"Courier New, monospace\", \"size\": 12}, \"title\": \"Percentage of amplicons with low coverage (<30)\"}, \"xaxis\": {\"titlefont\": {\"color\": \"#7f7f7f\", \"family\": \"Courier New, monospace\", \"size\": 12}, \"autorange\": true, \"title\": \"Amplicons\"}, \"height\": 600}, {\"linkText\": \"Export to plot.ly\", \"showLink\": true})});</script>"
      ]
     },
     "metadata": {},
     "output_type": "display_data"
    }
   ],
   "source": [
    "df = pd.read_csv(coverage_file, sep='\\t', header=0, index_col=\"block\")\n",
    "df = df.drop('chr', 1)\n",
    "df = df.drop('start', 1)\n",
    "df = df.drop('end', 1)\n",
    "df = df.drop('name2', 1)\n",
    "df = df.fillna(-1)\n",
    "\n",
    "# minimum coverage\n",
    "min_cov = 30\n",
    "\n",
    "# df2 = df.head(15)\n",
    "df2 = df\n",
    "# sLength = len(df2['0151030001-B069P34_S1.sort.bam'])\n",
    "\n",
    "############\n",
    "# ADD COLUMN \"l_10\" = PERCENT OF SAMPLES WITH LOW COVERAGE\n",
    "df2 = df2.assign(l_10=df2.apply(lambda x: (1.0*(x < min_cov).sum())/len(x)*100.0, axis=1))\n",
    "df2.sort_values(['l_10'], ascending=[0], inplace=True)\n",
    "############\n",
    "# df2\n",
    "\n",
    "trace0 = go.Bar(\n",
    "    x = df2.index.values[:-1],\n",
    "    y = df2.l_10,\n",
    ")\n",
    "\n",
    "############\n",
    "# ADD ROW \"l_10\" = PERCENT OF SAMPLES WITH LOW COVERAGE\n",
    "df2.drop('l_10', axis=1, inplace=True)\n",
    "# df2.sum(axis=0)\n",
    "# df2.sort_values(['l_10'], ascending=[0], inplace=True)\n",
    "df2.loc['total'] = pd.Series(df2.apply(lambda x: 100*((x < min_cov).sum())/(len(x)), axis=0))\n",
    "############\n",
    "df3 = pd.DataFrame(df2.loc['total'])\n",
    "df3.sort_values('total', ascending=[0], inplace=True)\n",
    "\n",
    "trace1 = go.Bar(\n",
    "    x = df3.index,\n",
    "    y = df3.total,\n",
    ")\n",
    "\n",
    "data = [trace0]\n",
    "\n",
    "title_text_1 = \"Per amplicon coverage\"\n",
    "title_text_2 = \"Per sample coverage\"\n",
    "\n",
    "layout1 = go.Layout(\n",
    "    title = title_text_1,\n",
    "    #autosize=True,\n",
    "    width=800,\n",
    "    height=600,    \n",
    "    xaxis=dict(\n",
    "        autorange=True,\n",
    "        title='Amplicons',\n",
    "        titlefont=dict(\n",
    "            family='Courier New, monospace',\n",
    "            size=12,\n",
    "            color='#7f7f7f'\n",
    "        )\n",
    "    ),\n",
    "    yaxis=dict(\n",
    "        #type='log',\n",
    "        title='Percentage of samples with low coverage (<30)',\n",
    "        titlefont=dict(\n",
    "            family='Courier New, monospace',\n",
    "            size=12,\n",
    "            color='#7f7f7f'\n",
    "        )\n",
    "    )\n",
    ")\n",
    "\n",
    "fig = {\n",
    "    'data': data,\n",
    "    'layout': layout1,        \n",
    "}\n",
    "\n",
    "data = [trace1]\n",
    "\n",
    "layout2 = go.Layout(\n",
    "    title = title_text_2,\n",
    "    #autosize=True,\n",
    "    width=800,\n",
    "    height=600,    \n",
    "    xaxis=dict(\n",
    "        autorange=True,\n",
    "        title='Amplicons',\n",
    "        titlefont=dict(\n",
    "            family='Courier New, monospace',\n",
    "            size=12,\n",
    "            color='#7f7f7f'\n",
    "        )\n",
    "    ),\n",
    "    yaxis=dict(\n",
    "        #type='log',\n",
    "        title='Percentage of amplicons with low coverage (<30)',\n",
    "        titlefont=dict(\n",
    "            family='Courier New, monospace',\n",
    "            size=12,\n",
    "            color='#7f7f7f'\n",
    "        )\n",
    "    )\n",
    ")\n",
    "\n",
    "\n",
    "fig2 = {\n",
    "    'data': data,\n",
    "    'layout': layout2,        \n",
    "}\n",
    "\n",
    "iplot(fig)\n",
    "iplot(fig2)"
   ]
  },
  {
   "cell_type": "code",
   "execution_count": 9,
   "metadata": {
    "collapsed": true
   },
   "outputs": [],
   "source": [
    "# bins = [0, 10, 20, 30, 40, 50, 60, 70, 80, 90, 100000]\n",
    "# group_names = ['10', '20', '30', '40', '50', '60', '70', '80', '90', '100']\n",
    "\n",
    "\n",
    "# for index, row in df_cov.iterrows():\n",
    "#     for sample in samples:\n",
    "#         if(row[sample]<=30):\n",
    "#             df_cov.set_value(index, sample, 0)\n",
    "#         elif(row[sample]>30 and row[sample]<50):\n",
    "#             df_cov.set_value(index, sample, 50)\n",
    "#         else:\n",
    "#             df_cov.set_value(index, sample, 100)\n",
    "\n",
    "# # for column in df_cov.columns:\n",
    "# #     categories = pd.cut(df_cov[column], bins, labels=group_names)\n",
    "# #     df_cov[column] = pd.cut(df_cov[column], bins, labels=group_names)\n",
    "\n",
    "# trace0 = go.Heatmap(\n",
    "#     z = df_cov.values.tolist(),\n",
    "#     y = df_cov.index.values,\n",
    "#     x = list(df_cov),\n",
    "#     opacity = 0.7,\n",
    "#     colorscale = [\n",
    "#         [0.0, 'rgb(0,0,0)'],\n",
    "#         [0.5, 'rgb(0.5,0.094,0.48)'], \n",
    "#         [1.0, 'rgb(1.0,1.0,1.0)']\n",
    "#     ],\n",
    "#     showscale = False\n",
    "# )\n",
    "# data = [trace0]\n",
    "\n",
    "# title_text = \"Per Block Coverage (source: BAM file)\"\n",
    "\n",
    "# layout = go.Layout(\n",
    "#     title = title_text,\n",
    "#     #autosize=True,\n",
    "#     width=800,\n",
    "#     height=600,    \n",
    "#     xaxis=dict(\n",
    "#         autorange=True,\n",
    "#         title='Samples',\n",
    "#         titlefont=dict(\n",
    "#             family='Courier New, monospace',\n",
    "#             size=12,\n",
    "#             color='#7f7f7f'\n",
    "#         )\n",
    "#     ),\n",
    "#     yaxis=dict(\n",
    "#         #type='log',\n",
    "#         title='Coverage',\n",
    "#         titlefont=dict(\n",
    "#             family='Courier New, monospace',\n",
    "#             size=12,\n",
    "#             color='#7f7f7f'\n",
    "#         )\n",
    "#     )\n",
    "# )\n",
    "\n",
    "# fig = {\n",
    "#     'data': data,\n",
    "#     'layout': layout,        \n",
    "# }\n",
    "\n",
    "# iplot(fig)\n"
   ]
  },
  {
   "cell_type": "code",
   "execution_count": 16,
   "metadata": {},
   "outputs": [],
   "source": [
    "# # for gene in ['POLD1', 'POLE', 'RNF43']:        \n",
    "# # for gene in ['POLD1', 'POLE', 'RNF43', 'FAN1', 'FAT1' ]:\n",
    "# df_temp = df_cov.copy()\n",
    "# for gene in gene_list:\n",
    "#     df_temp = df_cov[[gene in s for s in df_cov.index]]\n",
    "#     #df_temp = np.log(df_temp)\n",
    "    \n",
    "#     bins = [0, 10, 20, 30, 40, 50, 60, 70, 80, 90, 100000]\n",
    "#     group_names = ['10', '20', '30', '40', '50', '60', '70', '80', '90', '100']    \n",
    "    \n",
    "#     for index, row in df_temp.iterrows():\n",
    "#         for sample in samples:\n",
    "#             if(row[sample]<=30):\n",
    "#                 df_temp.set_value(index, sample, 0)\n",
    "#             elif(row[sample]>30 and row[sample]<=100):\n",
    "#                 df_temp.set_value(index, sample, 50)\n",
    "#             else:\n",
    "#                 df_temp.set_value(index, sample, 100)\n",
    "    \n",
    "#     #for column in df_temp.columns:\n",
    "#         #categories = pd.cut(df_temp[column], bins, labels=group_names)\n",
    "#         #df_temp[column] = pd.cut(df_temp[column], bins, labels=group_names)\n",
    "    \n",
    "#     trace0 = go.Table(\n",
    "#         header=dict(values=df_temp.columns,\n",
    "#                     fill = dict(color='#C2D4FF'),\n",
    "#                     align = ['left'] * 5),\n",
    "#         cells=dict(values=[df_temp.index.values],\n",
    "#                    fill = dict(color='#F5F8FF'),\n",
    "#                    align = ['left'] * 5)\n",
    "#     )\n",
    "\n",
    "#     data = [trace0]\n",
    "\n",
    "#     title_text = gene + \" - Per Block Coverage (source: BAM file)\"\n",
    "\n",
    "# #     layout = go.Layout(\n",
    "# #         title = title_text,\n",
    "# #         #autosize=True,\n",
    "# #         width=800,\n",
    "# #         height=600,    \n",
    "# #         xaxis=dict(\n",
    "# #             autorange=True,\n",
    "# #             title='Samples',\n",
    "# #             titlefont=dict(\n",
    "# #                 family='Courier New, monospace',\n",
    "# #                 size=12,\n",
    "# #                 color='#7f7f7f'\n",
    "# #             )\n",
    "# #         ),\n",
    "# #         yaxis=dict(\n",
    "# #             #type='log',\n",
    "# #             title='Coverage',\n",
    "# #             titlefont=dict(\n",
    "# #                 family='Courier New, monospace',\n",
    "# #                 size=12,\n",
    "# #                 color='#7f7f7f'\n",
    "# #             )\n",
    "# #         )\n",
    "# #     )\n",
    "    \n",
    "#     fig = {\n",
    "#         'data': data\n",
    "# #         'layout': layout,        \n",
    "#     }\n",
    "\n",
    "#     iplot(fig)"
   ]
  },
  {
   "cell_type": "code",
   "execution_count": null,
   "metadata": {
    "collapsed": true
   },
   "outputs": [],
   "source": []
  }
 ],
 "metadata": {
  "kernelspec": {
   "display_name": "Python 2",
   "language": "python",
   "name": "python2"
  },
  "language_info": {
   "codemirror_mode": {
    "name": "ipython",
    "version": 2
   },
   "file_extension": ".py",
   "mimetype": "text/x-python",
   "name": "python",
   "nbconvert_exporter": "python",
   "pygments_lexer": "ipython2",
   "version": "2.7.14"
  }
 },
 "nbformat": 4,
 "nbformat_minor": 2
}
